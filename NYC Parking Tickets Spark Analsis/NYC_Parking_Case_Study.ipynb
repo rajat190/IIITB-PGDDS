{
 "cells": [
  {
   "cell_type": "markdown",
   "metadata": {},
   "source": [
    "# NYC Parking Tickets Case Study "
   ]
  },
  {
   "cell_type": "code",
   "execution_count": 1,
   "metadata": {},
   "outputs": [],
   "source": [
    "##Creating spark object\n",
    "from pyspark.sql import SparkSession\n",
    "spark = SparkSession.builder.appName(\"parking\").getOrCreate()"
   ]
  },
  {
   "cell_type": "code",
   "execution_count": 2,
   "metadata": {},
   "outputs": [],
   "source": [
    "## Reading the Parking data\n",
    "parking = spark.read.format(\"csv\").option(\"header\", \"true\").option(\"inferSchema\", \"true\").load(\"/common_folder/nyc_parking/Parking_Violations_Issued_-_Fiscal_Year_2017.csv\")"
   ]
  },
  {
   "cell_type": "code",
   "execution_count": 3,
   "metadata": {},
   "outputs": [
    {
     "name": "stdout",
     "output_type": "stream",
     "text": [
      "+--------------+--------+------------------+-------------------+--------------+-----------------+------------+------------------+---------------+--------------+\n",
      "|Summons Number|Plate ID|Registration State|         Issue Date|Violation Code|Vehicle Body Type|Vehicle Make|Violation Precinct|Issuer Precinct|Violation Time|\n",
      "+--------------+--------+------------------+-------------------+--------------+-----------------+------------+------------------+---------------+--------------+\n",
      "|    5092469481| GZH7067|                NY|2016-07-10 00:00:00|             7|             SUBN|       TOYOT|                 0|              0|         0143A|\n",
      "|    5092451658| GZH7067|                NY|2016-07-08 00:00:00|             7|             SUBN|       TOYOT|                 0|              0|         0400P|\n",
      "+--------------+--------+------------------+-------------------+--------------+-----------------+------------+------------------+---------------+--------------+\n",
      "only showing top 2 rows\n",
      "\n"
     ]
    }
   ],
   "source": [
    "parking.show(2)"
   ]
  },
  {
   "cell_type": "code",
   "execution_count": 4,
   "metadata": {},
   "outputs": [],
   "source": [
    "#Importing all sql functions\n",
    "from pyspark.sql.functions import *"
   ]
  },
  {
   "cell_type": "code",
   "execution_count": 5,
   "metadata": {},
   "outputs": [],
   "source": [
    "#Converting Issue Date column from String to Date type and extracting year\n",
    "parking=parking.withColumn(\"Issue Date\",to_date(\"`Issue Date`\", \"yyyy-MM-dd\"))\n",
    "parking=parking.withColumn(\"year_issue\",year(\"`Issue Date`\"))"
   ]
  },
  {
   "cell_type": "code",
   "execution_count": 6,
   "metadata": {},
   "outputs": [],
   "source": [
    "#Creating SQL Temp view from parking dataframe\n",
    "parking.createOrReplaceTempView(\"parking\")"
   ]
  },
  {
   "cell_type": "code",
   "execution_count": 7,
   "metadata": {},
   "outputs": [
    {
     "name": "stdout",
     "output_type": "stream",
     "text": [
      "+----------+----------+\n",
      "|Issue Date|year_issue|\n",
      "+----------+----------+\n",
      "|2016-07-10|      2016|\n",
      "|2016-07-08|      2016|\n",
      "|2016-08-23|      2016|\n",
      "|2017-06-14|      2017|\n",
      "|2016-11-21|      2016|\n",
      "+----------+----------+\n",
      "only showing top 5 rows\n",
      "\n"
     ]
    }
   ],
   "source": [
    "#Checking if year is correctly extracted\n",
    "spark.sql(\"select `Issue Date`, year_issue from parking\").show(5)"
   ]
  },
  {
   "cell_type": "code",
   "execution_count": 8,
   "metadata": {},
   "outputs": [
    {
     "data": {
      "text/plain": [
       "10803028"
      ]
     },
     "execution_count": 8,
     "metadata": {},
     "output_type": "execute_result"
    }
   ],
   "source": [
    "#Let's check total no. of rows\n",
    "parking.count()"
   ]
  },
  {
   "cell_type": "code",
   "execution_count": 9,
   "metadata": {},
   "outputs": [
    {
     "name": "stdout",
     "output_type": "stream",
     "text": [
      "root\n",
      " |-- Summons Number: long (nullable = true)\n",
      " |-- Plate ID: string (nullable = true)\n",
      " |-- Registration State: string (nullable = true)\n",
      " |-- Issue Date: date (nullable = true)\n",
      " |-- Violation Code: integer (nullable = true)\n",
      " |-- Vehicle Body Type: string (nullable = true)\n",
      " |-- Vehicle Make: string (nullable = true)\n",
      " |-- Violation Precinct: integer (nullable = true)\n",
      " |-- Issuer Precinct: integer (nullable = true)\n",
      " |-- Violation Time: string (nullable = true)\n",
      " |-- year_issue: integer (nullable = true)\n",
      "\n"
     ]
    }
   ],
   "source": [
    "#Checking columns in Parking\n",
    "parking.printSchema()"
   ]
  },
  {
   "cell_type": "code",
   "execution_count": 10,
   "metadata": {},
   "outputs": [],
   "source": [
    "#Creating Dataframe where year of Issue date is 2017\n",
    "parking1 = parking.where(col(\"year_issue\") == 2017)"
   ]
  },
  {
   "cell_type": "code",
   "execution_count": 11,
   "metadata": {},
   "outputs": [],
   "source": [
    "#Creating SQL Temp view from parking1 dataframe\n",
    "parking1.createOrReplaceTempView(\"parking1\")"
   ]
  },
  {
   "cell_type": "markdown",
   "metadata": {},
   "source": [
    "## Examine the data"
   ]
  },
  {
   "cell_type": "markdown",
   "metadata": {},
   "source": [
    "### Q1. Find the total number of tickets for the year."
   ]
  },
  {
   "cell_type": "code",
   "execution_count": 12,
   "metadata": {},
   "outputs": [
    {
     "name": "stdout",
     "output_type": "stream",
     "text": [
      "+-------+\n",
      "|  count|\n",
      "+-------+\n",
      "|5431918|\n",
      "+-------+\n",
      "\n"
     ]
    }
   ],
   "source": [
    "#Total No. of tickets in year 2017\n",
    "spark.sql(\"select count(`Summons Number`) as count from parking1\").show()"
   ]
  },
  {
   "cell_type": "markdown",
   "metadata": {},
   "source": [
    "### Q2. Find out the number of unique states from where the cars that got parking tickets came."
   ]
  },
  {
   "cell_type": "code",
   "execution_count": 13,
   "metadata": {},
   "outputs": [
    {
     "name": "stdout",
     "output_type": "stream",
     "text": [
      "+----------------------------------+\n",
      "|count(DISTINCT Registration State)|\n",
      "+----------------------------------+\n",
      "|                                65|\n",
      "+----------------------------------+\n",
      "\n"
     ]
    }
   ],
   "source": [
    "#No. of Unique states\n",
    "spark.sql(\"select count(distinct `Registration State`) from parking1\").show()"
   ]
  },
  {
   "cell_type": "code",
   "execution_count": 14,
   "metadata": {},
   "outputs": [
    {
     "name": "stdout",
     "output_type": "stream",
     "text": [
      "+-------+------------------+----+\n",
      "|  count|Registration State|rank|\n",
      "+-------+------------------+----+\n",
      "|4273951|                NY|   1|\n",
      "| 475825|                NJ|   2|\n",
      "| 140286|                PA|   3|\n",
      "|  70403|                CT|   4|\n",
      "|  69468|                FL|   5|\n",
      "+-------+------------------+----+\n",
      "only showing top 5 rows\n",
      "\n"
     ]
    }
   ],
   "source": [
    "#Checking the top 5 states having highest no. of tickets\n",
    "spark.sql(\"Select *,dense_rank() over (order by a.count desc) as rank from (Select count(*) as count, `Registration State` from parking1 group by `Registration State`) a\").show(5)\n"
   ]
  },
  {
   "cell_type": "code",
   "execution_count": 15,
   "metadata": {},
   "outputs": [],
   "source": [
    "#Replacing '99' with Registration state having maximum entries i.e. NY\n",
    "parking2 = parking1.replace([\"99\"], [\"NY\"], [\"Registration State\"])"
   ]
  },
  {
   "cell_type": "code",
   "execution_count": 16,
   "metadata": {},
   "outputs": [
    {
     "name": "stdout",
     "output_type": "stream",
     "text": [
      "+--------+\n",
      "|count(1)|\n",
      "+--------+\n",
      "|       0|\n",
      "+--------+\n",
      "\n"
     ]
    }
   ],
   "source": [
    "#Checking count of Registration state with value '99'\n",
    "parking2.createOrReplaceTempView(\"parking2\")\n",
    "\n",
    "spark.sql(\"select count(*) from parking2 where `Registration State` = '99'\").show()"
   ]
  },
  {
   "cell_type": "code",
   "execution_count": 17,
   "metadata": {},
   "outputs": [
    {
     "name": "stdout",
     "output_type": "stream",
     "text": [
      "+----------------------------------+\n",
      "|count(DISTINCT Registration State)|\n",
      "+----------------------------------+\n",
      "|                                64|\n",
      "+----------------------------------+\n",
      "\n"
     ]
    }
   ],
   "source": [
    "#Checking no. of unique states again\n",
    "spark.sql(\"select count(distinct `Registration State`) from parking2\").show()"
   ]
  },
  {
   "cell_type": "markdown",
   "metadata": {},
   "source": [
    "## Aggregation tasks"
   ]
  },
  {
   "cell_type": "markdown",
   "metadata": {},
   "source": [
    "### Q1. How often does each violation code occur? Display the frequency of the top five violation codes."
   ]
  },
  {
   "cell_type": "code",
   "execution_count": 18,
   "metadata": {},
   "outputs": [
    {
     "name": "stdout",
     "output_type": "stream",
     "text": [
      "+------+--------------+----+\n",
      "| count|Violation Code|rank|\n",
      "+------+--------------+----+\n",
      "|768087|            21|   1|\n",
      "|662765|            36|   2|\n",
      "|542079|            38|   3|\n",
      "|476664|            14|   4|\n",
      "|319646|            20|   5|\n",
      "+------+--------------+----+\n",
      "only showing top 5 rows\n",
      "\n"
     ]
    }
   ],
   "source": [
    "#Checking the top 5 violation codes\n",
    "#using sql query\n",
    "spark.sql(\"Select *,dense_rank() over (order by a.count desc) as rank from (Select count(*) as count, `Violation Code` from parking2 group by `Violation Code`) a\").show(5)\n"
   ]
  },
  {
   "cell_type": "code",
   "execution_count": 19,
   "metadata": {},
   "outputs": [
    {
     "name": "stdout",
     "output_type": "stream",
     "text": [
      "+--------------+------+\n",
      "|Violation Code| count|\n",
      "+--------------+------+\n",
      "|            21|768087|\n",
      "|            36|662765|\n",
      "|            38|542079|\n",
      "|            14|476664|\n",
      "|            20|319646|\n",
      "+--------------+------+\n",
      "only showing top 5 rows\n",
      "\n"
     ]
    }
   ],
   "source": [
    "#using Python query\n",
    "parking2.groupby(\"`Violation Code`\").agg(count(\"`Violation Code`\").alias(\"count\")).sort(\"count\", ascending=False).show(5)"
   ]
  },
  {
   "cell_type": "markdown",
   "metadata": {},
   "source": [
    "### Q2. How often does each 'vehicle body type' get a parking ticket? How about the 'vehicle make'? "
   ]
  },
  {
   "cell_type": "code",
   "execution_count": 20,
   "metadata": {},
   "outputs": [
    {
     "name": "stdout",
     "output_type": "stream",
     "text": [
      "+-----------------+-------+\n",
      "|Vehicle Body Type|  count|\n",
      "+-----------------+-------+\n",
      "|             SUBN|1883954|\n",
      "|             4DSD|1547312|\n",
      "|              VAN| 724029|\n",
      "|             DELV| 358984|\n",
      "|              SDN| 194197|\n",
      "+-----------------+-------+\n",
      "only showing top 5 rows\n",
      "\n"
     ]
    }
   ],
   "source": [
    "## Top 5 vehicle body type getting max. no. of parking tickets\n",
    "parking2.groupby(\"`Vehicle Body Type`\").agg(count(\"`Vehicle Body Type`\").alias(\"count\")).sort(\"count\", ascending=False).show(5)"
   ]
  },
  {
   "cell_type": "markdown",
   "metadata": {},
   "source": [
    "Vehicle body type 'SUBN' got maximum tickets."
   ]
  },
  {
   "cell_type": "code",
   "execution_count": 21,
   "metadata": {},
   "outputs": [
    {
     "name": "stdout",
     "output_type": "stream",
     "text": [
      "+------------+------+\n",
      "|Vehicle Make| count|\n",
      "+------------+------+\n",
      "|        FORD|636844|\n",
      "|       TOYOT|605291|\n",
      "|       HONDA|538884|\n",
      "|       NISSA|462017|\n",
      "|       CHEVR|356032|\n",
      "+------------+------+\n",
      "only showing top 5 rows\n",
      "\n"
     ]
    }
   ],
   "source": [
    "## Top 5 vehicle make getting max. no. of parking tickets\n",
    "parking2.groupby(\"`Vehicle Make`\").agg(count(\"`Vehicle Make`\").alias(\"count\")).sort(\"count\", ascending=False).show(5)"
   ]
  },
  {
   "cell_type": "markdown",
   "metadata": {},
   "source": [
    "Vehicles having make type as \"FORD\" got maximum no. of tickets."
   ]
  },
  {
   "cell_type": "markdown",
   "metadata": {},
   "source": [
    "### Q3. A precinct is a police station that has a certain zone of the city under its command. Find the (5 highest) frequencies of tickets for each of the following: Violation Precinct, Issuer Precinct."
   ]
  },
  {
   "cell_type": "markdown",
   "metadata": {},
   "source": [
    "#### 1. Violation Precinct"
   ]
  },
  {
   "cell_type": "code",
   "execution_count": 22,
   "metadata": {},
   "outputs": [
    {
     "name": "stdout",
     "output_type": "stream",
     "text": [
      "+------------------+------+\n",
      "|Violation Precinct| count|\n",
      "+------------------+------+\n",
      "|                 0|925596|\n",
      "|                19|274445|\n",
      "|                14|203553|\n",
      "|                 1|174702|\n",
      "|                18|169131|\n",
      "|               114|147444|\n",
      "+------------------+------+\n",
      "only showing top 6 rows\n",
      "\n"
     ]
    }
   ],
   "source": [
    "## Top 6 Violation Precinct having max. no. of parking tickets\n",
    "parking2.groupby(\"`Violation Precinct`\").agg(count(\"`Violation Precinct`\").alias(\"count\")).sort(\"count\", ascending=False).show(6)"
   ]
  },
  {
   "cell_type": "markdown",
   "metadata": {},
   "source": [
    "As maximum no. of tickets are for violation precinct '0' which is an erroneous value, hence Violation Precinct '19' has max. tickets."
   ]
  },
  {
   "cell_type": "markdown",
   "metadata": {},
   "source": [
    "#### 2. Issuer Precinct"
   ]
  },
  {
   "cell_type": "code",
   "execution_count": 23,
   "metadata": {},
   "outputs": [
    {
     "name": "stdout",
     "output_type": "stream",
     "text": [
      "+---------------+-------+\n",
      "|Issuer Precinct|  count|\n",
      "+---------------+-------+\n",
      "|              0|1078406|\n",
      "|             19| 266961|\n",
      "|             14| 200495|\n",
      "|              1| 168740|\n",
      "|             18| 162994|\n",
      "|            114| 144054|\n",
      "+---------------+-------+\n",
      "only showing top 6 rows\n",
      "\n"
     ]
    }
   ],
   "source": [
    "## Top 6 Issuer Precinct having max. no. of parking tickets\n",
    "parking2.groupby(\"`Issuer Precinct`\").agg(count(\"`Issuer Precinct`\").alias(\"count\")).sort(\"count\", ascending=False).show(6)"
   ]
  },
  {
   "cell_type": "markdown",
   "metadata": {},
   "source": [
    "As maximum no. of tickets are for Issuer precinct '0' which is an erroneous value, hence Issuer Precinct '19' has max. tickets."
   ]
  },
  {
   "cell_type": "markdown",
   "metadata": {},
   "source": [
    "### Q4. Find the violation code frequency for three precincts that have issued the most number of tickets. Do these precinct zones have an exceptionally high frequency of certain violation codes? Are these codes common across precincts? "
   ]
  },
  {
   "cell_type": "code",
   "execution_count": 24,
   "metadata": {},
   "outputs": [
    {
     "name": "stdout",
     "output_type": "stream",
     "text": [
      "+---------------+--------------+-----+----+\n",
      "|Issuer Precinct|Violation Code|count|rank|\n",
      "+---------------+--------------+-----+----+\n",
      "|              1|            14|38354|   1|\n",
      "|              1|            16|19081|   2|\n",
      "|              1|            20|15408|   3|\n",
      "|              1|            46|12745|   4|\n",
      "|              1|            38| 8535|   5|\n",
      "|             19|            46|48445|   1|\n",
      "|             19|            38|36386|   2|\n",
      "|             19|            37|36056|   3|\n",
      "|             19|            14|29797|   4|\n",
      "|             19|            21|28415|   5|\n",
      "|             14|            14|45036|   1|\n",
      "|             14|            69|30464|   2|\n",
      "|             14|            31|22555|   3|\n",
      "|             14|            47|18364|   4|\n",
      "|             14|            42|10027|   5|\n",
      "+---------------+--------------+-----+----+\n",
      "\n"
     ]
    }
   ],
   "source": [
    "##Precints that have issued most tickets are 19,14,1\n",
    "spark.sql(\"Select * from (Select *,dense_rank() over (partition by a.`Issuer Precinct` order by a.count desc) as `rank` from (Select `Issuer Precinct`, `Violation Code`, count(*) as count from parking2 where `Issuer Precinct` in (19,14,1) group by `Issuer Precinct`, `Violation Code`)a )b where b.rank <= 5\").show()\n"
   ]
  },
  {
   "cell_type": "markdown",
   "metadata": {},
   "source": [
    "Violation code 14 is common across 19,14,1 precincts and has high frequency."
   ]
  },
  {
   "cell_type": "markdown",
   "metadata": {},
   "source": [
    "### Q5. (a) Find a way to deal with missing values."
   ]
  },
  {
   "cell_type": "code",
   "execution_count": 25,
   "metadata": {},
   "outputs": [
    {
     "name": "stdout",
     "output_type": "stream",
     "text": [
      "+--------+\n",
      "|count(1)|\n",
      "+--------+\n",
      "|      16|\n",
      "+--------+\n",
      "\n"
     ]
    }
   ],
   "source": [
    "#Checking no. of missing values in violation time column\n",
    "#parking2.where(col(\"`Violation Time`\").isNull()).count()\n",
    "spark.sql(\"select count(*) from parking2 where `Violation Time` == 'nan'\").show()\n",
    "#there are 16 missing values in violation time column"
   ]
  },
  {
   "cell_type": "code",
   "execution_count": 26,
   "metadata": {},
   "outputs": [],
   "source": [
    "##Taking only rows where Violation time is not nan\n",
    "parking3 = parking2.filter(parking2[\"`Violation Time`\"] != 'nan')"
   ]
  },
  {
   "cell_type": "code",
   "execution_count": 27,
   "metadata": {},
   "outputs": [
    {
     "name": "stdout",
     "output_type": "stream",
     "text": [
      "+--------+\n",
      "|count(1)|\n",
      "+--------+\n",
      "|       0|\n",
      "+--------+\n",
      "\n"
     ]
    }
   ],
   "source": [
    "#Checking again if there are any nan values in violation time\n",
    "parking3.createOrReplaceTempView(\"parking3\")\n",
    "spark.sql(\"select count(*) from parking3 where `Violation Time` == 'nan'\").show()"
   ]
  },
  {
   "cell_type": "markdown",
   "metadata": {},
   "source": [
    "### Q5. (b) The Violation Time field is specified in a strange format. Find a way to make this a time attribute that you can use to divide into groups."
   ]
  },
  {
   "cell_type": "code",
   "execution_count": 28,
   "metadata": {},
   "outputs": [],
   "source": [
    "##Extracting hour, time and am/pm details from Violation time column\n",
    "func = udf (lambda x : x[0:2])\n",
    "func1 = udf (lambda x : x[2:4])\n",
    "func2 = udf (lambda x : x[-1])\n",
    "parking3 = parking3.withColumn(\"hour_violation\", func(\"`Violation Time`\").cast(IntegerType()))\n",
    "parking3 = parking3.withColumn(\"min_violation\", func1(\"`Violation Time`\").cast(IntegerType()))\n",
    "parking3 = parking3.withColumn(\"AM_PM\", func2(\"`Violation Time`\"))"
   ]
  },
  {
   "cell_type": "code",
   "execution_count": 29,
   "metadata": {},
   "outputs": [],
   "source": [
    "##converting hour_violation in 24hour format\n",
    "hour = udf (lambda x,y : x+12 if y=='P' else x)\n",
    "parking3 = parking3.withColumn(\"hour_violation_24\", hour(\"hour_violation\",\"AM_PM\").cast(IntegerType()))"
   ]
  },
  {
   "cell_type": "code",
   "execution_count": 30,
   "metadata": {},
   "outputs": [
    {
     "name": "stdout",
     "output_type": "stream",
     "text": [
      "root\n",
      " |-- Summons Number: long (nullable = true)\n",
      " |-- Plate ID: string (nullable = true)\n",
      " |-- Registration State: string (nullable = true)\n",
      " |-- Issue Date: date (nullable = true)\n",
      " |-- Violation Code: integer (nullable = true)\n",
      " |-- Vehicle Body Type: string (nullable = true)\n",
      " |-- Vehicle Make: string (nullable = true)\n",
      " |-- Violation Precinct: integer (nullable = true)\n",
      " |-- Issuer Precinct: integer (nullable = true)\n",
      " |-- Violation Time: string (nullable = true)\n",
      " |-- year_issue: integer (nullable = true)\n",
      " |-- hour_violation: integer (nullable = true)\n",
      " |-- min_violation: integer (nullable = true)\n",
      " |-- AM_PM: string (nullable = true)\n",
      " |-- hour_violation_24: integer (nullable = true)\n",
      "\n"
     ]
    }
   ],
   "source": [
    "parking3.printSchema()"
   ]
  },
  {
   "cell_type": "code",
   "execution_count": 31,
   "metadata": {},
   "outputs": [
    {
     "name": "stdout",
     "output_type": "stream",
     "text": [
      "+--------------+-------------+-----+-----------------+\n",
      "|hour_violation|min_violation|AM_PM|hour_violation_24|\n",
      "+--------------+-------------+-----+-----------------+\n",
      "|            11|           20|    A|               11|\n",
      "|             8|           52|    P|               20|\n",
      "|             0|           15|    A|                0|\n",
      "|             5|           25|    A|                5|\n",
      "|             2|           56|    P|               14|\n",
      "+--------------+-------------+-----+-----------------+\n",
      "only showing top 5 rows\n",
      "\n"
     ]
    }
   ],
   "source": [
    "##Checking few rows\n",
    "parking3.createOrReplaceTempView(\"parking3\")\n",
    "spark.sql(\"select hour_violation, min_violation, AM_PM, hour_violation_24 from parking3\").show(5)"
   ]
  },
  {
   "cell_type": "markdown",
   "metadata": {},
   "source": [
    "### Q5. (c) Divide 24 hours into six equal discrete bins of time. Choose the intervals as you see fit. For each of these groups, find the three most commonly occurring violations."
   ]
  },
  {
   "cell_type": "code",
   "execution_count": 32,
   "metadata": {},
   "outputs": [],
   "source": [
    "##Creating 6 bins based on 24hour slot of hour_violation_24\n",
    "def bins(hour_violation_24):\n",
    "    if hour_violation_24 < 5:\n",
    "        return \"Early_Morning\"\n",
    "    elif 5 <= hour_violation_24 < 10:\n",
    "        return \"Morning\"\n",
    "    elif 10 <= hour_violation_24 < 17:\n",
    "        return \"Afternoon\"\n",
    "    elif 17 <= hour_violation_24 < 21:\n",
    "        return \"Evening\"\n",
    "    elif 21 <= hour_violation_24 < 24:\n",
    "        return \"Night\"\n",
    "    else:\n",
    "        return \"Late_Night\"\n",
    "\n",
    "bins_udf = udf(lambda x: bins(x))\n",
    "\n",
    "parking3 = parking3.withColumn(\"Bins\", bins_udf(\"hour_violation_24\"))"
   ]
  },
  {
   "cell_type": "code",
   "execution_count": 33,
   "metadata": {},
   "outputs": [
    {
     "name": "stdout",
     "output_type": "stream",
     "text": [
      "+-------------+--------------+------+----+\n",
      "|         Bins|Violation Code| count|rank|\n",
      "+-------------+--------------+------+----+\n",
      "|      Evening|            38| 61211|   1|\n",
      "|      Evening|             7| 45290|   2|\n",
      "|      Evening|            14| 40214|   3|\n",
      "|      Morning|            21|434446|   1|\n",
      "|      Morning|            36|167209|   2|\n",
      "|      Morning|            14|154628|   3|\n",
      "|   Late_Night|            36|101991|   1|\n",
      "|   Late_Night|            21| 72384|   2|\n",
      "|   Late_Night|            38| 55967|   3|\n",
      "|    Afternoon|            36|388741|   1|\n",
      "|    Afternoon|            38|331487|   2|\n",
      "|    Afternoon|            21|224927|   3|\n",
      "|Early_Morning|            21| 35993|   1|\n",
      "|Early_Morning|            40| 26662|   2|\n",
      "|Early_Morning|            14| 15295|   3|\n",
      "|        Night|             7| 18382|   1|\n",
      "|        Night|            40| 17546|   2|\n",
      "|        Night|            14| 15643|   3|\n",
      "+-------------+--------------+------+----+\n",
      "\n"
     ]
    }
   ],
   "source": [
    "##Checking 3 top most occurring violation codes for each of the bins \n",
    "parking3.createOrReplaceTempView(\"parking3\")\n",
    "spark.sql(\"Select * from (Select *,dense_rank() over (partition by a.Bins order by a.count desc) as `rank` from (Select Bins, `Violation Code`, count(*) as count from parking3 group by Bins, `Violation Code`)a )b where b.rank <= 3\").show()\n"
   ]
  },
  {
   "cell_type": "markdown",
   "metadata": {},
   "source": [
    "Violation codes 21, 14, 38 are most occurring in the bins created."
   ]
  },
  {
   "cell_type": "markdown",
   "metadata": {},
   "source": [
    "### Q5. (d) Now, try another direction. For the three most commonly occurring violation codes, find the most common time of the day."
   ]
  },
  {
   "cell_type": "code",
   "execution_count": 34,
   "metadata": {},
   "outputs": [
    {
     "name": "stdout",
     "output_type": "stream",
     "text": [
      "+--------------+------+\n",
      "|Violation Code| count|\n",
      "+--------------+------+\n",
      "|            21|768087|\n",
      "|            36|662765|\n",
      "|            38|542079|\n",
      "|            14|476664|\n",
      "|            20|319646|\n",
      "+--------------+------+\n",
      "only showing top 5 rows\n",
      "\n"
     ]
    }
   ],
   "source": [
    "##Checking 5 most commonly occurring violation codes\n",
    "parking3.groupby(\"`Violation Code`\").agg(count(\"`Violation Code`\").alias(\"count\")).sort(\"count\", ascending=False).show(5)"
   ]
  },
  {
   "cell_type": "code",
   "execution_count": 35,
   "metadata": {},
   "outputs": [
    {
     "name": "stdout",
     "output_type": "stream",
     "text": [
      "+--------------+---------+------+----+\n",
      "|Violation Code|     Bins| count|rank|\n",
      "+--------------+---------+------+----+\n",
      "|            38|Afternoon|331487|   1|\n",
      "|            21|  Morning|434446|   1|\n",
      "|            36|Afternoon|388741|   1|\n",
      "+--------------+---------+------+----+\n",
      "\n"
     ]
    }
   ],
   "source": [
    "##Checking most common time of day for 3 most commonly occurring violation codes i.e. 21, 36,38\n",
    "spark.sql(\"Select * from (Select *,dense_rank() over (partition by a.`Violation Code` order by a.count desc) as `rank` from (Select `Violation Code`, Bins , count(*) as count from parking3 where `Violation Code` in (21,36,38) group by `Violation Code`, Bins)a )b where b.rank = 1\").show()\n"
   ]
  },
  {
   "cell_type": "markdown",
   "metadata": {},
   "source": [
    "For Violation code 38, 36 most common time is Afternoon.\n",
    "\n",
    "For Violation code 21 most common time is Morning."
   ]
  },
  {
   "cell_type": "markdown",
   "metadata": {},
   "source": [
    "### Q6. (a) Divide the year into a certain number of seasons, and find the frequencies of tickets for each season."
   ]
  },
  {
   "cell_type": "code",
   "execution_count": 36,
   "metadata": {},
   "outputs": [],
   "source": [
    "##Extracting month from Issue Date column\n",
    "parking3=parking3.withColumn(\"month_issue\",month(\"`Issue Date`\"))"
   ]
  },
  {
   "cell_type": "code",
   "execution_count": 37,
   "metadata": {},
   "outputs": [],
   "source": [
    "##Creating seasons based on months from Issue Date\n",
    "def seasons(month_issue):\n",
    "    if 3 <= month_issue < 6:\n",
    "        return \"Spring\"\n",
    "    elif 6 <= month_issue < 9:\n",
    "        return \"Summer\"\n",
    "    elif 9 <= month_issue < 12:\n",
    "        return \"Autumn\"\n",
    "    else:\n",
    "        return \"Winter\"\n",
    "\n",
    "seasons_udf = udf(lambda x: seasons(x))\n",
    "\n",
    "parking3 = parking3.withColumn(\"Seasons\", seasons_udf(\"month_issue\"))"
   ]
  },
  {
   "cell_type": "code",
   "execution_count": 38,
   "metadata": {},
   "outputs": [
    {
     "name": "stdout",
     "output_type": "stream",
     "text": [
      "+-------+-------+\n",
      "|Seasons|  count|\n",
      "+-------+-------+\n",
      "| Spring|2873371|\n",
      "| Winter|1704686|\n",
      "| Summer| 852866|\n",
      "| Autumn|    979|\n",
      "+-------+-------+\n",
      "\n"
     ]
    }
   ],
   "source": [
    "#Finding frequency of tickets in each season\n",
    "parking3.groupby(\"Seasons\").agg(count(\"Seasons\").alias(\"count\")).sort(\"count\", ascending=False).show()"
   ]
  },
  {
   "cell_type": "markdown",
   "metadata": {},
   "source": [
    "### Q6. (b) find the three most common violations for each of these seasons."
   ]
  },
  {
   "cell_type": "code",
   "execution_count": 39,
   "metadata": {},
   "outputs": [
    {
     "name": "stdout",
     "output_type": "stream",
     "text": [
      "+-------+--------------+------+----+\n",
      "|Seasons|Violation Code| count|rank|\n",
      "+-------+--------------+------+----+\n",
      "| Spring|            21|402424|   1|\n",
      "| Spring|            36|344834|   2|\n",
      "| Spring|            38|271167|   3|\n",
      "| Summer|            21|127352|   1|\n",
      "| Summer|            36| 96663|   2|\n",
      "| Summer|            38| 83518|   3|\n",
      "| Autumn|            46|   231|   1|\n",
      "| Autumn|            21|   128|   2|\n",
      "| Autumn|            40|   116|   3|\n",
      "| Winter|            21|238183|   1|\n",
      "| Winter|            36|221268|   2|\n",
      "| Winter|            38|187386|   3|\n",
      "+-------+--------------+------+----+\n",
      "\n"
     ]
    }
   ],
   "source": [
    "## Finding 3 most common violation codes for each of the seasons \n",
    "parking3.createOrReplaceTempView(\"parking3\")\n",
    "spark.sql(\"Select * from (Select *,dense_rank() over (partition by a.Seasons order by a.count desc) as `rank` from (Select Seasons, `Violation Code`, count(*) as count from parking3 group by Seasons, `Violation Code`)a )b where b.rank <= 3\").show()\n"
   ]
  },
  {
   "cell_type": "markdown",
   "metadata": {},
   "source": [
    "### Q7. (a) Find the total occurrences of the three most common violation codes."
   ]
  },
  {
   "cell_type": "code",
   "execution_count": 40,
   "metadata": {},
   "outputs": [
    {
     "name": "stdout",
     "output_type": "stream",
     "text": [
      "+--------------+------+\n",
      "|Violation Code| count|\n",
      "+--------------+------+\n",
      "|            21|768087|\n",
      "|            36|662765|\n",
      "|            38|542079|\n",
      "+--------------+------+\n",
      "\n"
     ]
    }
   ],
   "source": [
    "##21,36, 38 are most common occurring violation codes\n",
    "spark.sql(\"Select `Violation Code`, count(*) as count from parking3 where `Violation Code` in (21,36,38) group by `Violation Code` order by count desc\").show()"
   ]
  },
  {
   "cell_type": "markdown",
   "metadata": {},
   "source": [
    "### Q7. (b),(c) Using information of fines associated with different violation codes, find the total amount collected for the three violation codes with the maximum tickets. State the code that has the highest total collection."
   ]
  },
  {
   "cell_type": "markdown",
   "metadata": {},
   "source": [
    "Total Amount for Violation code 21 = `768087 * 55 = 42244785`\n",
    "\n",
    "Total Amount for Violation code 36 = `662765 * 50 = 33138250`\n",
    "\n",
    "Total Amount for Violation code 38 = `542079 * 50 = 27103950`\n",
    "\n",
    "Violation code 21 has highest total collection."
   ]
  },
  {
   "cell_type": "markdown",
   "metadata": {},
   "source": [
    "### Q7. (d) What can you intuitively infer from these findings?"
   ]
  },
  {
   "cell_type": "markdown",
   "metadata": {},
   "source": [
    "1. Fines collected for Violation code 21(Street Cleaning: No parking where parking is not allowed by sign, street marking or traffic control device) is contributing highest to the revenue of the NYC Police Department.\n",
    "\n",
    "2. In all seasons, frequency of violation code 21 is most in comparison to other violations.\n",
    "\n",
    "3. Max. no. of violations occurred in spring season i.e. March, April, May.\n",
    "\n",
    "4. Vehicle body type 'SUBN' and Vehicle Make 'FORD' got maximum no. of parking tickets."
   ]
  },
  {
   "cell_type": "code",
   "execution_count": 41,
   "metadata": {},
   "outputs": [],
   "source": [
    "## Stopping the spark session\n",
    "spark.stop()"
   ]
  }
 ],
 "metadata": {
  "kernelspec": {
   "display_name": "PySpark",
   "language": "python",
   "name": "pyspark"
  },
  "language_info": {
   "codemirror_mode": {
    "name": "ipython",
    "version": 3
   },
   "file_extension": ".py",
   "mimetype": "text/x-python",
   "name": "python",
   "nbconvert_exporter": "python",
   "pygments_lexer": "ipython3",
   "version": "3.6.5"
  }
 },
 "nbformat": 4,
 "nbformat_minor": 2
}
