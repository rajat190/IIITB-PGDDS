{
 "cells": [
  {
   "cell_type": "markdown",
   "metadata": {},
   "source": [
    "### Project Brief\n",
    "HELP is an NGO is committed to fight poverty and providing the people of backward countries with basic amenities and relief during the time of disasters and natural calamities. \n",
    "CEO of the NGO needs to decide how to use this money strategically and effectively. \n",
    "Significant issues that come while making this decision are mostly related to choosing the countries that are in the direst need of aid.\n",
    "\n",
    "### Goal of data analysis:- \n",
    "Categorize the countries using some socio-economic and health factors that determine the overall development of the country\n",
    "Suggest the countries which the CEO needs to focus on the most\n",
    "\n",
    "### Business objective\n",
    "Cluster the countries by the factors mentioned above.\n",
    "Use dimensionality reduction using PCA to get the visualisations of clusters in a 2-D form\n",
    "\n",
    "\n",
    "\n",
    "### Importing and Merging Data"
   ]
  },
  {
   "cell_type": "code",
   "execution_count": 1,
   "metadata": {},
   "outputs": [],
   "source": [
    "# Importing Pandas and NumPy\n",
    "import pandas as pd\n",
    "import numpy as np"
   ]
  },
  {
   "cell_type": "code",
   "execution_count": 2,
   "metadata": {},
   "outputs": [],
   "source": [
    "# Importing country dataset\n",
    "df_country = pd.read_csv(\"Country-data.csv\")"
   ]
  },
  {
   "cell_type": "markdown",
   "metadata": {},
   "source": [
    "### Let's understand the structure of our dataframe"
   ]
  },
  {
   "cell_type": "code",
   "execution_count": 3,
   "metadata": {},
   "outputs": [
    {
     "data": {
      "text/html": [
       "<div>\n",
       "<style scoped>\n",
       "    .dataframe tbody tr th:only-of-type {\n",
       "        vertical-align: middle;\n",
       "    }\n",
       "\n",
       "    .dataframe tbody tr th {\n",
       "        vertical-align: top;\n",
       "    }\n",
       "\n",
       "    .dataframe thead th {\n",
       "        text-align: right;\n",
       "    }\n",
       "</style>\n",
       "<table border=\"1\" class=\"dataframe\">\n",
       "  <thead>\n",
       "    <tr style=\"text-align: right;\">\n",
       "      <th></th>\n",
       "      <th>country</th>\n",
       "      <th>child_mort</th>\n",
       "      <th>exports</th>\n",
       "      <th>health</th>\n",
       "      <th>imports</th>\n",
       "      <th>income</th>\n",
       "      <th>inflation</th>\n",
       "      <th>life_expec</th>\n",
       "      <th>total_fer</th>\n",
       "      <th>gdpp</th>\n",
       "    </tr>\n",
       "  </thead>\n",
       "  <tbody>\n",
       "    <tr>\n",
       "      <th>0</th>\n",
       "      <td>Afghanistan</td>\n",
       "      <td>90.2</td>\n",
       "      <td>10.0</td>\n",
       "      <td>7.58</td>\n",
       "      <td>44.9</td>\n",
       "      <td>1610</td>\n",
       "      <td>9.44</td>\n",
       "      <td>56.2</td>\n",
       "      <td>5.82</td>\n",
       "      <td>553</td>\n",
       "    </tr>\n",
       "    <tr>\n",
       "      <th>1</th>\n",
       "      <td>Albania</td>\n",
       "      <td>16.6</td>\n",
       "      <td>28.0</td>\n",
       "      <td>6.55</td>\n",
       "      <td>48.6</td>\n",
       "      <td>9930</td>\n",
       "      <td>4.49</td>\n",
       "      <td>76.3</td>\n",
       "      <td>1.65</td>\n",
       "      <td>4090</td>\n",
       "    </tr>\n",
       "    <tr>\n",
       "      <th>2</th>\n",
       "      <td>Algeria</td>\n",
       "      <td>27.3</td>\n",
       "      <td>38.4</td>\n",
       "      <td>4.17</td>\n",
       "      <td>31.4</td>\n",
       "      <td>12900</td>\n",
       "      <td>16.10</td>\n",
       "      <td>76.5</td>\n",
       "      <td>2.89</td>\n",
       "      <td>4460</td>\n",
       "    </tr>\n",
       "    <tr>\n",
       "      <th>3</th>\n",
       "      <td>Angola</td>\n",
       "      <td>119.0</td>\n",
       "      <td>62.3</td>\n",
       "      <td>2.85</td>\n",
       "      <td>42.9</td>\n",
       "      <td>5900</td>\n",
       "      <td>22.40</td>\n",
       "      <td>60.1</td>\n",
       "      <td>6.16</td>\n",
       "      <td>3530</td>\n",
       "    </tr>\n",
       "    <tr>\n",
       "      <th>4</th>\n",
       "      <td>Antigua and Barbuda</td>\n",
       "      <td>10.3</td>\n",
       "      <td>45.5</td>\n",
       "      <td>6.03</td>\n",
       "      <td>58.9</td>\n",
       "      <td>19100</td>\n",
       "      <td>1.44</td>\n",
       "      <td>76.8</td>\n",
       "      <td>2.13</td>\n",
       "      <td>12200</td>\n",
       "    </tr>\n",
       "  </tbody>\n",
       "</table>\n",
       "</div>"
      ],
      "text/plain": [
       "               country  child_mort  exports  health  imports  income  \\\n",
       "0          Afghanistan        90.2     10.0    7.58     44.9    1610   \n",
       "1              Albania        16.6     28.0    6.55     48.6    9930   \n",
       "2              Algeria        27.3     38.4    4.17     31.4   12900   \n",
       "3               Angola       119.0     62.3    2.85     42.9    5900   \n",
       "4  Antigua and Barbuda        10.3     45.5    6.03     58.9   19100   \n",
       "\n",
       "   inflation  life_expec  total_fer   gdpp  \n",
       "0       9.44        56.2       5.82    553  \n",
       "1       4.49        76.3       1.65   4090  \n",
       "2      16.10        76.5       2.89   4460  \n",
       "3      22.40        60.1       6.16   3530  \n",
       "4       1.44        76.8       2.13  12200  "
      ]
     },
     "execution_count": 3,
     "metadata": {},
     "output_type": "execute_result"
    }
   ],
   "source": [
    "# Let's see the head of our country dataset\n",
    "df_country.head()"
   ]
  },
  {
   "cell_type": "code",
   "execution_count": 4,
   "metadata": {},
   "outputs": [
    {
     "data": {
      "text/html": [
       "<div>\n",
       "<style scoped>\n",
       "    .dataframe tbody tr th:only-of-type {\n",
       "        vertical-align: middle;\n",
       "    }\n",
       "\n",
       "    .dataframe tbody tr th {\n",
       "        vertical-align: top;\n",
       "    }\n",
       "\n",
       "    .dataframe thead th {\n",
       "        text-align: right;\n",
       "    }\n",
       "</style>\n",
       "<table border=\"1\" class=\"dataframe\">\n",
       "  <thead>\n",
       "    <tr style=\"text-align: right;\">\n",
       "      <th></th>\n",
       "      <th>child_mort</th>\n",
       "      <th>exports</th>\n",
       "      <th>health</th>\n",
       "      <th>imports</th>\n",
       "      <th>income</th>\n",
       "      <th>inflation</th>\n",
       "      <th>life_expec</th>\n",
       "      <th>total_fer</th>\n",
       "      <th>gdpp</th>\n",
       "    </tr>\n",
       "  </thead>\n",
       "  <tbody>\n",
       "    <tr>\n",
       "      <th>count</th>\n",
       "      <td>167.000000</td>\n",
       "      <td>167.000000</td>\n",
       "      <td>167.000000</td>\n",
       "      <td>167.000000</td>\n",
       "      <td>167.000000</td>\n",
       "      <td>167.000000</td>\n",
       "      <td>167.000000</td>\n",
       "      <td>167.000000</td>\n",
       "      <td>167.000000</td>\n",
       "    </tr>\n",
       "    <tr>\n",
       "      <th>mean</th>\n",
       "      <td>38.270060</td>\n",
       "      <td>41.108976</td>\n",
       "      <td>6.815689</td>\n",
       "      <td>46.890215</td>\n",
       "      <td>17144.688623</td>\n",
       "      <td>7.781832</td>\n",
       "      <td>70.555689</td>\n",
       "      <td>2.947964</td>\n",
       "      <td>12964.155689</td>\n",
       "    </tr>\n",
       "    <tr>\n",
       "      <th>std</th>\n",
       "      <td>40.328931</td>\n",
       "      <td>27.412010</td>\n",
       "      <td>2.746837</td>\n",
       "      <td>24.209589</td>\n",
       "      <td>19278.067698</td>\n",
       "      <td>10.570704</td>\n",
       "      <td>8.893172</td>\n",
       "      <td>1.513848</td>\n",
       "      <td>18328.704809</td>\n",
       "    </tr>\n",
       "    <tr>\n",
       "      <th>min</th>\n",
       "      <td>2.600000</td>\n",
       "      <td>0.109000</td>\n",
       "      <td>1.810000</td>\n",
       "      <td>0.065900</td>\n",
       "      <td>609.000000</td>\n",
       "      <td>-4.210000</td>\n",
       "      <td>32.100000</td>\n",
       "      <td>1.150000</td>\n",
       "      <td>231.000000</td>\n",
       "    </tr>\n",
       "    <tr>\n",
       "      <th>25%</th>\n",
       "      <td>8.250000</td>\n",
       "      <td>23.800000</td>\n",
       "      <td>4.920000</td>\n",
       "      <td>30.200000</td>\n",
       "      <td>3355.000000</td>\n",
       "      <td>1.810000</td>\n",
       "      <td>65.300000</td>\n",
       "      <td>1.795000</td>\n",
       "      <td>1330.000000</td>\n",
       "    </tr>\n",
       "    <tr>\n",
       "      <th>50%</th>\n",
       "      <td>19.300000</td>\n",
       "      <td>35.000000</td>\n",
       "      <td>6.320000</td>\n",
       "      <td>43.300000</td>\n",
       "      <td>9960.000000</td>\n",
       "      <td>5.390000</td>\n",
       "      <td>73.100000</td>\n",
       "      <td>2.410000</td>\n",
       "      <td>4660.000000</td>\n",
       "    </tr>\n",
       "    <tr>\n",
       "      <th>75%</th>\n",
       "      <td>62.100000</td>\n",
       "      <td>51.350000</td>\n",
       "      <td>8.600000</td>\n",
       "      <td>58.750000</td>\n",
       "      <td>22800.000000</td>\n",
       "      <td>10.750000</td>\n",
       "      <td>76.800000</td>\n",
       "      <td>3.880000</td>\n",
       "      <td>14050.000000</td>\n",
       "    </tr>\n",
       "    <tr>\n",
       "      <th>max</th>\n",
       "      <td>208.000000</td>\n",
       "      <td>200.000000</td>\n",
       "      <td>17.900000</td>\n",
       "      <td>174.000000</td>\n",
       "      <td>125000.000000</td>\n",
       "      <td>104.000000</td>\n",
       "      <td>82.800000</td>\n",
       "      <td>7.490000</td>\n",
       "      <td>105000.000000</td>\n",
       "    </tr>\n",
       "  </tbody>\n",
       "</table>\n",
       "</div>"
      ],
      "text/plain": [
       "       child_mort     exports      health     imports         income  \\\n",
       "count  167.000000  167.000000  167.000000  167.000000     167.000000   \n",
       "mean    38.270060   41.108976    6.815689   46.890215   17144.688623   \n",
       "std     40.328931   27.412010    2.746837   24.209589   19278.067698   \n",
       "min      2.600000    0.109000    1.810000    0.065900     609.000000   \n",
       "25%      8.250000   23.800000    4.920000   30.200000    3355.000000   \n",
       "50%     19.300000   35.000000    6.320000   43.300000    9960.000000   \n",
       "75%     62.100000   51.350000    8.600000   58.750000   22800.000000   \n",
       "max    208.000000  200.000000   17.900000  174.000000  125000.000000   \n",
       "\n",
       "        inflation  life_expec   total_fer           gdpp  \n",
       "count  167.000000  167.000000  167.000000     167.000000  \n",
       "mean     7.781832   70.555689    2.947964   12964.155689  \n",
       "std     10.570704    8.893172    1.513848   18328.704809  \n",
       "min     -4.210000   32.100000    1.150000     231.000000  \n",
       "25%      1.810000   65.300000    1.795000    1330.000000  \n",
       "50%      5.390000   73.100000    2.410000    4660.000000  \n",
       "75%     10.750000   76.800000    3.880000   14050.000000  \n",
       "max    104.000000   82.800000    7.490000  105000.000000  "
      ]
     },
     "execution_count": 4,
     "metadata": {},
     "output_type": "execute_result"
    }
   ],
   "source": [
    "df_country.describe()"
   ]
  },
  {
   "cell_type": "code",
   "execution_count": 5,
   "metadata": {},
   "outputs": [
    {
     "name": "stdout",
     "output_type": "stream",
     "text": [
      "<class 'pandas.core.frame.DataFrame'>\n",
      "RangeIndex: 167 entries, 0 to 166\n",
      "Data columns (total 10 columns):\n",
      "country       167 non-null object\n",
      "child_mort    167 non-null float64\n",
      "exports       167 non-null float64\n",
      "health        167 non-null float64\n",
      "imports       167 non-null float64\n",
      "income        167 non-null int64\n",
      "inflation     167 non-null float64\n",
      "life_expec    167 non-null float64\n",
      "total_fer     167 non-null float64\n",
      "gdpp          167 non-null int64\n",
      "dtypes: float64(7), int64(2), object(1)\n",
      "memory usage: 13.1+ KB\n"
     ]
    }
   ],
   "source": [
    "df_country.info()"
   ]
  },
  {
   "cell_type": "markdown",
   "metadata": {},
   "source": [
    "### Data Preparation"
   ]
  },
  {
   "cell_type": "code",
   "execution_count": 6,
   "metadata": {},
   "outputs": [],
   "source": [
    "df_country1 = df_country['country']"
   ]
  },
  {
   "cell_type": "code",
   "execution_count": 7,
   "metadata": {},
   "outputs": [
    {
     "data": {
      "text/plain": [
       "0            Afghanistan\n",
       "1                Albania\n",
       "2                Algeria\n",
       "3                 Angola\n",
       "4    Antigua and Barbuda\n",
       "Name: country, dtype: object"
      ]
     },
     "execution_count": 7,
     "metadata": {},
     "output_type": "execute_result"
    }
   ],
   "source": [
    "df_country1.head()"
   ]
  },
  {
   "cell_type": "markdown",
   "metadata": {},
   "source": [
    "### Checking for Outliers"
   ]
  },
  {
   "cell_type": "code",
   "execution_count": 8,
   "metadata": {},
   "outputs": [],
   "source": [
    "# Checking for outliers in the continuous variables\n",
    "df_country_new = df_country[['child_mort','exports','health','imports', 'income', 'inflation', 'total_fer', 'gdpp']]"
   ]
  },
  {
   "cell_type": "code",
   "execution_count": 9,
   "metadata": {},
   "outputs": [
    {
     "data": {
      "text/html": [
       "<div>\n",
       "<style scoped>\n",
       "    .dataframe tbody tr th:only-of-type {\n",
       "        vertical-align: middle;\n",
       "    }\n",
       "\n",
       "    .dataframe tbody tr th {\n",
       "        vertical-align: top;\n",
       "    }\n",
       "\n",
       "    .dataframe thead th {\n",
       "        text-align: right;\n",
       "    }\n",
       "</style>\n",
       "<table border=\"1\" class=\"dataframe\">\n",
       "  <thead>\n",
       "    <tr style=\"text-align: right;\">\n",
       "      <th></th>\n",
       "      <th>child_mort</th>\n",
       "      <th>exports</th>\n",
       "      <th>health</th>\n",
       "      <th>imports</th>\n",
       "      <th>income</th>\n",
       "      <th>inflation</th>\n",
       "      <th>total_fer</th>\n",
       "      <th>gdpp</th>\n",
       "    </tr>\n",
       "  </thead>\n",
       "  <tbody>\n",
       "    <tr>\n",
       "      <th>count</th>\n",
       "      <td>167.000000</td>\n",
       "      <td>167.000000</td>\n",
       "      <td>167.000000</td>\n",
       "      <td>167.000000</td>\n",
       "      <td>167.000000</td>\n",
       "      <td>167.000000</td>\n",
       "      <td>167.000000</td>\n",
       "      <td>167.000000</td>\n",
       "    </tr>\n",
       "    <tr>\n",
       "      <th>mean</th>\n",
       "      <td>38.270060</td>\n",
       "      <td>41.108976</td>\n",
       "      <td>6.815689</td>\n",
       "      <td>46.890215</td>\n",
       "      <td>17144.688623</td>\n",
       "      <td>7.781832</td>\n",
       "      <td>2.947964</td>\n",
       "      <td>12964.155689</td>\n",
       "    </tr>\n",
       "    <tr>\n",
       "      <th>std</th>\n",
       "      <td>40.328931</td>\n",
       "      <td>27.412010</td>\n",
       "      <td>2.746837</td>\n",
       "      <td>24.209589</td>\n",
       "      <td>19278.067698</td>\n",
       "      <td>10.570704</td>\n",
       "      <td>1.513848</td>\n",
       "      <td>18328.704809</td>\n",
       "    </tr>\n",
       "    <tr>\n",
       "      <th>min</th>\n",
       "      <td>2.600000</td>\n",
       "      <td>0.109000</td>\n",
       "      <td>1.810000</td>\n",
       "      <td>0.065900</td>\n",
       "      <td>609.000000</td>\n",
       "      <td>-4.210000</td>\n",
       "      <td>1.150000</td>\n",
       "      <td>231.000000</td>\n",
       "    </tr>\n",
       "    <tr>\n",
       "      <th>25%</th>\n",
       "      <td>8.250000</td>\n",
       "      <td>23.800000</td>\n",
       "      <td>4.920000</td>\n",
       "      <td>30.200000</td>\n",
       "      <td>3355.000000</td>\n",
       "      <td>1.810000</td>\n",
       "      <td>1.795000</td>\n",
       "      <td>1330.000000</td>\n",
       "    </tr>\n",
       "    <tr>\n",
       "      <th>50%</th>\n",
       "      <td>19.300000</td>\n",
       "      <td>35.000000</td>\n",
       "      <td>6.320000</td>\n",
       "      <td>43.300000</td>\n",
       "      <td>9960.000000</td>\n",
       "      <td>5.390000</td>\n",
       "      <td>2.410000</td>\n",
       "      <td>4660.000000</td>\n",
       "    </tr>\n",
       "    <tr>\n",
       "      <th>75%</th>\n",
       "      <td>62.100000</td>\n",
       "      <td>51.350000</td>\n",
       "      <td>8.600000</td>\n",
       "      <td>58.750000</td>\n",
       "      <td>22800.000000</td>\n",
       "      <td>10.750000</td>\n",
       "      <td>3.880000</td>\n",
       "      <td>14050.000000</td>\n",
       "    </tr>\n",
       "    <tr>\n",
       "      <th>90%</th>\n",
       "      <td>100.220000</td>\n",
       "      <td>70.800000</td>\n",
       "      <td>10.940000</td>\n",
       "      <td>75.420000</td>\n",
       "      <td>41220.000000</td>\n",
       "      <td>16.640000</td>\n",
       "      <td>5.322000</td>\n",
       "      <td>41840.000000</td>\n",
       "    </tr>\n",
       "    <tr>\n",
       "      <th>95%</th>\n",
       "      <td>116.000000</td>\n",
       "      <td>80.570000</td>\n",
       "      <td>11.570000</td>\n",
       "      <td>81.140000</td>\n",
       "      <td>48290.000000</td>\n",
       "      <td>20.870000</td>\n",
       "      <td>5.861000</td>\n",
       "      <td>48610.000000</td>\n",
       "    </tr>\n",
       "    <tr>\n",
       "      <th>99%</th>\n",
       "      <td>153.400000</td>\n",
       "      <td>160.480000</td>\n",
       "      <td>13.474000</td>\n",
       "      <td>146.080000</td>\n",
       "      <td>84374.000000</td>\n",
       "      <td>41.478000</td>\n",
       "      <td>6.563600</td>\n",
       "      <td>79088.000000</td>\n",
       "    </tr>\n",
       "    <tr>\n",
       "      <th>max</th>\n",
       "      <td>208.000000</td>\n",
       "      <td>200.000000</td>\n",
       "      <td>17.900000</td>\n",
       "      <td>174.000000</td>\n",
       "      <td>125000.000000</td>\n",
       "      <td>104.000000</td>\n",
       "      <td>7.490000</td>\n",
       "      <td>105000.000000</td>\n",
       "    </tr>\n",
       "  </tbody>\n",
       "</table>\n",
       "</div>"
      ],
      "text/plain": [
       "       child_mort     exports      health     imports         income  \\\n",
       "count  167.000000  167.000000  167.000000  167.000000     167.000000   \n",
       "mean    38.270060   41.108976    6.815689   46.890215   17144.688623   \n",
       "std     40.328931   27.412010    2.746837   24.209589   19278.067698   \n",
       "min      2.600000    0.109000    1.810000    0.065900     609.000000   \n",
       "25%      8.250000   23.800000    4.920000   30.200000    3355.000000   \n",
       "50%     19.300000   35.000000    6.320000   43.300000    9960.000000   \n",
       "75%     62.100000   51.350000    8.600000   58.750000   22800.000000   \n",
       "90%    100.220000   70.800000   10.940000   75.420000   41220.000000   \n",
       "95%    116.000000   80.570000   11.570000   81.140000   48290.000000   \n",
       "99%    153.400000  160.480000   13.474000  146.080000   84374.000000   \n",
       "max    208.000000  200.000000   17.900000  174.000000  125000.000000   \n",
       "\n",
       "        inflation   total_fer           gdpp  \n",
       "count  167.000000  167.000000     167.000000  \n",
       "mean     7.781832    2.947964   12964.155689  \n",
       "std     10.570704    1.513848   18328.704809  \n",
       "min     -4.210000    1.150000     231.000000  \n",
       "25%      1.810000    1.795000    1330.000000  \n",
       "50%      5.390000    2.410000    4660.000000  \n",
       "75%     10.750000    3.880000   14050.000000  \n",
       "90%     16.640000    5.322000   41840.000000  \n",
       "95%     20.870000    5.861000   48610.000000  \n",
       "99%     41.478000    6.563600   79088.000000  \n",
       "max    104.000000    7.490000  105000.000000  "
      ]
     },
     "execution_count": 9,
     "metadata": {},
     "output_type": "execute_result"
    }
   ],
   "source": [
    "# Checking outliers at 25%,50%,75%,90%,95% and 99%\n",
    "df_country_new.describe(percentiles=[.25,.5,.75,.90,.95,.99])"
   ]
  },
  {
   "cell_type": "code",
   "execution_count": 10,
   "metadata": {},
   "outputs": [
    {
     "data": {
      "text/plain": [
       "country       0.0\n",
       "child_mort    0.0\n",
       "exports       0.0\n",
       "health        0.0\n",
       "imports       0.0\n",
       "income        0.0\n",
       "inflation     0.0\n",
       "life_expec    0.0\n",
       "total_fer     0.0\n",
       "gdpp          0.0\n",
       "dtype: float64"
      ]
     },
     "execution_count": 10,
     "metadata": {},
     "output_type": "execute_result"
    }
   ],
   "source": [
    "# Checking the percentage of missing values\n",
    "round(100*(df_country.isnull().sum()/len((df_country).index)), 2)"
   ]
  },
  {
   "cell_type": "markdown",
   "metadata": {},
   "source": [
    "### Feature Standardisation"
   ]
  },
  {
   "cell_type": "code",
   "execution_count": 11,
   "metadata": {},
   "outputs": [],
   "source": [
    "# Normalising continuous features\n",
    "df = df_country[['child_mort','exports', 'health', 'imports', 'income', 'inflation', 'life_expec', 'total_fer', 'gdpp']]"
   ]
  },
  {
   "cell_type": "code",
   "execution_count": 12,
   "metadata": {},
   "outputs": [
    {
     "data": {
      "text/html": [
       "<div>\n",
       "<style scoped>\n",
       "    .dataframe tbody tr th:only-of-type {\n",
       "        vertical-align: middle;\n",
       "    }\n",
       "\n",
       "    .dataframe tbody tr th {\n",
       "        vertical-align: top;\n",
       "    }\n",
       "\n",
       "    .dataframe thead th {\n",
       "        text-align: right;\n",
       "    }\n",
       "</style>\n",
       "<table border=\"1\" class=\"dataframe\">\n",
       "  <thead>\n",
       "    <tr style=\"text-align: right;\">\n",
       "      <th></th>\n",
       "      <th>country</th>\n",
       "      <th>child_mort</th>\n",
       "      <th>exports</th>\n",
       "      <th>health</th>\n",
       "      <th>imports</th>\n",
       "      <th>income</th>\n",
       "      <th>inflation</th>\n",
       "      <th>life_expec</th>\n",
       "      <th>total_fer</th>\n",
       "      <th>gdpp</th>\n",
       "    </tr>\n",
       "  </thead>\n",
       "  <tbody>\n",
       "    <tr>\n",
       "      <th>0</th>\n",
       "      <td>Afghanistan</td>\n",
       "      <td>1.287660</td>\n",
       "      <td>-1.134867</td>\n",
       "      <td>0.278251</td>\n",
       "      <td>-0.082208</td>\n",
       "      <td>-0.805822</td>\n",
       "      <td>0.156864</td>\n",
       "      <td>-1.614237</td>\n",
       "      <td>1.897176</td>\n",
       "      <td>-0.677143</td>\n",
       "    </tr>\n",
       "    <tr>\n",
       "      <th>1</th>\n",
       "      <td>Albania</td>\n",
       "      <td>-0.537333</td>\n",
       "      <td>-0.478220</td>\n",
       "      <td>-0.096725</td>\n",
       "      <td>0.070624</td>\n",
       "      <td>-0.374243</td>\n",
       "      <td>-0.311411</td>\n",
       "      <td>0.645924</td>\n",
       "      <td>-0.857394</td>\n",
       "      <td>-0.484167</td>\n",
       "    </tr>\n",
       "    <tr>\n",
       "      <th>2</th>\n",
       "      <td>Algeria</td>\n",
       "      <td>-0.272015</td>\n",
       "      <td>-0.098824</td>\n",
       "      <td>-0.963176</td>\n",
       "      <td>-0.639838</td>\n",
       "      <td>-0.220182</td>\n",
       "      <td>0.786908</td>\n",
       "      <td>0.668413</td>\n",
       "      <td>-0.038289</td>\n",
       "      <td>-0.463980</td>\n",
       "    </tr>\n",
       "    <tr>\n",
       "      <th>3</th>\n",
       "      <td>Angola</td>\n",
       "      <td>2.001787</td>\n",
       "      <td>0.773056</td>\n",
       "      <td>-1.443729</td>\n",
       "      <td>-0.164820</td>\n",
       "      <td>-0.583289</td>\n",
       "      <td>1.382894</td>\n",
       "      <td>-1.175698</td>\n",
       "      <td>2.121770</td>\n",
       "      <td>-0.514720</td>\n",
       "    </tr>\n",
       "    <tr>\n",
       "      <th>4</th>\n",
       "      <td>Antigua and Barbuda</td>\n",
       "      <td>-0.693548</td>\n",
       "      <td>0.160186</td>\n",
       "      <td>-0.286034</td>\n",
       "      <td>0.496076</td>\n",
       "      <td>0.101427</td>\n",
       "      <td>-0.599944</td>\n",
       "      <td>0.702147</td>\n",
       "      <td>-0.540321</td>\n",
       "      <td>-0.041692</td>\n",
       "    </tr>\n",
       "  </tbody>\n",
       "</table>\n",
       "</div>"
      ],
      "text/plain": [
       "               country  child_mort   exports    health   imports    income  \\\n",
       "0          Afghanistan    1.287660 -1.134867  0.278251 -0.082208 -0.805822   \n",
       "1              Albania   -0.537333 -0.478220 -0.096725  0.070624 -0.374243   \n",
       "2              Algeria   -0.272015 -0.098824 -0.963176 -0.639838 -0.220182   \n",
       "3               Angola    2.001787  0.773056 -1.443729 -0.164820 -0.583289   \n",
       "4  Antigua and Barbuda   -0.693548  0.160186 -0.286034  0.496076  0.101427   \n",
       "\n",
       "   inflation  life_expec  total_fer      gdpp  \n",
       "0   0.156864   -1.614237   1.897176 -0.677143  \n",
       "1  -0.311411    0.645924  -0.857394 -0.484167  \n",
       "2   0.786908    0.668413  -0.038289 -0.463980  \n",
       "3   1.382894   -1.175698   2.121770 -0.514720  \n",
       "4  -0.599944    0.702147  -0.540321 -0.041692  "
      ]
     },
     "execution_count": 12,
     "metadata": {},
     "output_type": "execute_result"
    }
   ],
   "source": [
    "normalized_df=(df-df.mean())/df.std()\n",
    "df_country = df_country.drop(['child_mort','exports', 'health', 'imports', 'income', 'inflation', 'life_expec', 'total_fer', 'gdpp'], 1)\n",
    "df_country = pd.concat([df_country,normalized_df],axis=1)\n",
    "df_country.head()"
   ]
  },
  {
   "cell_type": "code",
   "execution_count": 13,
   "metadata": {},
   "outputs": [],
   "source": [
    "df_country_original = df_country"
   ]
  },
  {
   "cell_type": "code",
   "execution_count": 14,
   "metadata": {},
   "outputs": [
    {
     "data": {
      "text/html": [
       "<div>\n",
       "<style scoped>\n",
       "    .dataframe tbody tr th:only-of-type {\n",
       "        vertical-align: middle;\n",
       "    }\n",
       "\n",
       "    .dataframe tbody tr th {\n",
       "        vertical-align: top;\n",
       "    }\n",
       "\n",
       "    .dataframe thead th {\n",
       "        text-align: right;\n",
       "    }\n",
       "</style>\n",
       "<table border=\"1\" class=\"dataframe\">\n",
       "  <thead>\n",
       "    <tr style=\"text-align: right;\">\n",
       "      <th></th>\n",
       "      <th>country</th>\n",
       "      <th>child_mort</th>\n",
       "      <th>exports</th>\n",
       "      <th>health</th>\n",
       "      <th>imports</th>\n",
       "      <th>income</th>\n",
       "      <th>inflation</th>\n",
       "      <th>life_expec</th>\n",
       "      <th>total_fer</th>\n",
       "      <th>gdpp</th>\n",
       "    </tr>\n",
       "  </thead>\n",
       "  <tbody>\n",
       "    <tr>\n",
       "      <th>0</th>\n",
       "      <td>Afghanistan</td>\n",
       "      <td>1.287660</td>\n",
       "      <td>-1.134867</td>\n",
       "      <td>0.278251</td>\n",
       "      <td>-0.082208</td>\n",
       "      <td>-0.805822</td>\n",
       "      <td>0.156864</td>\n",
       "      <td>-1.614237</td>\n",
       "      <td>1.897176</td>\n",
       "      <td>-0.677143</td>\n",
       "    </tr>\n",
       "    <tr>\n",
       "      <th>1</th>\n",
       "      <td>Albania</td>\n",
       "      <td>-0.537333</td>\n",
       "      <td>-0.478220</td>\n",
       "      <td>-0.096725</td>\n",
       "      <td>0.070624</td>\n",
       "      <td>-0.374243</td>\n",
       "      <td>-0.311411</td>\n",
       "      <td>0.645924</td>\n",
       "      <td>-0.857394</td>\n",
       "      <td>-0.484167</td>\n",
       "    </tr>\n",
       "    <tr>\n",
       "      <th>2</th>\n",
       "      <td>Algeria</td>\n",
       "      <td>-0.272015</td>\n",
       "      <td>-0.098824</td>\n",
       "      <td>-0.963176</td>\n",
       "      <td>-0.639838</td>\n",
       "      <td>-0.220182</td>\n",
       "      <td>0.786908</td>\n",
       "      <td>0.668413</td>\n",
       "      <td>-0.038289</td>\n",
       "      <td>-0.463980</td>\n",
       "    </tr>\n",
       "    <tr>\n",
       "      <th>3</th>\n",
       "      <td>Angola</td>\n",
       "      <td>2.001787</td>\n",
       "      <td>0.773056</td>\n",
       "      <td>-1.443729</td>\n",
       "      <td>-0.164820</td>\n",
       "      <td>-0.583289</td>\n",
       "      <td>1.382894</td>\n",
       "      <td>-1.175698</td>\n",
       "      <td>2.121770</td>\n",
       "      <td>-0.514720</td>\n",
       "    </tr>\n",
       "    <tr>\n",
       "      <th>4</th>\n",
       "      <td>Antigua and Barbuda</td>\n",
       "      <td>-0.693548</td>\n",
       "      <td>0.160186</td>\n",
       "      <td>-0.286034</td>\n",
       "      <td>0.496076</td>\n",
       "      <td>0.101427</td>\n",
       "      <td>-0.599944</td>\n",
       "      <td>0.702147</td>\n",
       "      <td>-0.540321</td>\n",
       "      <td>-0.041692</td>\n",
       "    </tr>\n",
       "  </tbody>\n",
       "</table>\n",
       "</div>"
      ],
      "text/plain": [
       "               country  child_mort   exports    health   imports    income  \\\n",
       "0          Afghanistan    1.287660 -1.134867  0.278251 -0.082208 -0.805822   \n",
       "1              Albania   -0.537333 -0.478220 -0.096725  0.070624 -0.374243   \n",
       "2              Algeria   -0.272015 -0.098824 -0.963176 -0.639838 -0.220182   \n",
       "3               Angola    2.001787  0.773056 -1.443729 -0.164820 -0.583289   \n",
       "4  Antigua and Barbuda   -0.693548  0.160186 -0.286034  0.496076  0.101427   \n",
       "\n",
       "   inflation  life_expec  total_fer      gdpp  \n",
       "0   0.156864   -1.614237   1.897176 -0.677143  \n",
       "1  -0.311411    0.645924  -0.857394 -0.484167  \n",
       "2   0.786908    0.668413  -0.038289 -0.463980  \n",
       "3   1.382894   -1.175698   2.121770 -0.514720  \n",
       "4  -0.599944    0.702147  -0.540321 -0.041692  "
      ]
     },
     "execution_count": 14,
     "metadata": {},
     "output_type": "execute_result"
    }
   ],
   "source": [
    "df_country_original.head()"
   ]
  },
  {
   "cell_type": "markdown",
   "metadata": {},
   "source": [
    "## Model Building"
   ]
  },
  {
   "cell_type": "code",
   "execution_count": 15,
   "metadata": {},
   "outputs": [],
   "source": [
    "# Dropping country column\n",
    "df_country = df_country.drop(['country'],axis=1)"
   ]
  },
  {
   "cell_type": "markdown",
   "metadata": {},
   "source": [
    "### Running Your First Training Model"
   ]
  },
  {
   "cell_type": "code",
   "execution_count": 16,
   "metadata": {},
   "outputs": [
    {
     "data": {
      "text/html": [
       "<div>\n",
       "<style scoped>\n",
       "    .dataframe tbody tr th:only-of-type {\n",
       "        vertical-align: middle;\n",
       "    }\n",
       "\n",
       "    .dataframe tbody tr th {\n",
       "        vertical-align: top;\n",
       "    }\n",
       "\n",
       "    .dataframe thead th {\n",
       "        text-align: right;\n",
       "    }\n",
       "</style>\n",
       "<table border=\"1\" class=\"dataframe\">\n",
       "  <thead>\n",
       "    <tr style=\"text-align: right;\">\n",
       "      <th></th>\n",
       "      <th>child_mort</th>\n",
       "      <th>exports</th>\n",
       "      <th>health</th>\n",
       "      <th>imports</th>\n",
       "      <th>income</th>\n",
       "      <th>inflation</th>\n",
       "      <th>life_expec</th>\n",
       "      <th>total_fer</th>\n",
       "      <th>gdpp</th>\n",
       "    </tr>\n",
       "  </thead>\n",
       "  <tbody>\n",
       "    <tr>\n",
       "      <th>0</th>\n",
       "      <td>1.287660</td>\n",
       "      <td>-1.134867</td>\n",
       "      <td>0.278251</td>\n",
       "      <td>-0.082208</td>\n",
       "      <td>-0.805822</td>\n",
       "      <td>0.156864</td>\n",
       "      <td>-1.614237</td>\n",
       "      <td>1.897176</td>\n",
       "      <td>-0.677143</td>\n",
       "    </tr>\n",
       "    <tr>\n",
       "      <th>1</th>\n",
       "      <td>-0.537333</td>\n",
       "      <td>-0.478220</td>\n",
       "      <td>-0.096725</td>\n",
       "      <td>0.070624</td>\n",
       "      <td>-0.374243</td>\n",
       "      <td>-0.311411</td>\n",
       "      <td>0.645924</td>\n",
       "      <td>-0.857394</td>\n",
       "      <td>-0.484167</td>\n",
       "    </tr>\n",
       "    <tr>\n",
       "      <th>2</th>\n",
       "      <td>-0.272015</td>\n",
       "      <td>-0.098824</td>\n",
       "      <td>-0.963176</td>\n",
       "      <td>-0.639838</td>\n",
       "      <td>-0.220182</td>\n",
       "      <td>0.786908</td>\n",
       "      <td>0.668413</td>\n",
       "      <td>-0.038289</td>\n",
       "      <td>-0.463980</td>\n",
       "    </tr>\n",
       "    <tr>\n",
       "      <th>3</th>\n",
       "      <td>2.001787</td>\n",
       "      <td>0.773056</td>\n",
       "      <td>-1.443729</td>\n",
       "      <td>-0.164820</td>\n",
       "      <td>-0.583289</td>\n",
       "      <td>1.382894</td>\n",
       "      <td>-1.175698</td>\n",
       "      <td>2.121770</td>\n",
       "      <td>-0.514720</td>\n",
       "    </tr>\n",
       "    <tr>\n",
       "      <th>4</th>\n",
       "      <td>-0.693548</td>\n",
       "      <td>0.160186</td>\n",
       "      <td>-0.286034</td>\n",
       "      <td>0.496076</td>\n",
       "      <td>0.101427</td>\n",
       "      <td>-0.599944</td>\n",
       "      <td>0.702147</td>\n",
       "      <td>-0.540321</td>\n",
       "      <td>-0.041692</td>\n",
       "    </tr>\n",
       "  </tbody>\n",
       "</table>\n",
       "</div>"
      ],
      "text/plain": [
       "   child_mort   exports    health   imports    income  inflation  life_expec  \\\n",
       "0    1.287660 -1.134867  0.278251 -0.082208 -0.805822   0.156864   -1.614237   \n",
       "1   -0.537333 -0.478220 -0.096725  0.070624 -0.374243  -0.311411    0.645924   \n",
       "2   -0.272015 -0.098824 -0.963176 -0.639838 -0.220182   0.786908    0.668413   \n",
       "3    2.001787  0.773056 -1.443729 -0.164820 -0.583289   1.382894   -1.175698   \n",
       "4   -0.693548  0.160186 -0.286034  0.496076  0.101427  -0.599944    0.702147   \n",
       "\n",
       "   total_fer      gdpp  \n",
       "0   1.897176 -0.677143  \n",
       "1  -0.857394 -0.484167  \n",
       "2  -0.038289 -0.463980  \n",
       "3   2.121770 -0.514720  \n",
       "4  -0.540321 -0.041692  "
      ]
     },
     "execution_count": 16,
     "metadata": {},
     "output_type": "execute_result"
    }
   ],
   "source": [
    "df_country.head()"
   ]
  },
  {
   "cell_type": "markdown",
   "metadata": {},
   "source": [
    "### Correlation Matrix"
   ]
  },
  {
   "cell_type": "code",
   "execution_count": 17,
   "metadata": {},
   "outputs": [],
   "source": [
    "# Importing matplotlib and seaborn\n",
    "import matplotlib.pyplot as plt\n",
    "import seaborn as sns\n",
    "%matplotlib inline"
   ]
  },
  {
   "cell_type": "code",
   "execution_count": 18,
   "metadata": {},
   "outputs": [
    {
     "data": {
      "text/plain": [
       "<matplotlib.axes._subplots.AxesSubplot at 0x25728ae2940>"
      ]
     },
     "execution_count": 18,
     "metadata": {},
     "output_type": "execute_result"
    },
    {
     "data": {
      "image/png": "[encoded data removed]",
      "text/plain": [
       "<Figure size 1440x720 with 2 Axes>"
      ]
     },
     "metadata": {
      "needs_background": "light"
     },
     "output_type": "display_data"
    }
   ],
   "source": [
    "# Let's see the correlation matrix \n",
    "plt.figure(figsize = (20,10))        # Size of the figure\n",
    "sns.heatmap(df_country.corr(),annot = True)"
   ]
  },
  {
   "cell_type": "code",
   "execution_count": 19,
   "metadata": {},
   "outputs": [],
   "source": [
    "import statsmodels.api as sm"
   ]
  },
  {
   "cell_type": "markdown",
   "metadata": {},
   "source": [
    "### PCA on the data\n",
    "\n",
    "\n",
    "Note -\n",
    "While computng the principal components, we must not include the entire dataset. Model building is all about doing well on the data we haven't seen yet!\n",
    "So we'll calculate the PCs using the train data, and apply them later on the test data"
   ]
  },
  {
   "cell_type": "code",
   "execution_count": 20,
   "metadata": {},
   "outputs": [
    {
     "data": {
      "text/plain": [
       "(167, 9)"
      ]
     },
     "execution_count": 20,
     "metadata": {},
     "output_type": "execute_result"
    }
   ],
   "source": [
    "df_country.shape"
   ]
  },
  {
   "cell_type": "code",
   "execution_count": 21,
   "metadata": {},
   "outputs": [],
   "source": [
    "#Improting the PCA module\n",
    "from sklearn.decomposition import PCA\n",
    "pca = PCA(svd_solver='randomized', random_state=42)"
   ]
  },
  {
   "cell_type": "code",
   "execution_count": 22,
   "metadata": {},
   "outputs": [
    {
     "data": {
      "text/plain": [
       "PCA(copy=True, iterated_power='auto', n_components=None, random_state=42,\n",
       "  svd_solver='randomized', tol=0.0, whiten=False)"
      ]
     },
     "execution_count": 22,
     "metadata": {},
     "output_type": "execute_result"
    }
   ],
   "source": [
    "#Doing the PCA on the train data\n",
    "pca.fit(df_country)"
   ]
  },
  {
   "cell_type": "markdown",
   "metadata": {},
   "source": [
    "#### Let's plot the principal components and try to make sense of them\n",
    "- We'll plot original features on the first 2 principal components as axis"
   ]
  },
  {
   "cell_type": "code",
   "execution_count": 23,
   "metadata": {},
   "outputs": [
    {
     "data": {
      "text/plain": [
       "array([[-0.41951945,  0.28389698,  0.15083782,  0.16148244,  0.39844111,\n",
       "        -0.19317293,  0.42583938, -0.40372896,  0.39264482],\n",
       "       [ 0.19288394,  0.61316349, -0.24308678,  0.67182064,  0.02253553,\n",
       "        -0.00840447, -0.22270674,  0.15523311, -0.0460224 ],\n",
       "       [-0.02954353,  0.14476069, -0.59663237, -0.29992674,  0.3015475 ,\n",
       "         0.64251951,  0.11391854,  0.01954925,  0.12297749],\n",
       "       [ 0.37065326,  0.00309102,  0.4618975 , -0.07190746,  0.39215904,\n",
       "         0.15044176, -0.20379723,  0.37830365,  0.53199457],\n",
       "       [-0.16896968,  0.05761584,  0.51800037,  0.25537642, -0.2471496 ,\n",
       "         0.7148691 ,  0.1082198 , -0.13526221, -0.18016662],\n",
       "       [ 0.20062815, -0.05933283,  0.00727646, -0.03003154,  0.16034699,\n",
       "         0.06628537, -0.60112652, -0.75068875,  0.01677876],\n",
       "       [-0.07948854, -0.70730269, -0.24983051,  0.59218953,  0.09556237,\n",
       "         0.10463252,  0.01848639,  0.02882643,  0.24299776],\n",
       "       [-0.68274306, -0.01419742,  0.07249683, -0.02894642,  0.35262369,\n",
       "        -0.01153775, -0.50466425,  0.29335267, -0.24969636],\n",
       "       [ 0.3275418 , -0.12308207,  0.11308797,  0.09903717,  0.61298247,\n",
       "        -0.02523614,  0.29403981, -0.02633585, -0.62564572]])"
      ]
     },
     "execution_count": 23,
     "metadata": {},
     "output_type": "execute_result"
    }
   ],
   "source": [
    "pca.components_"
   ]
  },
  {
   "cell_type": "code",
   "execution_count": 24,
   "metadata": {},
   "outputs": [
    {
     "data": {
      "text/html": [
       "<div>\n",
       "<style scoped>\n",
       "    .dataframe tbody tr th:only-of-type {\n",
       "        vertical-align: middle;\n",
       "    }\n",
       "\n",
       "    .dataframe tbody tr th {\n",
       "        vertical-align: top;\n",
       "    }\n",
       "\n",
       "    .dataframe thead th {\n",
       "        text-align: right;\n",
       "    }\n",
       "</style>\n",
       "<table border=\"1\" class=\"dataframe\">\n",
       "  <thead>\n",
       "    <tr style=\"text-align: right;\">\n",
       "      <th></th>\n",
       "      <th>PC1</th>\n",
       "      <th>PC2</th>\n",
       "      <th>PC3</th>\n",
       "      <th>PC4</th>\n",
       "      <th>Feature</th>\n",
       "    </tr>\n",
       "  </thead>\n",
       "  <tbody>\n",
       "    <tr>\n",
       "      <th>0</th>\n",
       "      <td>-0.419519</td>\n",
       "      <td>0.192884</td>\n",
       "      <td>-0.029544</td>\n",
       "      <td>0.370653</td>\n",
       "      <td>child_mort</td>\n",
       "    </tr>\n",
       "    <tr>\n",
       "      <th>1</th>\n",
       "      <td>0.283897</td>\n",
       "      <td>0.613163</td>\n",
       "      <td>0.144761</td>\n",
       "      <td>0.003091</td>\n",
       "      <td>exports</td>\n",
       "    </tr>\n",
       "    <tr>\n",
       "      <th>2</th>\n",
       "      <td>0.150838</td>\n",
       "      <td>-0.243087</td>\n",
       "      <td>-0.596632</td>\n",
       "      <td>0.461897</td>\n",
       "      <td>health</td>\n",
       "    </tr>\n",
       "    <tr>\n",
       "      <th>3</th>\n",
       "      <td>0.161482</td>\n",
       "      <td>0.671821</td>\n",
       "      <td>-0.299927</td>\n",
       "      <td>-0.071907</td>\n",
       "      <td>imports</td>\n",
       "    </tr>\n",
       "    <tr>\n",
       "      <th>4</th>\n",
       "      <td>0.398441</td>\n",
       "      <td>0.022536</td>\n",
       "      <td>0.301548</td>\n",
       "      <td>0.392159</td>\n",
       "      <td>income</td>\n",
       "    </tr>\n",
       "  </tbody>\n",
       "</table>\n",
       "</div>"
      ],
      "text/plain": [
       "        PC1       PC2       PC3       PC4     Feature\n",
       "0 -0.419519  0.192884 -0.029544  0.370653  child_mort\n",
       "1  0.283897  0.613163  0.144761  0.003091     exports\n",
       "2  0.150838 -0.243087 -0.596632  0.461897      health\n",
       "3  0.161482  0.671821 -0.299927 -0.071907     imports\n",
       "4  0.398441  0.022536  0.301548  0.392159      income"
      ]
     },
     "execution_count": 24,
     "metadata": {},
     "output_type": "execute_result"
    }
   ],
   "source": [
    "colnames = list(df_country.columns)\n",
    "pcs_df = pd.DataFrame({'PC1':pca.components_[0],'PC2':pca.components_[1], 'PC3':pca.components_[2], 'PC4':pca.components_[3], 'Feature':colnames})\n",
    "#pcs_df = pd.DataFrame({'PC1':pca.components_[0],'PC2':pca.components_[1], 'Feature':colnames})\n",
    "pcs_df.head()"
   ]
  },
  {
   "cell_type": "code",
   "execution_count": 25,
   "metadata": {},
   "outputs": [
    {
     "data": {
      "text/html": [
       "<div>\n",
       "<style scoped>\n",
       "    .dataframe tbody tr th:only-of-type {\n",
       "        vertical-align: middle;\n",
       "    }\n",
       "\n",
       "    .dataframe tbody tr th {\n",
       "        vertical-align: top;\n",
       "    }\n",
       "\n",
       "    .dataframe thead th {\n",
       "        text-align: right;\n",
       "    }\n",
       "</style>\n",
       "<table border=\"1\" class=\"dataframe\">\n",
       "  <thead>\n",
       "    <tr style=\"text-align: right;\">\n",
       "      <th></th>\n",
       "      <th>PC1</th>\n",
       "      <th>PC2</th>\n",
       "      <th>PC3</th>\n",
       "      <th>PC4</th>\n",
       "      <th>Feature</th>\n",
       "    </tr>\n",
       "  </thead>\n",
       "  <tbody>\n",
       "    <tr>\n",
       "      <th>0</th>\n",
       "      <td>-0.419519</td>\n",
       "      <td>0.192884</td>\n",
       "      <td>-0.029544</td>\n",
       "      <td>0.370653</td>\n",
       "      <td>child_mort</td>\n",
       "    </tr>\n",
       "    <tr>\n",
       "      <th>1</th>\n",
       "      <td>0.283897</td>\n",
       "      <td>0.613163</td>\n",
       "      <td>0.144761</td>\n",
       "      <td>0.003091</td>\n",
       "      <td>exports</td>\n",
       "    </tr>\n",
       "    <tr>\n",
       "      <th>2</th>\n",
       "      <td>0.150838</td>\n",
       "      <td>-0.243087</td>\n",
       "      <td>-0.596632</td>\n",
       "      <td>0.461897</td>\n",
       "      <td>health</td>\n",
       "    </tr>\n",
       "    <tr>\n",
       "      <th>3</th>\n",
       "      <td>0.161482</td>\n",
       "      <td>0.671821</td>\n",
       "      <td>-0.299927</td>\n",
       "      <td>-0.071907</td>\n",
       "      <td>imports</td>\n",
       "    </tr>\n",
       "    <tr>\n",
       "      <th>4</th>\n",
       "      <td>0.398441</td>\n",
       "      <td>0.022536</td>\n",
       "      <td>0.301548</td>\n",
       "      <td>0.392159</td>\n",
       "      <td>income</td>\n",
       "    </tr>\n",
       "    <tr>\n",
       "      <th>5</th>\n",
       "      <td>-0.193173</td>\n",
       "      <td>-0.008404</td>\n",
       "      <td>0.642520</td>\n",
       "      <td>0.150442</td>\n",
       "      <td>inflation</td>\n",
       "    </tr>\n",
       "    <tr>\n",
       "      <th>6</th>\n",
       "      <td>0.425839</td>\n",
       "      <td>-0.222707</td>\n",
       "      <td>0.113919</td>\n",
       "      <td>-0.203797</td>\n",
       "      <td>life_expec</td>\n",
       "    </tr>\n",
       "    <tr>\n",
       "      <th>7</th>\n",
       "      <td>-0.403729</td>\n",
       "      <td>0.155233</td>\n",
       "      <td>0.019549</td>\n",
       "      <td>0.378304</td>\n",
       "      <td>total_fer</td>\n",
       "    </tr>\n",
       "    <tr>\n",
       "      <th>8</th>\n",
       "      <td>0.392645</td>\n",
       "      <td>-0.046022</td>\n",
       "      <td>0.122977</td>\n",
       "      <td>0.531995</td>\n",
       "      <td>gdpp</td>\n",
       "    </tr>\n",
       "  </tbody>\n",
       "</table>\n",
       "</div>"
      ],
      "text/plain": [
       "        PC1       PC2       PC3       PC4     Feature\n",
       "0 -0.419519  0.192884 -0.029544  0.370653  child_mort\n",
       "1  0.283897  0.613163  0.144761  0.003091     exports\n",
       "2  0.150838 -0.243087 -0.596632  0.461897      health\n",
       "3  0.161482  0.671821 -0.299927 -0.071907     imports\n",
       "4  0.398441  0.022536  0.301548  0.392159      income\n",
       "5 -0.193173 -0.008404  0.642520  0.150442   inflation\n",
       "6  0.425839 -0.222707  0.113919 -0.203797  life_expec\n",
       "7 -0.403729  0.155233  0.019549  0.378304   total_fer\n",
       "8  0.392645 -0.046022  0.122977  0.531995        gdpp"
      ]
     },
     "execution_count": 25,
     "metadata": {},
     "output_type": "execute_result"
    }
   ],
   "source": [
    "pcs_df"
   ]
  },
  {
   "cell_type": "code",
   "execution_count": 26,
   "metadata": {},
   "outputs": [
    {
     "data": {
      "image/png": "[encoded data removed]",
      "text/plain": [
       "<Figure size 576x576 with 1 Axes>"
      ]
     },
     "metadata": {
      "needs_background": "light"
     },
     "output_type": "display_data"
    }
   ],
   "source": [
    "%matplotlib inline\n",
    "fig = plt.figure(figsize = (8,8))\n",
    "plt.scatter(pcs_df.PC1, pcs_df.PC2)\n",
    "plt.xlabel('Principal Component 1')\n",
    "plt.ylabel('Principal Component 2')\n",
    "for i, txt in enumerate(pcs_df.Feature):\n",
    "    plt.annotate(txt, (pcs_df.PC1[i],pcs_df.PC2[i]))\n",
    "plt.tight_layout()\n",
    "plt.show()"
   ]
  },
  {
   "cell_type": "markdown",
   "metadata": {},
   "source": [
    "We see that the fist component is in the direction where the 'charges' variables are heavy\n",
    " - These 4 components also have the highest of the loadings"
   ]
  },
  {
   "cell_type": "markdown",
   "metadata": {},
   "source": [
    "#### Looking at the screeplot to assess the number of needed principal components"
   ]
  },
  {
   "cell_type": "code",
   "execution_count": 27,
   "metadata": {},
   "outputs": [
    {
     "data": {
      "text/plain": [
       "array([0.4595174 , 0.17181626, 0.13004259, 0.11053162, 0.07340211,\n",
       "       0.02484235, 0.0126043 , 0.00981282, 0.00743056])"
      ]
     },
     "execution_count": 27,
     "metadata": {},
     "output_type": "execute_result"
    }
   ],
   "source": [
    "pca.explained_variance_ratio_"
   ]
  },
  {
   "cell_type": "code",
   "execution_count": 28,
   "metadata": {},
   "outputs": [
    {
     "data": {
      "image/png": "[encoded data removed]",
      "text/plain": [
       "<Figure size 864x576 with 1 Axes>"
      ]
     },
     "metadata": {
      "needs_background": "light"
     },
     "output_type": "display_data"
    }
   ],
   "source": [
    "#Making the screeplot - plotting the cumulative variance against the number of components\n",
    "%matplotlib inline\n",
    "fig = plt.figure(figsize = (12,8))\n",
    "plt.plot(np.cumsum(pca.explained_variance_ratio_))\n",
    "plt.xlabel('number of components')\n",
    "plt.ylabel('cumulative explained variance')\n",
    "plt.show()"
   ]
  },
  {
   "cell_type": "markdown",
   "metadata": {},
   "source": [
    "#### Looks like 4 components are enough to describe 90-95% of the variance in the dataset\n",
    "- We'll choose 4 components for our modeling"
   ]
  },
  {
   "cell_type": "code",
   "execution_count": 29,
   "metadata": {},
   "outputs": [],
   "source": [
    "#Using Incremental PCA for efficiency - saves a lot of time on larger datasets\n",
    "from sklearn.decomposition import IncrementalPCA\n",
    "pca_final = IncrementalPCA(n_components=4)"
   ]
  },
  {
   "cell_type": "markdown",
   "metadata": {},
   "source": [
    "#### Basis transformation - getting the data onto our PCs"
   ]
  },
  {
   "cell_type": "code",
   "execution_count": 30,
   "metadata": {},
   "outputs": [
    {
     "data": {
      "text/plain": [
       "(167, 4)"
      ]
     },
     "execution_count": 30,
     "metadata": {},
     "output_type": "execute_result"
    }
   ],
   "source": [
    "df_train_pca = pca_final.fit_transform(df_country.values)\n",
    "df_train_pca.shape"
   ]
  },
  {
   "cell_type": "code",
   "execution_count": 31,
   "metadata": {},
   "outputs": [],
   "source": [
    "df_train_pca = pd.DataFrame(df_train_pca)"
   ]
  },
  {
   "cell_type": "code",
   "execution_count": 32,
   "metadata": {},
   "outputs": [
    {
     "data": {
      "text/html": [
       "<div>\n",
       "<style scoped>\n",
       "    .dataframe tbody tr th:only-of-type {\n",
       "        vertical-align: middle;\n",
       "    }\n",
       "\n",
       "    .dataframe tbody tr th {\n",
       "        vertical-align: top;\n",
       "    }\n",
       "\n",
       "    .dataframe thead th {\n",
       "        text-align: right;\n",
       "    }\n",
       "</style>\n",
       "<table border=\"1\" class=\"dataframe\">\n",
       "  <thead>\n",
       "    <tr style=\"text-align: right;\">\n",
       "      <th></th>\n",
       "      <th>0</th>\n",
       "      <th>1</th>\n",
       "      <th>2</th>\n",
       "      <th>3</th>\n",
       "    </tr>\n",
       "  </thead>\n",
       "  <tbody>\n",
       "    <tr>\n",
       "      <th>0</th>\n",
       "      <td>-2.905050</td>\n",
       "      <td>0.088089</td>\n",
       "      <td>0.718841</td>\n",
       "      <td>0.993710</td>\n",
       "    </tr>\n",
       "    <tr>\n",
       "      <th>1</th>\n",
       "      <td>0.428070</td>\n",
       "      <td>-0.586096</td>\n",
       "      <td>0.320090</td>\n",
       "      <td>-1.167681</td>\n",
       "    </tr>\n",
       "    <tr>\n",
       "      <th>2</th>\n",
       "      <td>-0.282140</td>\n",
       "      <td>-0.445318</td>\n",
       "      <td>-1.221462</td>\n",
       "      <td>-0.847578</td>\n",
       "    </tr>\n",
       "    <tr>\n",
       "      <th>3</th>\n",
       "      <td>-2.922180</td>\n",
       "      <td>1.694341</td>\n",
       "      <td>-1.517172</td>\n",
       "      <td>0.873340</td>\n",
       "    </tr>\n",
       "    <tr>\n",
       "      <th>4</th>\n",
       "      <td>1.028893</td>\n",
       "      <td>0.130097</td>\n",
       "      <td>0.192344</td>\n",
       "      <td>-0.842275</td>\n",
       "    </tr>\n",
       "  </tbody>\n",
       "</table>\n",
       "</div>"
      ],
      "text/plain": [
       "          0         1         2         3\n",
       "0 -2.905050  0.088089  0.718841  0.993710\n",
       "1  0.428070 -0.586096  0.320090 -1.167681\n",
       "2 -0.282140 -0.445318 -1.221462 -0.847578\n",
       "3 -2.922180  1.694341 -1.517172  0.873340\n",
       "4  1.028893  0.130097  0.192344 -0.842275"
      ]
     },
     "execution_count": 32,
     "metadata": {},
     "output_type": "execute_result"
    }
   ],
   "source": [
    "df_train_pca.head()"
   ]
  },
  {
   "cell_type": "markdown",
   "metadata": {},
   "source": [
    "#### Creating correlation matrix for the principal components - we expect little to no correlation"
   ]
  },
  {
   "cell_type": "code",
   "execution_count": 33,
   "metadata": {},
   "outputs": [],
   "source": [
    "#creating correlation matrix for the principal components\n",
    "corrmat = np.corrcoef(df_train_pca.transpose())"
   ]
  },
  {
   "cell_type": "code",
   "execution_count": 34,
   "metadata": {},
   "outputs": [
    {
     "data": {
      "text/plain": [
       "<matplotlib.axes._subplots.AxesSubplot at 0x2572acd6748>"
      ]
     },
     "execution_count": 34,
     "metadata": {},
     "output_type": "execute_result"
    },
    {
     "data": {
      "image/png": "[encoded data removed]",
      "text/plain": [
       "<Figure size 1440x720 with 2 Axes>"
      ]
     },
     "metadata": {
      "needs_background": "light"
     },
     "output_type": "display_data"
    }
   ],
   "source": [
    "#plotting the correlation matrix\n",
    "%matplotlib inline\n",
    "plt.figure(figsize = (20,10))\n",
    "sns.heatmap(corrmat,annot = True)"
   ]
  },
  {
   "cell_type": "code",
   "execution_count": 35,
   "metadata": {},
   "outputs": [
    {
     "name": "stdout",
     "output_type": "stream",
     "text": [
      "max corr: 0.0011961925092543056 , min corr:  -0.0020378295355501573\n"
     ]
    }
   ],
   "source": [
    "# 1s -> 0s in diagonals\n",
    "corrmat_nodiag = corrmat - np.diagflat(corrmat.diagonal())\n",
    "print(\"max corr:\",corrmat_nodiag.max(), \", min corr: \", corrmat_nodiag.min(),)\n",
    "# we see that correlations are indeed very close to 0"
   ]
  },
  {
   "cell_type": "markdown",
   "metadata": {},
   "source": [
    "#### Indeed - there is no correlation between any two components! Good job, PCA!\n",
    "- We effectively have removed multicollinearity from our situation, and our models will be much more stable"
   ]
  },
  {
   "cell_type": "code",
   "execution_count": 36,
   "metadata": {},
   "outputs": [
    {
     "data": {
      "text/html": [
       "<div>\n",
       "<style scoped>\n",
       "    .dataframe tbody tr th:only-of-type {\n",
       "        vertical-align: middle;\n",
       "    }\n",
       "\n",
       "    .dataframe tbody tr th {\n",
       "        vertical-align: top;\n",
       "    }\n",
       "\n",
       "    .dataframe thead th {\n",
       "        text-align: right;\n",
       "    }\n",
       "</style>\n",
       "<table border=\"1\" class=\"dataframe\">\n",
       "  <thead>\n",
       "    <tr style=\"text-align: right;\">\n",
       "      <th></th>\n",
       "      <th>0</th>\n",
       "      <th>1</th>\n",
       "      <th>2</th>\n",
       "      <th>3</th>\n",
       "    </tr>\n",
       "  </thead>\n",
       "  <tbody>\n",
       "    <tr>\n",
       "      <th>0</th>\n",
       "      <td>-2.905050</td>\n",
       "      <td>0.088089</td>\n",
       "      <td>0.718841</td>\n",
       "      <td>0.993710</td>\n",
       "    </tr>\n",
       "    <tr>\n",
       "      <th>1</th>\n",
       "      <td>0.428070</td>\n",
       "      <td>-0.586096</td>\n",
       "      <td>0.320090</td>\n",
       "      <td>-1.167681</td>\n",
       "    </tr>\n",
       "    <tr>\n",
       "      <th>2</th>\n",
       "      <td>-0.282140</td>\n",
       "      <td>-0.445318</td>\n",
       "      <td>-1.221462</td>\n",
       "      <td>-0.847578</td>\n",
       "    </tr>\n",
       "    <tr>\n",
       "      <th>3</th>\n",
       "      <td>-2.922180</td>\n",
       "      <td>1.694341</td>\n",
       "      <td>-1.517172</td>\n",
       "      <td>0.873340</td>\n",
       "    </tr>\n",
       "    <tr>\n",
       "      <th>4</th>\n",
       "      <td>1.028893</td>\n",
       "      <td>0.130097</td>\n",
       "      <td>0.192344</td>\n",
       "      <td>-0.842275</td>\n",
       "    </tr>\n",
       "  </tbody>\n",
       "</table>\n",
       "</div>"
      ],
      "text/plain": [
       "          0         1         2         3\n",
       "0 -2.905050  0.088089  0.718841  0.993710\n",
       "1  0.428070 -0.586096  0.320090 -1.167681\n",
       "2 -0.282140 -0.445318 -1.221462 -0.847578\n",
       "3 -2.922180  1.694341 -1.517172  0.873340\n",
       "4  1.028893  0.130097  0.192344 -0.842275"
      ]
     },
     "execution_count": 36,
     "metadata": {},
     "output_type": "execute_result"
    }
   ],
   "source": [
    "df_train_pca.head()"
   ]
  },
  {
   "cell_type": "code",
   "execution_count": 37,
   "metadata": {},
   "outputs": [],
   "source": [
    "df_train_pca.columns = ['PC1','PC2','PC3','PC4']"
   ]
  },
  {
   "cell_type": "code",
   "execution_count": 38,
   "metadata": {},
   "outputs": [
    {
     "data": {
      "text/html": [
       "<div>\n",
       "<style scoped>\n",
       "    .dataframe tbody tr th:only-of-type {\n",
       "        vertical-align: middle;\n",
       "    }\n",
       "\n",
       "    .dataframe tbody tr th {\n",
       "        vertical-align: top;\n",
       "    }\n",
       "\n",
       "    .dataframe thead th {\n",
       "        text-align: right;\n",
       "    }\n",
       "</style>\n",
       "<table border=\"1\" class=\"dataframe\">\n",
       "  <thead>\n",
       "    <tr style=\"text-align: right;\">\n",
       "      <th></th>\n",
       "      <th>PC1</th>\n",
       "      <th>PC2</th>\n",
       "      <th>PC3</th>\n",
       "      <th>PC4</th>\n",
       "    </tr>\n",
       "  </thead>\n",
       "  <tbody>\n",
       "    <tr>\n",
       "      <th>0</th>\n",
       "      <td>-2.905050</td>\n",
       "      <td>0.088089</td>\n",
       "      <td>0.718841</td>\n",
       "      <td>0.993710</td>\n",
       "    </tr>\n",
       "    <tr>\n",
       "      <th>1</th>\n",
       "      <td>0.428070</td>\n",
       "      <td>-0.586096</td>\n",
       "      <td>0.320090</td>\n",
       "      <td>-1.167681</td>\n",
       "    </tr>\n",
       "    <tr>\n",
       "      <th>2</th>\n",
       "      <td>-0.282140</td>\n",
       "      <td>-0.445318</td>\n",
       "      <td>-1.221462</td>\n",
       "      <td>-0.847578</td>\n",
       "    </tr>\n",
       "    <tr>\n",
       "      <th>3</th>\n",
       "      <td>-2.922180</td>\n",
       "      <td>1.694341</td>\n",
       "      <td>-1.517172</td>\n",
       "      <td>0.873340</td>\n",
       "    </tr>\n",
       "    <tr>\n",
       "      <th>4</th>\n",
       "      <td>1.028893</td>\n",
       "      <td>0.130097</td>\n",
       "      <td>0.192344</td>\n",
       "      <td>-0.842275</td>\n",
       "    </tr>\n",
       "  </tbody>\n",
       "</table>\n",
       "</div>"
      ],
      "text/plain": [
       "        PC1       PC2       PC3       PC4\n",
       "0 -2.905050  0.088089  0.718841  0.993710\n",
       "1  0.428070 -0.586096  0.320090 -1.167681\n",
       "2 -0.282140 -0.445318 -1.221462 -0.847578\n",
       "3 -2.922180  1.694341 -1.517172  0.873340\n",
       "4  1.028893  0.130097  0.192344 -0.842275"
      ]
     },
     "execution_count": 38,
     "metadata": {},
     "output_type": "execute_result"
    }
   ],
   "source": [
    "df_train_pca.head()"
   ]
  },
  {
   "cell_type": "code",
   "execution_count": 39,
   "metadata": {},
   "outputs": [],
   "source": [
    "#Concatenating df_train_pca dataframe and country dataframe country1\n",
    "df_pca = pd.concat([df_train_pca, df_country1], axis=1)"
   ]
  },
  {
   "cell_type": "code",
   "execution_count": 40,
   "metadata": {},
   "outputs": [
    {
     "data": {
      "text/plain": [
       "(167, 5)"
      ]
     },
     "execution_count": 40,
     "metadata": {},
     "output_type": "execute_result"
    }
   ],
   "source": [
    "df_pca.shape"
   ]
  },
  {
   "cell_type": "code",
   "execution_count": 41,
   "metadata": {},
   "outputs": [
    {
     "data": {
      "text/html": [
       "<div>\n",
       "<style scoped>\n",
       "    .dataframe tbody tr th:only-of-type {\n",
       "        vertical-align: middle;\n",
       "    }\n",
       "\n",
       "    .dataframe tbody tr th {\n",
       "        vertical-align: top;\n",
       "    }\n",
       "\n",
       "    .dataframe thead th {\n",
       "        text-align: right;\n",
       "    }\n",
       "</style>\n",
       "<table border=\"1\" class=\"dataframe\">\n",
       "  <thead>\n",
       "    <tr style=\"text-align: right;\">\n",
       "      <th></th>\n",
       "      <th>PC1</th>\n",
       "      <th>PC2</th>\n",
       "      <th>PC3</th>\n",
       "      <th>PC4</th>\n",
       "      <th>country</th>\n",
       "    </tr>\n",
       "  </thead>\n",
       "  <tbody>\n",
       "    <tr>\n",
       "      <th>0</th>\n",
       "      <td>-2.905050</td>\n",
       "      <td>0.088089</td>\n",
       "      <td>0.718841</td>\n",
       "      <td>0.993710</td>\n",
       "      <td>Afghanistan</td>\n",
       "    </tr>\n",
       "    <tr>\n",
       "      <th>1</th>\n",
       "      <td>0.428070</td>\n",
       "      <td>-0.586096</td>\n",
       "      <td>0.320090</td>\n",
       "      <td>-1.167681</td>\n",
       "      <td>Albania</td>\n",
       "    </tr>\n",
       "    <tr>\n",
       "      <th>2</th>\n",
       "      <td>-0.282140</td>\n",
       "      <td>-0.445318</td>\n",
       "      <td>-1.221462</td>\n",
       "      <td>-0.847578</td>\n",
       "      <td>Algeria</td>\n",
       "    </tr>\n",
       "    <tr>\n",
       "      <th>3</th>\n",
       "      <td>-2.922180</td>\n",
       "      <td>1.694341</td>\n",
       "      <td>-1.517172</td>\n",
       "      <td>0.873340</td>\n",
       "      <td>Angola</td>\n",
       "    </tr>\n",
       "    <tr>\n",
       "      <th>4</th>\n",
       "      <td>1.028893</td>\n",
       "      <td>0.130097</td>\n",
       "      <td>0.192344</td>\n",
       "      <td>-0.842275</td>\n",
       "      <td>Antigua and Barbuda</td>\n",
       "    </tr>\n",
       "  </tbody>\n",
       "</table>\n",
       "</div>"
      ],
      "text/plain": [
       "        PC1       PC2       PC3       PC4              country\n",
       "0 -2.905050  0.088089  0.718841  0.993710          Afghanistan\n",
       "1  0.428070 -0.586096  0.320090 -1.167681              Albania\n",
       "2 -0.282140 -0.445318 -1.221462 -0.847578              Algeria\n",
       "3 -2.922180  1.694341 -1.517172  0.873340               Angola\n",
       "4  1.028893  0.130097  0.192344 -0.842275  Antigua and Barbuda"
      ]
     },
     "execution_count": 41,
     "metadata": {},
     "output_type": "execute_result"
    }
   ],
   "source": [
    "df_pca.head()"
   ]
  },
  {
   "cell_type": "code",
   "execution_count": 42,
   "metadata": {},
   "outputs": [
    {
     "data": {
      "text/html": [
       "<div>\n",
       "<style scoped>\n",
       "    .dataframe tbody tr th:only-of-type {\n",
       "        vertical-align: middle;\n",
       "    }\n",
       "\n",
       "    .dataframe tbody tr th {\n",
       "        vertical-align: top;\n",
       "    }\n",
       "\n",
       "    .dataframe thead th {\n",
       "        text-align: right;\n",
       "    }\n",
       "</style>\n",
       "<table border=\"1\" class=\"dataframe\">\n",
       "  <thead>\n",
       "    <tr style=\"text-align: right;\">\n",
       "      <th></th>\n",
       "      <th>PC1</th>\n",
       "      <th>PC2</th>\n",
       "      <th>PC3</th>\n",
       "      <th>PC4</th>\n",
       "    </tr>\n",
       "  </thead>\n",
       "  <tbody>\n",
       "    <tr>\n",
       "      <th>count</th>\n",
       "      <td>1.670000e+02</td>\n",
       "      <td>1.670000e+02</td>\n",
       "      <td>1.670000e+02</td>\n",
       "      <td>1.670000e+02</td>\n",
       "    </tr>\n",
       "    <tr>\n",
       "      <th>mean</th>\n",
       "      <td>-4.254747e-17</td>\n",
       "      <td>-1.628770e-17</td>\n",
       "      <td>-1.379469e-17</td>\n",
       "      <td>1.994413e-18</td>\n",
       "    </tr>\n",
       "    <tr>\n",
       "      <th>std</th>\n",
       "      <td>2.033610e+00</td>\n",
       "      <td>1.243405e+00</td>\n",
       "      <td>1.080123e+00</td>\n",
       "      <td>9.972386e-01</td>\n",
       "    </tr>\n",
       "    <tr>\n",
       "      <th>min</th>\n",
       "      <td>-4.864295e+00</td>\n",
       "      <td>-2.982227e+00</td>\n",
       "      <td>-5.573507e+00</td>\n",
       "      <td>-1.577417e+00</td>\n",
       "    </tr>\n",
       "    <tr>\n",
       "      <th>25%</th>\n",
       "      <td>-1.379425e+00</td>\n",
       "      <td>-7.458916e-01</td>\n",
       "      <td>-4.142286e-01</td>\n",
       "      <td>-7.877837e-01</td>\n",
       "    </tr>\n",
       "    <tr>\n",
       "      <th>50%</th>\n",
       "      <td>2.411118e-02</td>\n",
       "      <td>-9.316020e-02</td>\n",
       "      <td>1.931701e-01</td>\n",
       "      <td>-2.930648e-01</td>\n",
       "    </tr>\n",
       "    <tr>\n",
       "      <th>75%</th>\n",
       "      <td>1.220561e+00</td>\n",
       "      <td>5.552236e-01</td>\n",
       "      <td>5.125301e-01</td>\n",
       "      <td>7.069460e-01</td>\n",
       "    </tr>\n",
       "    <tr>\n",
       "      <th>max</th>\n",
       "      <td>6.897479e+00</td>\n",
       "      <td>6.665328e+00</td>\n",
       "      <td>2.848803e+00</td>\n",
       "      <td>3.140754e+00</td>\n",
       "    </tr>\n",
       "  </tbody>\n",
       "</table>\n",
       "</div>"
      ],
      "text/plain": [
       "                PC1           PC2           PC3           PC4\n",
       "count  1.670000e+02  1.670000e+02  1.670000e+02  1.670000e+02\n",
       "mean  -4.254747e-17 -1.628770e-17 -1.379469e-17  1.994413e-18\n",
       "std    2.033610e+00  1.243405e+00  1.080123e+00  9.972386e-01\n",
       "min   -4.864295e+00 -2.982227e+00 -5.573507e+00 -1.577417e+00\n",
       "25%   -1.379425e+00 -7.458916e-01 -4.142286e-01 -7.877837e-01\n",
       "50%    2.411118e-02 -9.316020e-02  1.931701e-01 -2.930648e-01\n",
       "75%    1.220561e+00  5.552236e-01  5.125301e-01  7.069460e-01\n",
       "max    6.897479e+00  6.665328e+00  2.848803e+00  3.140754e+00"
      ]
     },
     "execution_count": 42,
     "metadata": {},
     "output_type": "execute_result"
    }
   ],
   "source": [
    "df_pca.describe()"
   ]
  },
  {
   "cell_type": "markdown",
   "metadata": {},
   "source": [
    "Doing outlier analysis now:"
   ]
  },
  {
   "cell_type": "markdown",
   "metadata": {},
   "source": [
    "### Outlier Treatment"
   ]
  },
  {
   "cell_type": "code",
   "execution_count": 43,
   "metadata": {},
   "outputs": [
    {
     "data": {
      "image/png": "[encoded data removed]",
      "text/plain": [
       "<Figure size 432x288 with 1 Axes>"
      ]
     },
     "metadata": {
      "needs_background": "light"
     },
     "output_type": "display_data"
    }
   ],
   "source": [
    "#Outlier treatment for PC1\n",
    "plt.boxplot(df_pca.PC1)\n",
    "Q1 = df_pca.PC1.quantile(0.25)\n",
    "Q3 = df_pca.PC1.quantile(0.75)\n",
    "IQR = Q3 - Q1\n",
    "df_pca = df_pca[(df_pca.PC1 >= Q1 - 1.5*IQR) & (df_pca.PC1 <= Q3 + 1.5*IQR)]"
   ]
  },
  {
   "cell_type": "code",
   "execution_count": 44,
   "metadata": {},
   "outputs": [
    {
     "data": {
      "image/png": "[encoded data removed]",
      "text/plain": [
       "<Figure size 432x288 with 1 Axes>"
      ]
     },
     "metadata": {
      "needs_background": "light"
     },
     "output_type": "display_data"
    }
   ],
   "source": [
    "#Outlier treatment for PC2\n",
    "plt.boxplot(df_pca.PC2)\n",
    "Q1 = df_pca.PC2.quantile(0.25)\n",
    "Q3 = df_pca.PC2.quantile(0.75)\n",
    "IQR = Q3 - Q1\n",
    "df_pca = df_pca[(df_pca.PC2 >= Q1 - 1.5*IQR) & (df_pca.PC2 <= Q3 + 1.5*IQR)]"
   ]
  },
  {
   "cell_type": "code",
   "execution_count": 45,
   "metadata": {},
   "outputs": [
    {
     "data": {
      "image/png": "[encoded data removed]",
      "text/plain": [
       "<Figure size 432x288 with 1 Axes>"
      ]
     },
     "metadata": {
      "needs_background": "light"
     },
     "output_type": "display_data"
    }
   ],
   "source": [
    "#Outlier treatment for PC3\n",
    "plt.boxplot(df_pca.PC3)\n",
    "Q1 = df_pca.PC3.quantile(0.25)\n",
    "Q3 = df_pca.PC3.quantile(0.75)\n",
    "IQR = Q3 - Q1\n",
    "df_pca = df_pca[(df_pca.PC3 >= Q1 - 1.5*IQR) & (df_pca.PC3 <= Q3 + 1.5*IQR)]"
   ]
  },
  {
   "cell_type": "code",
   "execution_count": 46,
   "metadata": {},
   "outputs": [
    {
     "data": {
      "image/png": "[encoded data removed]",
      "text/plain": [
       "<Figure size 432x288 with 1 Axes>"
      ]
     },
     "metadata": {
      "needs_background": "light"
     },
     "output_type": "display_data"
    }
   ],
   "source": [
    "#Outlier treatment for PC4\n",
    "plt.boxplot(df_pca.PC4)\n",
    "Q1 = df_pca.PC4.quantile(0.25)\n",
    "Q3 = df_pca.PC4.quantile(0.75)\n",
    "IQR = Q3 - Q1\n",
    "df_pca = df_pca[(df_pca.PC4 >= Q1 - 1.5*IQR) & (df_pca.PC4 <= Q3 + 1.5*IQR)]"
   ]
  },
  {
   "cell_type": "code",
   "execution_count": 47,
   "metadata": {},
   "outputs": [
    {
     "data": {
      "text/html": [
       "<div>\n",
       "<style scoped>\n",
       "    .dataframe tbody tr th:only-of-type {\n",
       "        vertical-align: middle;\n",
       "    }\n",
       "\n",
       "    .dataframe tbody tr th {\n",
       "        vertical-align: top;\n",
       "    }\n",
       "\n",
       "    .dataframe thead th {\n",
       "        text-align: right;\n",
       "    }\n",
       "</style>\n",
       "<table border=\"1\" class=\"dataframe\">\n",
       "  <thead>\n",
       "    <tr style=\"text-align: right;\">\n",
       "      <th></th>\n",
       "      <th>PC1</th>\n",
       "      <th>PC2</th>\n",
       "      <th>PC3</th>\n",
       "      <th>PC4</th>\n",
       "      <th>country</th>\n",
       "    </tr>\n",
       "  </thead>\n",
       "  <tbody>\n",
       "    <tr>\n",
       "      <th>0</th>\n",
       "      <td>-2.905050</td>\n",
       "      <td>0.088089</td>\n",
       "      <td>0.718841</td>\n",
       "      <td>0.993710</td>\n",
       "      <td>Afghanistan</td>\n",
       "    </tr>\n",
       "    <tr>\n",
       "      <th>1</th>\n",
       "      <td>0.428070</td>\n",
       "      <td>-0.586096</td>\n",
       "      <td>0.320090</td>\n",
       "      <td>-1.167681</td>\n",
       "      <td>Albania</td>\n",
       "    </tr>\n",
       "    <tr>\n",
       "      <th>2</th>\n",
       "      <td>-0.282140</td>\n",
       "      <td>-0.445318</td>\n",
       "      <td>-1.221462</td>\n",
       "      <td>-0.847578</td>\n",
       "      <td>Algeria</td>\n",
       "    </tr>\n",
       "    <tr>\n",
       "      <th>3</th>\n",
       "      <td>-2.922180</td>\n",
       "      <td>1.694341</td>\n",
       "      <td>-1.517172</td>\n",
       "      <td>0.873340</td>\n",
       "      <td>Angola</td>\n",
       "    </tr>\n",
       "    <tr>\n",
       "      <th>4</th>\n",
       "      <td>1.028893</td>\n",
       "      <td>0.130097</td>\n",
       "      <td>0.192344</td>\n",
       "      <td>-0.842275</td>\n",
       "      <td>Antigua and Barbuda</td>\n",
       "    </tr>\n",
       "  </tbody>\n",
       "</table>\n",
       "</div>"
      ],
      "text/plain": [
       "        PC1       PC2       PC3       PC4              country\n",
       "0 -2.905050  0.088089  0.718841  0.993710          Afghanistan\n",
       "1  0.428070 -0.586096  0.320090 -1.167681              Albania\n",
       "2 -0.282140 -0.445318 -1.221462 -0.847578              Algeria\n",
       "3 -2.922180  1.694341 -1.517172  0.873340               Angola\n",
       "4  1.028893  0.130097  0.192344 -0.842275  Antigua and Barbuda"
      ]
     },
     "execution_count": 47,
     "metadata": {},
     "output_type": "execute_result"
    }
   ],
   "source": [
    "df_pca.head()"
   ]
  },
  {
   "cell_type": "code",
   "execution_count": 48,
   "metadata": {},
   "outputs": [
    {
     "data": {
      "text/html": [
       "<div>\n",
       "<style scoped>\n",
       "    .dataframe tbody tr th:only-of-type {\n",
       "        vertical-align: middle;\n",
       "    }\n",
       "\n",
       "    .dataframe tbody tr th {\n",
       "        vertical-align: top;\n",
       "    }\n",
       "\n",
       "    .dataframe thead th {\n",
       "        text-align: right;\n",
       "    }\n",
       "</style>\n",
       "<table border=\"1\" class=\"dataframe\">\n",
       "  <thead>\n",
       "    <tr style=\"text-align: right;\">\n",
       "      <th></th>\n",
       "      <th>PC1</th>\n",
       "      <th>PC2</th>\n",
       "      <th>PC3</th>\n",
       "      <th>PC4</th>\n",
       "    </tr>\n",
       "  </thead>\n",
       "  <tbody>\n",
       "    <tr>\n",
       "      <th>count</th>\n",
       "      <td>149.000000</td>\n",
       "      <td>149.000000</td>\n",
       "      <td>149.000000</td>\n",
       "      <td>149.000000</td>\n",
       "    </tr>\n",
       "    <tr>\n",
       "      <th>mean</th>\n",
       "      <td>-0.154057</td>\n",
       "      <td>-0.127718</td>\n",
       "      <td>0.091165</td>\n",
       "      <td>-0.085931</td>\n",
       "    </tr>\n",
       "    <tr>\n",
       "      <th>std</th>\n",
       "      <td>1.854734</td>\n",
       "      <td>0.961479</td>\n",
       "      <td>0.706754</td>\n",
       "      <td>0.922753</td>\n",
       "    </tr>\n",
       "    <tr>\n",
       "      <th>min</th>\n",
       "      <td>-4.405521</td>\n",
       "      <td>-2.439684</td>\n",
       "      <td>-1.716549</td>\n",
       "      <td>-1.577417</td>\n",
       "    </tr>\n",
       "    <tr>\n",
       "      <th>25%</th>\n",
       "      <td>-1.525546</td>\n",
       "      <td>-0.777819</td>\n",
       "      <td>-0.294368</td>\n",
       "      <td>-0.842275</td>\n",
       "    </tr>\n",
       "    <tr>\n",
       "      <th>50%</th>\n",
       "      <td>0.011103</td>\n",
       "      <td>-0.106252</td>\n",
       "      <td>0.211773</td>\n",
       "      <td>-0.401836</td>\n",
       "    </tr>\n",
       "    <tr>\n",
       "      <th>75%</th>\n",
       "      <td>1.144175</td>\n",
       "      <td>0.541007</td>\n",
       "      <td>0.485182</td>\n",
       "      <td>0.641620</td>\n",
       "    </tr>\n",
       "    <tr>\n",
       "      <th>max</th>\n",
       "      <td>4.075670</td>\n",
       "      <td>2.370450</td>\n",
       "      <td>1.717685</td>\n",
       "      <td>2.795629</td>\n",
       "    </tr>\n",
       "  </tbody>\n",
       "</table>\n",
       "</div>"
      ],
      "text/plain": [
       "              PC1         PC2         PC3         PC4\n",
       "count  149.000000  149.000000  149.000000  149.000000\n",
       "mean    -0.154057   -0.127718    0.091165   -0.085931\n",
       "std      1.854734    0.961479    0.706754    0.922753\n",
       "min     -4.405521   -2.439684   -1.716549   -1.577417\n",
       "25%     -1.525546   -0.777819   -0.294368   -0.842275\n",
       "50%      0.011103   -0.106252    0.211773   -0.401836\n",
       "75%      1.144175    0.541007    0.485182    0.641620\n",
       "max      4.075670    2.370450    1.717685    2.795629"
      ]
     },
     "execution_count": 48,
     "metadata": {},
     "output_type": "execute_result"
    }
   ],
   "source": [
    "df_pca.describe()"
   ]
  },
  {
   "cell_type": "code",
   "execution_count": 49,
   "metadata": {},
   "outputs": [],
   "source": [
    "df_pca_country = df_pca['country']"
   ]
  },
  {
   "cell_type": "code",
   "execution_count": 50,
   "metadata": {},
   "outputs": [
    {
     "data": {
      "text/plain": [
       "0            Afghanistan\n",
       "1                Albania\n",
       "2                Algeria\n",
       "3                 Angola\n",
       "4    Antigua and Barbuda\n",
       "Name: country, dtype: object"
      ]
     },
     "execution_count": 50,
     "metadata": {},
     "output_type": "execute_result"
    }
   ],
   "source": [
    "df_pca_country.head()"
   ]
  },
  {
   "cell_type": "code",
   "execution_count": 51,
   "metadata": {},
   "outputs": [],
   "source": [
    "df_pca = df_pca.drop(['country'],axis=1)"
   ]
  },
  {
   "cell_type": "code",
   "execution_count": 52,
   "metadata": {},
   "outputs": [
    {
     "data": {
      "text/html": [
       "<div>\n",
       "<style scoped>\n",
       "    .dataframe tbody tr th:only-of-type {\n",
       "        vertical-align: middle;\n",
       "    }\n",
       "\n",
       "    .dataframe tbody tr th {\n",
       "        vertical-align: top;\n",
       "    }\n",
       "\n",
       "    .dataframe thead th {\n",
       "        text-align: right;\n",
       "    }\n",
       "</style>\n",
       "<table border=\"1\" class=\"dataframe\">\n",
       "  <thead>\n",
       "    <tr style=\"text-align: right;\">\n",
       "      <th></th>\n",
       "      <th>PC1</th>\n",
       "      <th>PC2</th>\n",
       "      <th>PC3</th>\n",
       "      <th>PC4</th>\n",
       "    </tr>\n",
       "  </thead>\n",
       "  <tbody>\n",
       "    <tr>\n",
       "      <th>0</th>\n",
       "      <td>-2.905050</td>\n",
       "      <td>0.088089</td>\n",
       "      <td>0.718841</td>\n",
       "      <td>0.993710</td>\n",
       "    </tr>\n",
       "    <tr>\n",
       "      <th>1</th>\n",
       "      <td>0.428070</td>\n",
       "      <td>-0.586096</td>\n",
       "      <td>0.320090</td>\n",
       "      <td>-1.167681</td>\n",
       "    </tr>\n",
       "    <tr>\n",
       "      <th>2</th>\n",
       "      <td>-0.282140</td>\n",
       "      <td>-0.445318</td>\n",
       "      <td>-1.221462</td>\n",
       "      <td>-0.847578</td>\n",
       "    </tr>\n",
       "    <tr>\n",
       "      <th>3</th>\n",
       "      <td>-2.922180</td>\n",
       "      <td>1.694341</td>\n",
       "      <td>-1.517172</td>\n",
       "      <td>0.873340</td>\n",
       "    </tr>\n",
       "    <tr>\n",
       "      <th>4</th>\n",
       "      <td>1.028893</td>\n",
       "      <td>0.130097</td>\n",
       "      <td>0.192344</td>\n",
       "      <td>-0.842275</td>\n",
       "    </tr>\n",
       "  </tbody>\n",
       "</table>\n",
       "</div>"
      ],
      "text/plain": [
       "        PC1       PC2       PC3       PC4\n",
       "0 -2.905050  0.088089  0.718841  0.993710\n",
       "1  0.428070 -0.586096  0.320090 -1.167681\n",
       "2 -0.282140 -0.445318 -1.221462 -0.847578\n",
       "3 -2.922180  1.694341 -1.517172  0.873340\n",
       "4  1.028893  0.130097  0.192344 -0.842275"
      ]
     },
     "execution_count": 52,
     "metadata": {},
     "output_type": "execute_result"
    }
   ],
   "source": [
    "df_pca.head()"
   ]
  },
  {
   "cell_type": "markdown",
   "metadata": {},
   "source": [
    "## Hopkins Statistics:\n",
    "The Hopkins statistic, is a statistic which gives a value which indicates the cluster tendency, in other words: how well the data can be clustered.\n",
    "\n",
    "- If the value is between {0.01, ...,0.3}, the data is regularly spaced.\n",
    "\n",
    "- If the value is around 0.5, it is random.\n",
    "\n",
    "- If the value is between {0.7, ..., 0.99}, it has a high tendency to cluster."
   ]
  },
  {
   "cell_type": "code",
   "execution_count": 53,
   "metadata": {},
   "outputs": [],
   "source": [
    "from sklearn.neighbors import NearestNeighbors\n",
    "from random import sample\n",
    "from numpy.random import uniform\n",
    "import numpy as np\n",
    "from math import isnan\n",
    " \n",
    "def hopkins(X):\n",
    "    d = X.shape[1]\n",
    "    #d = len(vars) # columns\n",
    "    n = len(X) # rows\n",
    "    m = int(0.1 * n) \n",
    "    nbrs = NearestNeighbors(n_neighbors=1).fit(X.values)\n",
    " \n",
    "    rand_X = sample(range(0, n, 1), m)\n",
    " \n",
    "    ujd = []\n",
    "    wjd = []\n",
    "    for j in range(0, m):\n",
    "        u_dist, _ = nbrs.kneighbors(uniform(np.amin(X,axis=0),np.amax(X,axis=0),d).reshape(1, -1), 2, return_distance=True)\n",
    "        ujd.append(u_dist[0][1])\n",
    "        w_dist, _ = nbrs.kneighbors(X.iloc[rand_X[j]].values.reshape(1, -1), 2, return_distance=True)\n",
    "        wjd.append(w_dist[0][1])\n",
    " \n",
    "    H = sum(ujd) / (sum(ujd) + sum(wjd))\n",
    "    if isnan(H):\n",
    "        print(ujd, wjd)\n",
    "        H = 0\n",
    " \n",
    "    return H"
   ]
  },
  {
   "cell_type": "code",
   "execution_count": 56,
   "metadata": {},
   "outputs": [
    {
     "data": {
      "text/plain": [
       "0.7775095091324615"
      ]
     },
     "execution_count": 56,
     "metadata": {},
     "output_type": "execute_result"
    }
   ],
   "source": [
    "hopkins(df_pca)"
   ]
  },
  {
   "cell_type": "markdown",
   "metadata": {},
   "source": [
    "## K-Means with some K"
   ]
  },
  {
   "cell_type": "code",
   "execution_count": 57,
   "metadata": {},
   "outputs": [
    {
     "data": {
      "text/plain": [
       "KMeans(algorithm='auto', copy_x=True, init='k-means++', max_iter=50,\n",
       "    n_clusters=4, n_init=10, n_jobs=1, precompute_distances='auto',\n",
       "    random_state=None, tol=0.0001, verbose=0)"
      ]
     },
     "execution_count": 57,
     "metadata": {},
     "output_type": "execute_result"
    }
   ],
   "source": [
    "# Kmeans with K=5\n",
    "from sklearn.cluster import KMeans\n",
    "\n",
    "model_clus5 = KMeans(n_clusters = 4, max_iter=50)\n",
    "model_clus5.fit(df_pca)"
   ]
  },
  {
   "cell_type": "markdown",
   "metadata": {},
   "source": [
    "## Silhouette Analysis\n",
    "\n",
    "$$\\text{silhouette score}=\\frac{p-q}{max(p,q)}$$\n",
    "\n",
    "$p$ is the mean distance to the points in the nearest cluster that the data point is not a part of\n",
    "\n",
    "$q$ is the mean intra-cluster distance to all the points in its own cluster.\n",
    "\n",
    "* The value of the silhouette score range lies between -1 to 1. \n",
    "\n",
    "* A score closer to 1 indicates that the data point is very similar to other data points in the cluster, \n",
    "\n",
    "* A score closer to -1 indicates that the data point is not similar to the data points in its cluster."
   ]
  },
  {
   "cell_type": "code",
   "execution_count": 58,
   "metadata": {},
   "outputs": [],
   "source": [
    "from sklearn.metrics import silhouette_score\n",
    "sse_ = []\n",
    "for k in range(2, 4):\n",
    "    kmeans = KMeans(n_clusters=k).fit(df_pca)\n",
    "    sse_.append([k, silhouette_score(df_pca, kmeans.labels_)])"
   ]
  },
  {
   "cell_type": "code",
   "execution_count": 59,
   "metadata": {},
   "outputs": [
    {
     "data": {
      "image/png": "[encoded data removed]",
      "text/plain": [
       "<Figure size 432x288 with 1 Axes>"
      ]
     },
     "metadata": {
      "needs_background": "light"
     },
     "output_type": "display_data"
    }
   ],
   "source": [
    "plt.plot(pd.DataFrame(sse_)[0], pd.DataFrame(sse_)[1]);"
   ]
  },
  {
   "cell_type": "markdown",
   "metadata": {},
   "source": [
    "## Sum of Squared Distances"
   ]
  },
  {
   "cell_type": "code",
   "execution_count": 60,
   "metadata": {},
   "outputs": [
    {
     "data": {
      "text/plain": [
       "[<matplotlib.lines.Line2D at 0x2572b6eb898>]"
      ]
     },
     "execution_count": 60,
     "metadata": {},
     "output_type": "execute_result"
    },
    {
     "data": {
      "image/png": "[encoded data removed]",
      "text/plain": [
       "<Figure size 432x288 with 1 Axes>"
      ]
     },
     "metadata": {
      "needs_background": "light"
     },
     "output_type": "display_data"
    }
   ],
   "source": [
    "# sum of squared distances\n",
    "ssd = []\n",
    "for num_clusters in list(range(1,21)):\n",
    "    model_clus = KMeans(n_clusters = num_clusters, max_iter=50)\n",
    "    model_clus.fit(df_pca)\n",
    "    ssd.append(model_clus.inertia_)\n",
    "\n",
    "plt.plot(ssd)"
   ]
  },
  {
   "cell_type": "code",
   "execution_count": 61,
   "metadata": {},
   "outputs": [
    {
     "data": {
      "text/plain": [
       "[<matplotlib.lines.Line2D at 0x2572b834ba8>]"
      ]
     },
     "execution_count": 61,
     "metadata": {},
     "output_type": "execute_result"
    },
    {
     "data": {
      "image/png": "[encoded data removed]",
      "text/plain": [
       "<Figure size 432x288 with 1 Axes>"
      ]
     },
     "metadata": {
      "needs_background": "light"
     },
     "output_type": "display_data"
    }
   ],
   "source": [
    "### K-Means with some K\n",
    "\n",
    "# Kmeans with K=5\n",
    "\n",
    "model_clus51 = KMeans(n_clusters = 5, max_iter=50)\n",
    "model_clus51.fit(df_pca)\n",
    "\n",
    "### Silhouette Analysis\n",
    "\n",
    "sse1_ = []\n",
    "for k in range(2, 5):\n",
    "    kmeans1 = KMeans(n_clusters=k).fit(df_pca)\n",
    "    sse1_.append([k, silhouette_score(df_pca, kmeans1.labels_)])\n",
    "    \n",
    "plt.plot(pd.DataFrame(sse_)[0], pd.DataFrame(sse_)[1]);\n",
    "\n",
    "### Sum of Squared Distances\n",
    "\n",
    "# sum of squared distances\n",
    "ssd1 = []\n",
    "for num_clusters in list(range(1,21)):\n",
    "    model_clus1 = KMeans(n_clusters = num_clusters, max_iter=50)\n",
    "    model_clus1.fit(df_pca)\n",
    "    ssd1.append(model_clus1.inertia_)\n",
    "\n",
    "plt.plot(ssd1)"
   ]
  },
  {
   "cell_type": "code",
   "execution_count": 62,
   "metadata": {},
   "outputs": [
    {
     "data": {
      "text/html": [
       "<div>\n",
       "<style scoped>\n",
       "    .dataframe tbody tr th:only-of-type {\n",
       "        vertical-align: middle;\n",
       "    }\n",
       "\n",
       "    .dataframe tbody tr th {\n",
       "        vertical-align: top;\n",
       "    }\n",
       "\n",
       "    .dataframe thead th {\n",
       "        text-align: right;\n",
       "    }\n",
       "</style>\n",
       "<table border=\"1\" class=\"dataframe\">\n",
       "  <thead>\n",
       "    <tr style=\"text-align: right;\">\n",
       "      <th></th>\n",
       "      <th>PC1</th>\n",
       "      <th>PC2</th>\n",
       "      <th>PC3</th>\n",
       "      <th>PC4</th>\n",
       "    </tr>\n",
       "  </thead>\n",
       "  <tbody>\n",
       "    <tr>\n",
       "      <th>count</th>\n",
       "      <td>149.000000</td>\n",
       "      <td>149.000000</td>\n",
       "      <td>149.000000</td>\n",
       "      <td>149.000000</td>\n",
       "    </tr>\n",
       "    <tr>\n",
       "      <th>mean</th>\n",
       "      <td>-0.154057</td>\n",
       "      <td>-0.127718</td>\n",
       "      <td>0.091165</td>\n",
       "      <td>-0.085931</td>\n",
       "    </tr>\n",
       "    <tr>\n",
       "      <th>std</th>\n",
       "      <td>1.854734</td>\n",
       "      <td>0.961479</td>\n",
       "      <td>0.706754</td>\n",
       "      <td>0.922753</td>\n",
       "    </tr>\n",
       "    <tr>\n",
       "      <th>min</th>\n",
       "      <td>-4.405521</td>\n",
       "      <td>-2.439684</td>\n",
       "      <td>-1.716549</td>\n",
       "      <td>-1.577417</td>\n",
       "    </tr>\n",
       "    <tr>\n",
       "      <th>25%</th>\n",
       "      <td>-1.525546</td>\n",
       "      <td>-0.777819</td>\n",
       "      <td>-0.294368</td>\n",
       "      <td>-0.842275</td>\n",
       "    </tr>\n",
       "    <tr>\n",
       "      <th>50%</th>\n",
       "      <td>0.011103</td>\n",
       "      <td>-0.106252</td>\n",
       "      <td>0.211773</td>\n",
       "      <td>-0.401836</td>\n",
       "    </tr>\n",
       "    <tr>\n",
       "      <th>75%</th>\n",
       "      <td>1.144175</td>\n",
       "      <td>0.541007</td>\n",
       "      <td>0.485182</td>\n",
       "      <td>0.641620</td>\n",
       "    </tr>\n",
       "    <tr>\n",
       "      <th>max</th>\n",
       "      <td>4.075670</td>\n",
       "      <td>2.370450</td>\n",
       "      <td>1.717685</td>\n",
       "      <td>2.795629</td>\n",
       "    </tr>\n",
       "  </tbody>\n",
       "</table>\n",
       "</div>"
      ],
      "text/plain": [
       "              PC1         PC2         PC3         PC4\n",
       "count  149.000000  149.000000  149.000000  149.000000\n",
       "mean    -0.154057   -0.127718    0.091165   -0.085931\n",
       "std      1.854734    0.961479    0.706754    0.922753\n",
       "min     -4.405521   -2.439684   -1.716549   -1.577417\n",
       "25%     -1.525546   -0.777819   -0.294368   -0.842275\n",
       "50%      0.011103   -0.106252    0.211773   -0.401836\n",
       "75%      1.144175    0.541007    0.485182    0.641620\n",
       "max      4.075670    2.370450    1.717685    2.795629"
      ]
     },
     "execution_count": 62,
     "metadata": {},
     "output_type": "execute_result"
    }
   ],
   "source": [
    "df_pca.describe()"
   ]
  },
  {
   "cell_type": "code",
   "execution_count": 63,
   "metadata": {},
   "outputs": [],
   "source": [
    "# analysis of clusters formed\n",
    "df_pca.index = pd.RangeIndex(len(df_pca.index))\n",
    "df_pca_km = pd.concat([df_pca, pd.Series(model_clus5.labels_)], axis=1)"
   ]
  },
  {
   "cell_type": "code",
   "execution_count": 64,
   "metadata": {},
   "outputs": [
    {
     "data": {
      "text/html": [
       "<div>\n",
       "<style scoped>\n",
       "    .dataframe tbody tr th:only-of-type {\n",
       "        vertical-align: middle;\n",
       "    }\n",
       "\n",
       "    .dataframe tbody tr th {\n",
       "        vertical-align: top;\n",
       "    }\n",
       "\n",
       "    .dataframe thead th {\n",
       "        text-align: right;\n",
       "    }\n",
       "</style>\n",
       "<table border=\"1\" class=\"dataframe\">\n",
       "  <thead>\n",
       "    <tr style=\"text-align: right;\">\n",
       "      <th></th>\n",
       "      <th>PC1</th>\n",
       "      <th>PC2</th>\n",
       "      <th>PC3</th>\n",
       "      <th>PC4</th>\n",
       "      <th>0</th>\n",
       "    </tr>\n",
       "  </thead>\n",
       "  <tbody>\n",
       "    <tr>\n",
       "      <th>0</th>\n",
       "      <td>-2.905050</td>\n",
       "      <td>0.088089</td>\n",
       "      <td>0.718841</td>\n",
       "      <td>0.993710</td>\n",
       "      <td>0</td>\n",
       "    </tr>\n",
       "    <tr>\n",
       "      <th>1</th>\n",
       "      <td>0.428070</td>\n",
       "      <td>-0.586096</td>\n",
       "      <td>0.320090</td>\n",
       "      <td>-1.167681</td>\n",
       "      <td>1</td>\n",
       "    </tr>\n",
       "    <tr>\n",
       "      <th>2</th>\n",
       "      <td>-0.282140</td>\n",
       "      <td>-0.445318</td>\n",
       "      <td>-1.221462</td>\n",
       "      <td>-0.847578</td>\n",
       "      <td>1</td>\n",
       "    </tr>\n",
       "    <tr>\n",
       "      <th>3</th>\n",
       "      <td>-2.922180</td>\n",
       "      <td>1.694341</td>\n",
       "      <td>-1.517172</td>\n",
       "      <td>0.873340</td>\n",
       "      <td>0</td>\n",
       "    </tr>\n",
       "    <tr>\n",
       "      <th>4</th>\n",
       "      <td>1.028893</td>\n",
       "      <td>0.130097</td>\n",
       "      <td>0.192344</td>\n",
       "      <td>-0.842275</td>\n",
       "      <td>3</td>\n",
       "    </tr>\n",
       "  </tbody>\n",
       "</table>\n",
       "</div>"
      ],
      "text/plain": [
       "        PC1       PC2       PC3       PC4  0\n",
       "0 -2.905050  0.088089  0.718841  0.993710  0\n",
       "1  0.428070 -0.586096  0.320090 -1.167681  1\n",
       "2 -0.282140 -0.445318 -1.221462 -0.847578  1\n",
       "3 -2.922180  1.694341 -1.517172  0.873340  0\n",
       "4  1.028893  0.130097  0.192344 -0.842275  3"
      ]
     },
     "execution_count": 64,
     "metadata": {},
     "output_type": "execute_result"
    }
   ],
   "source": [
    "df_pca_km.head()"
   ]
  },
  {
   "cell_type": "code",
   "execution_count": 65,
   "metadata": {},
   "outputs": [],
   "source": [
    "df_pca_km.columns = [\"PC1\", \"PC2\", \"PC3\", \"PC4\", \"ClusterID\"]"
   ]
  },
  {
   "cell_type": "code",
   "execution_count": 66,
   "metadata": {},
   "outputs": [
    {
     "data": {
      "text/plain": [
       "(149, 5)"
      ]
     },
     "execution_count": 66,
     "metadata": {},
     "output_type": "execute_result"
    }
   ],
   "source": [
    "df_pca_km.shape"
   ]
  },
  {
   "cell_type": "code",
   "execution_count": 67,
   "metadata": {},
   "outputs": [
    {
     "data": {
      "text/html": [
       "<div>\n",
       "<style scoped>\n",
       "    .dataframe tbody tr th:only-of-type {\n",
       "        vertical-align: middle;\n",
       "    }\n",
       "\n",
       "    .dataframe tbody tr th {\n",
       "        vertical-align: top;\n",
       "    }\n",
       "\n",
       "    .dataframe thead th {\n",
       "        text-align: right;\n",
       "    }\n",
       "</style>\n",
       "<table border=\"1\" class=\"dataframe\">\n",
       "  <thead>\n",
       "    <tr style=\"text-align: right;\">\n",
       "      <th></th>\n",
       "      <th>PC1</th>\n",
       "      <th>PC2</th>\n",
       "      <th>PC3</th>\n",
       "      <th>PC4</th>\n",
       "      <th>ClusterID</th>\n",
       "    </tr>\n",
       "  </thead>\n",
       "  <tbody>\n",
       "    <tr>\n",
       "      <th>0</th>\n",
       "      <td>-2.905050</td>\n",
       "      <td>0.088089</td>\n",
       "      <td>0.718841</td>\n",
       "      <td>0.993710</td>\n",
       "      <td>0</td>\n",
       "    </tr>\n",
       "    <tr>\n",
       "      <th>1</th>\n",
       "      <td>0.428070</td>\n",
       "      <td>-0.586096</td>\n",
       "      <td>0.320090</td>\n",
       "      <td>-1.167681</td>\n",
       "      <td>1</td>\n",
       "    </tr>\n",
       "    <tr>\n",
       "      <th>2</th>\n",
       "      <td>-0.282140</td>\n",
       "      <td>-0.445318</td>\n",
       "      <td>-1.221462</td>\n",
       "      <td>-0.847578</td>\n",
       "      <td>1</td>\n",
       "    </tr>\n",
       "    <tr>\n",
       "      <th>3</th>\n",
       "      <td>-2.922180</td>\n",
       "      <td>1.694341</td>\n",
       "      <td>-1.517172</td>\n",
       "      <td>0.873340</td>\n",
       "      <td>0</td>\n",
       "    </tr>\n",
       "    <tr>\n",
       "      <th>4</th>\n",
       "      <td>1.028893</td>\n",
       "      <td>0.130097</td>\n",
       "      <td>0.192344</td>\n",
       "      <td>-0.842275</td>\n",
       "      <td>3</td>\n",
       "    </tr>\n",
       "  </tbody>\n",
       "</table>\n",
       "</div>"
      ],
      "text/plain": [
       "        PC1       PC2       PC3       PC4  ClusterID\n",
       "0 -2.905050  0.088089  0.718841  0.993710          0\n",
       "1  0.428070 -0.586096  0.320090 -1.167681          1\n",
       "2 -0.282140 -0.445318 -1.221462 -0.847578          1\n",
       "3 -2.922180  1.694341 -1.517172  0.873340          0\n",
       "4  1.028893  0.130097  0.192344 -0.842275          3"
      ]
     },
     "execution_count": 67,
     "metadata": {},
     "output_type": "execute_result"
    }
   ],
   "source": [
    "df_pca_km.head()"
   ]
  },
  {
   "cell_type": "code",
   "execution_count": 68,
   "metadata": {},
   "outputs": [],
   "source": [
    "#Concatenating df dataframe and country dataframe country1\n",
    "df_pca_c = pd.concat([df_pca_country, df_pca_km], axis=1)"
   ]
  },
  {
   "cell_type": "code",
   "execution_count": 69,
   "metadata": {},
   "outputs": [
    {
     "data": {
      "text/plain": [
       "(164, 6)"
      ]
     },
     "execution_count": 69,
     "metadata": {},
     "output_type": "execute_result"
    }
   ],
   "source": [
    "df_pca_c.shape"
   ]
  },
  {
   "cell_type": "code",
   "execution_count": 71,
   "metadata": {},
   "outputs": [
    {
     "data": {
      "text/html": [
       "<div>\n",
       "<style scoped>\n",
       "    .dataframe tbody tr th:only-of-type {\n",
       "        vertical-align: middle;\n",
       "    }\n",
       "\n",
       "    .dataframe tbody tr th {\n",
       "        vertical-align: top;\n",
       "    }\n",
       "\n",
       "    .dataframe thead th {\n",
       "        text-align: right;\n",
       "    }\n",
       "</style>\n",
       "<table border=\"1\" class=\"dataframe\">\n",
       "  <thead>\n",
       "    <tr style=\"text-align: right;\">\n",
       "      <th></th>\n",
       "      <th>country</th>\n",
       "      <th>PC1</th>\n",
       "      <th>PC2</th>\n",
       "      <th>PC3</th>\n",
       "      <th>PC4</th>\n",
       "      <th>ClusterID</th>\n",
       "    </tr>\n",
       "  </thead>\n",
       "  <tbody>\n",
       "    <tr>\n",
       "      <th>0</th>\n",
       "      <td>Afghanistan</td>\n",
       "      <td>-2.905050</td>\n",
       "      <td>0.088089</td>\n",
       "      <td>0.718841</td>\n",
       "      <td>0.993710</td>\n",
       "      <td>0.0</td>\n",
       "    </tr>\n",
       "    <tr>\n",
       "      <th>1</th>\n",
       "      <td>Albania</td>\n",
       "      <td>0.428070</td>\n",
       "      <td>-0.586096</td>\n",
       "      <td>0.320090</td>\n",
       "      <td>-1.167681</td>\n",
       "      <td>1.0</td>\n",
       "    </tr>\n",
       "    <tr>\n",
       "      <th>2</th>\n",
       "      <td>Algeria</td>\n",
       "      <td>-0.282140</td>\n",
       "      <td>-0.445318</td>\n",
       "      <td>-1.221462</td>\n",
       "      <td>-0.847578</td>\n",
       "      <td>1.0</td>\n",
       "    </tr>\n",
       "    <tr>\n",
       "      <th>3</th>\n",
       "      <td>Angola</td>\n",
       "      <td>-2.922180</td>\n",
       "      <td>1.694341</td>\n",
       "      <td>-1.517172</td>\n",
       "      <td>0.873340</td>\n",
       "      <td>0.0</td>\n",
       "    </tr>\n",
       "    <tr>\n",
       "      <th>4</th>\n",
       "      <td>Antigua and Barbuda</td>\n",
       "      <td>1.028893</td>\n",
       "      <td>0.130097</td>\n",
       "      <td>0.192344</td>\n",
       "      <td>-0.842275</td>\n",
       "      <td>3.0</td>\n",
       "    </tr>\n",
       "  </tbody>\n",
       "</table>\n",
       "</div>"
      ],
      "text/plain": [
       "               country       PC1       PC2       PC3       PC4  ClusterID\n",
       "0          Afghanistan -2.905050  0.088089  0.718841  0.993710        0.0\n",
       "1              Albania  0.428070 -0.586096  0.320090 -1.167681        1.0\n",
       "2              Algeria -0.282140 -0.445318 -1.221462 -0.847578        1.0\n",
       "3               Angola -2.922180  1.694341 -1.517172  0.873340        0.0\n",
       "4  Antigua and Barbuda  1.028893  0.130097  0.192344 -0.842275        3.0"
      ]
     },
     "execution_count": 71,
     "metadata": {},
     "output_type": "execute_result"
    }
   ],
   "source": [
    "df_pca_c.head()"
   ]
  },
  {
   "cell_type": "code",
   "execution_count": 72,
   "metadata": {},
   "outputs": [
    {
     "data": {
      "text/plain": [
       "(167, 10)"
      ]
     },
     "execution_count": 72,
     "metadata": {},
     "output_type": "execute_result"
    }
   ],
   "source": [
    "df_country_original.shape"
   ]
  },
  {
   "cell_type": "code",
   "execution_count": 73,
   "metadata": {},
   "outputs": [
    {
     "data": {
      "text/html": [
       "<div>\n",
       "<style scoped>\n",
       "    .dataframe tbody tr th:only-of-type {\n",
       "        vertical-align: middle;\n",
       "    }\n",
       "\n",
       "    .dataframe tbody tr th {\n",
       "        vertical-align: top;\n",
       "    }\n",
       "\n",
       "    .dataframe thead th {\n",
       "        text-align: right;\n",
       "    }\n",
       "</style>\n",
       "<table border=\"1\" class=\"dataframe\">\n",
       "  <thead>\n",
       "    <tr style=\"text-align: right;\">\n",
       "      <th></th>\n",
       "      <th>country</th>\n",
       "      <th>child_mort</th>\n",
       "      <th>exports</th>\n",
       "      <th>health</th>\n",
       "      <th>imports</th>\n",
       "      <th>income</th>\n",
       "      <th>inflation</th>\n",
       "      <th>life_expec</th>\n",
       "      <th>total_fer</th>\n",
       "      <th>gdpp</th>\n",
       "    </tr>\n",
       "  </thead>\n",
       "  <tbody>\n",
       "    <tr>\n",
       "      <th>0</th>\n",
       "      <td>Afghanistan</td>\n",
       "      <td>1.287660</td>\n",
       "      <td>-1.134867</td>\n",
       "      <td>0.278251</td>\n",
       "      <td>-0.082208</td>\n",
       "      <td>-0.805822</td>\n",
       "      <td>0.156864</td>\n",
       "      <td>-1.614237</td>\n",
       "      <td>1.897176</td>\n",
       "      <td>-0.677143</td>\n",
       "    </tr>\n",
       "    <tr>\n",
       "      <th>1</th>\n",
       "      <td>Albania</td>\n",
       "      <td>-0.537333</td>\n",
       "      <td>-0.478220</td>\n",
       "      <td>-0.096725</td>\n",
       "      <td>0.070624</td>\n",
       "      <td>-0.374243</td>\n",
       "      <td>-0.311411</td>\n",
       "      <td>0.645924</td>\n",
       "      <td>-0.857394</td>\n",
       "      <td>-0.484167</td>\n",
       "    </tr>\n",
       "    <tr>\n",
       "      <th>2</th>\n",
       "      <td>Algeria</td>\n",
       "      <td>-0.272015</td>\n",
       "      <td>-0.098824</td>\n",
       "      <td>-0.963176</td>\n",
       "      <td>-0.639838</td>\n",
       "      <td>-0.220182</td>\n",
       "      <td>0.786908</td>\n",
       "      <td>0.668413</td>\n",
       "      <td>-0.038289</td>\n",
       "      <td>-0.463980</td>\n",
       "    </tr>\n",
       "    <tr>\n",
       "      <th>3</th>\n",
       "      <td>Angola</td>\n",
       "      <td>2.001787</td>\n",
       "      <td>0.773056</td>\n",
       "      <td>-1.443729</td>\n",
       "      <td>-0.164820</td>\n",
       "      <td>-0.583289</td>\n",
       "      <td>1.382894</td>\n",
       "      <td>-1.175698</td>\n",
       "      <td>2.121770</td>\n",
       "      <td>-0.514720</td>\n",
       "    </tr>\n",
       "    <tr>\n",
       "      <th>4</th>\n",
       "      <td>Antigua and Barbuda</td>\n",
       "      <td>-0.693548</td>\n",
       "      <td>0.160186</td>\n",
       "      <td>-0.286034</td>\n",
       "      <td>0.496076</td>\n",
       "      <td>0.101427</td>\n",
       "      <td>-0.599944</td>\n",
       "      <td>0.702147</td>\n",
       "      <td>-0.540321</td>\n",
       "      <td>-0.041692</td>\n",
       "    </tr>\n",
       "  </tbody>\n",
       "</table>\n",
       "</div>"
      ],
      "text/plain": [
       "               country  child_mort   exports    health   imports    income  \\\n",
       "0          Afghanistan    1.287660 -1.134867  0.278251 -0.082208 -0.805822   \n",
       "1              Albania   -0.537333 -0.478220 -0.096725  0.070624 -0.374243   \n",
       "2              Algeria   -0.272015 -0.098824 -0.963176 -0.639838 -0.220182   \n",
       "3               Angola    2.001787  0.773056 -1.443729 -0.164820 -0.583289   \n",
       "4  Antigua and Barbuda   -0.693548  0.160186 -0.286034  0.496076  0.101427   \n",
       "\n",
       "   inflation  life_expec  total_fer      gdpp  \n",
       "0   0.156864   -1.614237   1.897176 -0.677143  \n",
       "1  -0.311411    0.645924  -0.857394 -0.484167  \n",
       "2   0.786908    0.668413  -0.038289 -0.463980  \n",
       "3   1.382894   -1.175698   2.121770 -0.514720  \n",
       "4  -0.599944    0.702147  -0.540321 -0.041692  "
      ]
     },
     "execution_count": 73,
     "metadata": {},
     "output_type": "execute_result"
    }
   ],
   "source": [
    "df_country_original.head()"
   ]
  },
  {
   "cell_type": "code",
   "execution_count": 74,
   "metadata": {},
   "outputs": [
    {
     "name": "stdout",
     "output_type": "stream",
     "text": [
      "<class 'pandas.core.frame.DataFrame'>\n"
     ]
    }
   ],
   "source": [
    "print(type(df_country_original))"
   ]
  },
  {
   "cell_type": "code",
   "execution_count": 75,
   "metadata": {},
   "outputs": [
    {
     "name": "stdout",
     "output_type": "stream",
     "text": [
      "<class 'pandas.core.frame.DataFrame'>\n"
     ]
    }
   ],
   "source": [
    "print(type(df_pca_c))"
   ]
  },
  {
   "cell_type": "code",
   "execution_count": 76,
   "metadata": {},
   "outputs": [
    {
     "name": "stdout",
     "output_type": "stream",
     "text": [
      "<class 'pandas.core.frame.DataFrame'>\n",
      "RangeIndex: 167 entries, 0 to 166\n",
      "Data columns (total 10 columns):\n",
      "country       167 non-null object\n",
      "child_mort    167 non-null float64\n",
      "exports       167 non-null float64\n",
      "health        167 non-null float64\n",
      "imports       167 non-null float64\n",
      "income        167 non-null float64\n",
      "inflation     167 non-null float64\n",
      "life_expec    167 non-null float64\n",
      "total_fer     167 non-null float64\n",
      "gdpp          167 non-null float64\n",
      "dtypes: float64(9), object(1)\n",
      "memory usage: 13.1+ KB\n"
     ]
    }
   ],
   "source": [
    "df_country_original.info()"
   ]
  },
  {
   "cell_type": "code",
   "execution_count": 77,
   "metadata": {},
   "outputs": [
    {
     "name": "stdout",
     "output_type": "stream",
     "text": [
      "<class 'pandas.core.frame.DataFrame'>\n",
      "Int64Index: 164 entries, 0 to 166\n",
      "Data columns (total 6 columns):\n",
      "country      149 non-null object\n",
      "PC1          149 non-null float64\n",
      "PC2          149 non-null float64\n",
      "PC3          149 non-null float64\n",
      "PC4          149 non-null float64\n",
      "ClusterID    149 non-null float64\n",
      "dtypes: float64(5), object(1)\n",
      "memory usage: 9.0+ KB\n"
     ]
    }
   ],
   "source": [
    "df_pca_c.info()"
   ]
  },
  {
   "cell_type": "code",
   "execution_count": 78,
   "metadata": {},
   "outputs": [
    {
     "data": {
      "text/html": [
       "<div>\n",
       "<style scoped>\n",
       "    .dataframe tbody tr th:only-of-type {\n",
       "        vertical-align: middle;\n",
       "    }\n",
       "\n",
       "    .dataframe tbody tr th {\n",
       "        vertical-align: top;\n",
       "    }\n",
       "\n",
       "    .dataframe thead th {\n",
       "        text-align: right;\n",
       "    }\n",
       "</style>\n",
       "<table border=\"1\" class=\"dataframe\">\n",
       "  <thead>\n",
       "    <tr style=\"text-align: right;\">\n",
       "      <th></th>\n",
       "      <th>country</th>\n",
       "      <th>PC1</th>\n",
       "      <th>PC2</th>\n",
       "      <th>PC3</th>\n",
       "      <th>PC4</th>\n",
       "      <th>ClusterID</th>\n",
       "    </tr>\n",
       "  </thead>\n",
       "  <tbody>\n",
       "    <tr>\n",
       "      <th>0</th>\n",
       "      <td>Afghanistan</td>\n",
       "      <td>-2.905050</td>\n",
       "      <td>0.088089</td>\n",
       "      <td>0.718841</td>\n",
       "      <td>0.993710</td>\n",
       "      <td>0.0</td>\n",
       "    </tr>\n",
       "    <tr>\n",
       "      <th>1</th>\n",
       "      <td>Albania</td>\n",
       "      <td>0.428070</td>\n",
       "      <td>-0.586096</td>\n",
       "      <td>0.320090</td>\n",
       "      <td>-1.167681</td>\n",
       "      <td>1.0</td>\n",
       "    </tr>\n",
       "    <tr>\n",
       "      <th>2</th>\n",
       "      <td>Algeria</td>\n",
       "      <td>-0.282140</td>\n",
       "      <td>-0.445318</td>\n",
       "      <td>-1.221462</td>\n",
       "      <td>-0.847578</td>\n",
       "      <td>1.0</td>\n",
       "    </tr>\n",
       "    <tr>\n",
       "      <th>3</th>\n",
       "      <td>Angola</td>\n",
       "      <td>-2.922180</td>\n",
       "      <td>1.694341</td>\n",
       "      <td>-1.517172</td>\n",
       "      <td>0.873340</td>\n",
       "      <td>0.0</td>\n",
       "    </tr>\n",
       "    <tr>\n",
       "      <th>4</th>\n",
       "      <td>Antigua and Barbuda</td>\n",
       "      <td>1.028893</td>\n",
       "      <td>0.130097</td>\n",
       "      <td>0.192344</td>\n",
       "      <td>-0.842275</td>\n",
       "      <td>3.0</td>\n",
       "    </tr>\n",
       "  </tbody>\n",
       "</table>\n",
       "</div>"
      ],
      "text/plain": [
       "               country       PC1       PC2       PC3       PC4  ClusterID\n",
       "0          Afghanistan -2.905050  0.088089  0.718841  0.993710        0.0\n",
       "1              Albania  0.428070 -0.586096  0.320090 -1.167681        1.0\n",
       "2              Algeria -0.282140 -0.445318 -1.221462 -0.847578        1.0\n",
       "3               Angola -2.922180  1.694341 -1.517172  0.873340        0.0\n",
       "4  Antigua and Barbuda  1.028893  0.130097  0.192344 -0.842275        3.0"
      ]
     },
     "execution_count": 78,
     "metadata": {},
     "output_type": "execute_result"
    }
   ],
   "source": [
    "df_pca_c.head()"
   ]
  },
  {
   "cell_type": "code",
   "execution_count": 79,
   "metadata": {},
   "outputs": [],
   "source": [
    "#Merging using inner join on country column\n",
    "df_pca_cluster = pd.merge(df_pca_c, df_country_original, on='country', how='inner')"
   ]
  },
  {
   "cell_type": "code",
   "execution_count": 80,
   "metadata": {},
   "outputs": [
    {
     "data": {
      "text/plain": [
       "(149, 15)"
      ]
     },
     "execution_count": 80,
     "metadata": {},
     "output_type": "execute_result"
    }
   ],
   "source": [
    "df_pca_cluster.shape"
   ]
  },
  {
   "cell_type": "code",
   "execution_count": 81,
   "metadata": {},
   "outputs": [
    {
     "data": {
      "text/html": [
       "<div>\n",
       "<style scoped>\n",
       "    .dataframe tbody tr th:only-of-type {\n",
       "        vertical-align: middle;\n",
       "    }\n",
       "\n",
       "    .dataframe tbody tr th {\n",
       "        vertical-align: top;\n",
       "    }\n",
       "\n",
       "    .dataframe thead th {\n",
       "        text-align: right;\n",
       "    }\n",
       "</style>\n",
       "<table border=\"1\" class=\"dataframe\">\n",
       "  <thead>\n",
       "    <tr style=\"text-align: right;\">\n",
       "      <th></th>\n",
       "      <th>country</th>\n",
       "      <th>PC1</th>\n",
       "      <th>PC2</th>\n",
       "      <th>PC3</th>\n",
       "      <th>PC4</th>\n",
       "      <th>ClusterID</th>\n",
       "      <th>child_mort</th>\n",
       "      <th>exports</th>\n",
       "      <th>health</th>\n",
       "      <th>imports</th>\n",
       "      <th>income</th>\n",
       "      <th>inflation</th>\n",
       "      <th>life_expec</th>\n",
       "      <th>total_fer</th>\n",
       "      <th>gdpp</th>\n",
       "    </tr>\n",
       "  </thead>\n",
       "  <tbody>\n",
       "    <tr>\n",
       "      <th>0</th>\n",
       "      <td>Afghanistan</td>\n",
       "      <td>-2.905050</td>\n",
       "      <td>0.088089</td>\n",
       "      <td>0.718841</td>\n",
       "      <td>0.993710</td>\n",
       "      <td>0.0</td>\n",
       "      <td>1.287660</td>\n",
       "      <td>-1.134867</td>\n",
       "      <td>0.278251</td>\n",
       "      <td>-0.082208</td>\n",
       "      <td>-0.805822</td>\n",
       "      <td>0.156864</td>\n",
       "      <td>-1.614237</td>\n",
       "      <td>1.897176</td>\n",
       "      <td>-0.677143</td>\n",
       "    </tr>\n",
       "    <tr>\n",
       "      <th>1</th>\n",
       "      <td>Albania</td>\n",
       "      <td>0.428070</td>\n",
       "      <td>-0.586096</td>\n",
       "      <td>0.320090</td>\n",
       "      <td>-1.167681</td>\n",
       "      <td>1.0</td>\n",
       "      <td>-0.537333</td>\n",
       "      <td>-0.478220</td>\n",
       "      <td>-0.096725</td>\n",
       "      <td>0.070624</td>\n",
       "      <td>-0.374243</td>\n",
       "      <td>-0.311411</td>\n",
       "      <td>0.645924</td>\n",
       "      <td>-0.857394</td>\n",
       "      <td>-0.484167</td>\n",
       "    </tr>\n",
       "    <tr>\n",
       "      <th>2</th>\n",
       "      <td>Algeria</td>\n",
       "      <td>-0.282140</td>\n",
       "      <td>-0.445318</td>\n",
       "      <td>-1.221462</td>\n",
       "      <td>-0.847578</td>\n",
       "      <td>1.0</td>\n",
       "      <td>-0.272015</td>\n",
       "      <td>-0.098824</td>\n",
       "      <td>-0.963176</td>\n",
       "      <td>-0.639838</td>\n",
       "      <td>-0.220182</td>\n",
       "      <td>0.786908</td>\n",
       "      <td>0.668413</td>\n",
       "      <td>-0.038289</td>\n",
       "      <td>-0.463980</td>\n",
       "    </tr>\n",
       "    <tr>\n",
       "      <th>3</th>\n",
       "      <td>Angola</td>\n",
       "      <td>-2.922180</td>\n",
       "      <td>1.694341</td>\n",
       "      <td>-1.517172</td>\n",
       "      <td>0.873340</td>\n",
       "      <td>0.0</td>\n",
       "      <td>2.001787</td>\n",
       "      <td>0.773056</td>\n",
       "      <td>-1.443729</td>\n",
       "      <td>-0.164820</td>\n",
       "      <td>-0.583289</td>\n",
       "      <td>1.382894</td>\n",
       "      <td>-1.175698</td>\n",
       "      <td>2.121770</td>\n",
       "      <td>-0.514720</td>\n",
       "    </tr>\n",
       "    <tr>\n",
       "      <th>4</th>\n",
       "      <td>Antigua and Barbuda</td>\n",
       "      <td>1.028893</td>\n",
       "      <td>0.130097</td>\n",
       "      <td>0.192344</td>\n",
       "      <td>-0.842275</td>\n",
       "      <td>3.0</td>\n",
       "      <td>-0.693548</td>\n",
       "      <td>0.160186</td>\n",
       "      <td>-0.286034</td>\n",
       "      <td>0.496076</td>\n",
       "      <td>0.101427</td>\n",
       "      <td>-0.599944</td>\n",
       "      <td>0.702147</td>\n",
       "      <td>-0.540321</td>\n",
       "      <td>-0.041692</td>\n",
       "    </tr>\n",
       "  </tbody>\n",
       "</table>\n",
       "</div>"
      ],
      "text/plain": [
       "               country       PC1       PC2       PC3       PC4  ClusterID  \\\n",
       "0          Afghanistan -2.905050  0.088089  0.718841  0.993710        0.0   \n",
       "1              Albania  0.428070 -0.586096  0.320090 -1.167681        1.0   \n",
       "2              Algeria -0.282140 -0.445318 -1.221462 -0.847578        1.0   \n",
       "3               Angola -2.922180  1.694341 -1.517172  0.873340        0.0   \n",
       "4  Antigua and Barbuda  1.028893  0.130097  0.192344 -0.842275        3.0   \n",
       "\n",
       "   child_mort   exports    health   imports    income  inflation  life_expec  \\\n",
       "0    1.287660 -1.134867  0.278251 -0.082208 -0.805822   0.156864   -1.614237   \n",
       "1   -0.537333 -0.478220 -0.096725  0.070624 -0.374243  -0.311411    0.645924   \n",
       "2   -0.272015 -0.098824 -0.963176 -0.639838 -0.220182   0.786908    0.668413   \n",
       "3    2.001787  0.773056 -1.443729 -0.164820 -0.583289   1.382894   -1.175698   \n",
       "4   -0.693548  0.160186 -0.286034  0.496076  0.101427  -0.599944    0.702147   \n",
       "\n",
       "   total_fer      gdpp  \n",
       "0   1.897176 -0.677143  \n",
       "1  -0.857394 -0.484167  \n",
       "2  -0.038289 -0.463980  \n",
       "3   2.121770 -0.514720  \n",
       "4  -0.540321 -0.041692  "
      ]
     },
     "execution_count": 81,
     "metadata": {},
     "output_type": "execute_result"
    }
   ],
   "source": [
    "df_pca_cluster.head()"
   ]
  },
  {
   "cell_type": "code",
   "execution_count": 82,
   "metadata": {},
   "outputs": [],
   "source": [
    "#Anaylsis of clusters by taking mean\n",
    "\n",
    "df_pca_cluster_PC1 = \tpd.DataFrame(df_pca_cluster.groupby([\"ClusterID\"]).PC1.mean())\n",
    "df_pca_cluster_PC2 = \tpd.DataFrame(df_pca_cluster.groupby([\"ClusterID\"]).PC2.mean())\n",
    "df_pca_cluster_PC3 = \tpd.DataFrame(df_pca_cluster.groupby([\"ClusterID\"]).PC3.mean())\n",
    "df_pca_cluster_PC4 = \tpd.DataFrame(df_pca_cluster.groupby([\"ClusterID\"]).PC4.mean())\n",
    "df_pca_cluster_child_mort = \tpd.DataFrame(df_pca_cluster.groupby([\"ClusterID\"]).child_mort.mean())\n",
    "df_pca_cluster_exports = \tpd.DataFrame(df_pca_cluster.groupby([\"ClusterID\"]).exports.mean())\n",
    "df_pca_cluster_health = \tpd.DataFrame(df_pca_cluster.groupby([\"ClusterID\"]).health.mean())\n",
    "df_pca_cluster_imports = \tpd.DataFrame(df_pca_cluster.groupby([\"ClusterID\"]).imports.mean())\n",
    "df_pca_cluster_income = \tpd.DataFrame(df_pca_cluster.groupby([\"ClusterID\"]).income.mean())\n",
    "df_pca_cluster_inflation = \tpd.DataFrame(df_pca_cluster.groupby([\"ClusterID\"]).inflation.mean())\n",
    "df_pca_cluster_life_expec = \tpd.DataFrame(df_pca_cluster.groupby([\"ClusterID\"]).life_expec.mean())\n",
    "df_pca_cluster_total_fer = \tpd.DataFrame(df_pca_cluster.groupby([\"ClusterID\"]).total_fer.mean())\n",
    "df_pca_cluster_gdpp = \tpd.DataFrame(df_pca_cluster.groupby([\"ClusterID\"]).gdpp.mean())"
   ]
  },
  {
   "cell_type": "code",
   "execution_count": 83,
   "metadata": {},
   "outputs": [
    {
     "data": {
      "text/html": [
       "<div>\n",
       "<style scoped>\n",
       "    .dataframe tbody tr th:only-of-type {\n",
       "        vertical-align: middle;\n",
       "    }\n",
       "\n",
       "    .dataframe tbody tr th {\n",
       "        vertical-align: top;\n",
       "    }\n",
       "\n",
       "    .dataframe thead th {\n",
       "        text-align: right;\n",
       "    }\n",
       "</style>\n",
       "<table border=\"1\" class=\"dataframe\">\n",
       "  <thead>\n",
       "    <tr style=\"text-align: right;\">\n",
       "      <th></th>\n",
       "      <th>ClusterID</th>\n",
       "      <th>PC1_mean</th>\n",
       "      <th>PC2_mean</th>\n",
       "      <th>PC3_mean</th>\n",
       "      <th>PC4_mean</th>\n",
       "      <th>child_mort_mean</th>\n",
       "      <th>exports_mean</th>\n",
       "      <th>health_mean</th>\n",
       "      <th>imports_mean</th>\n",
       "      <th>income_mean</th>\n",
       "      <th>inflation_mean</th>\n",
       "      <th>life_expec_mean</th>\n",
       "      <th>total_fer_mean</th>\n",
       "      <th>gdpp_mean</th>\n",
       "    </tr>\n",
       "  </thead>\n",
       "  <tbody>\n",
       "    <tr>\n",
       "      <th>0</th>\n",
       "      <td>0</td>\n",
       "      <td>-2.492805</td>\n",
       "      <td>0.451339</td>\n",
       "      <td>-0.007579</td>\n",
       "      <td>0.667306</td>\n",
       "      <td>0.369110</td>\n",
       "      <td>-0.067602</td>\n",
       "      <td>-0.027234</td>\n",
       "      <td>-0.007250</td>\n",
       "      <td>-0.300821</td>\n",
       "      <td>-0.081792</td>\n",
       "      <td>-0.302920</td>\n",
       "      <td>0.338235</td>\n",
       "      <td>-0.309515</td>\n",
       "    </tr>\n",
       "    <tr>\n",
       "      <th>1</th>\n",
       "      <td>1</td>\n",
       "      <td>-0.317680</td>\n",
       "      <td>-0.701623</td>\n",
       "      <td>-0.330729</td>\n",
       "      <td>-0.738490</td>\n",
       "      <td>-0.141215</td>\n",
       "      <td>-0.218622</td>\n",
       "      <td>0.011379</td>\n",
       "      <td>-0.380414</td>\n",
       "      <td>0.022537</td>\n",
       "      <td>-0.011189</td>\n",
       "      <td>0.307337</td>\n",
       "      <td>-0.186000</td>\n",
       "      <td>0.152324</td>\n",
       "    </tr>\n",
       "    <tr>\n",
       "      <th>2</th>\n",
       "      <td>2</td>\n",
       "      <td>2.581300</td>\n",
       "      <td>-1.082748</td>\n",
       "      <td>0.313695</td>\n",
       "      <td>1.055989</td>\n",
       "      <td>-0.189286</td>\n",
       "      <td>0.049418</td>\n",
       "      <td>0.247472</td>\n",
       "      <td>0.065930</td>\n",
       "      <td>0.035228</td>\n",
       "      <td>-0.062051</td>\n",
       "      <td>0.132762</td>\n",
       "      <td>-0.069816</td>\n",
       "      <td>0.150897</td>\n",
       "    </tr>\n",
       "    <tr>\n",
       "      <th>3</th>\n",
       "      <td>3</td>\n",
       "      <td>0.807222</td>\n",
       "      <td>0.348907</td>\n",
       "      <td>0.372841</td>\n",
       "      <td>-0.722636</td>\n",
       "      <td>-0.015434</td>\n",
       "      <td>-0.108362</td>\n",
       "      <td>-0.091871</td>\n",
       "      <td>-0.013398</td>\n",
       "      <td>-0.154966</td>\n",
       "      <td>-0.250353</td>\n",
       "      <td>-0.101841</td>\n",
       "      <td>-0.117400</td>\n",
       "      <td>-0.135691</td>\n",
       "    </tr>\n",
       "    <tr>\n",
       "      <th>4</th>\n",
       "      <td>4</td>\n",
       "      <td>NaN</td>\n",
       "      <td>NaN</td>\n",
       "      <td>NaN</td>\n",
       "      <td>NaN</td>\n",
       "      <td>NaN</td>\n",
       "      <td>NaN</td>\n",
       "      <td>NaN</td>\n",
       "      <td>NaN</td>\n",
       "      <td>NaN</td>\n",
       "      <td>NaN</td>\n",
       "      <td>NaN</td>\n",
       "      <td>NaN</td>\n",
       "      <td>NaN</td>\n",
       "    </tr>\n",
       "  </tbody>\n",
       "</table>\n",
       "</div>"
      ],
      "text/plain": [
       "   ClusterID  PC1_mean  PC2_mean  PC3_mean  PC4_mean  child_mort_mean  \\\n",
       "0          0 -2.492805  0.451339 -0.007579  0.667306         0.369110   \n",
       "1          1 -0.317680 -0.701623 -0.330729 -0.738490        -0.141215   \n",
       "2          2  2.581300 -1.082748  0.313695  1.055989        -0.189286   \n",
       "3          3  0.807222  0.348907  0.372841 -0.722636        -0.015434   \n",
       "4          4       NaN       NaN       NaN       NaN              NaN   \n",
       "\n",
       "   exports_mean  health_mean  imports_mean  income_mean  inflation_mean  \\\n",
       "0     -0.067602    -0.027234     -0.007250    -0.300821       -0.081792   \n",
       "1     -0.218622     0.011379     -0.380414     0.022537       -0.011189   \n",
       "2      0.049418     0.247472      0.065930     0.035228       -0.062051   \n",
       "3     -0.108362    -0.091871     -0.013398    -0.154966       -0.250353   \n",
       "4           NaN          NaN           NaN          NaN             NaN   \n",
       "\n",
       "   life_expec_mean  total_fer_mean  gdpp_mean  \n",
       "0        -0.302920        0.338235  -0.309515  \n",
       "1         0.307337       -0.186000   0.152324  \n",
       "2         0.132762       -0.069816   0.150897  \n",
       "3        -0.101841       -0.117400  -0.135691  \n",
       "4              NaN             NaN        NaN  "
      ]
     },
     "execution_count": 83,
     "metadata": {},
     "output_type": "execute_result"
    }
   ],
   "source": [
    "df_kmeans = pd.concat([pd.Series([0,1,2,3,4]), df_pca_cluster_PC1, df_pca_cluster_PC2, df_pca_cluster_PC3, df_pca_cluster_PC4, df_pca_cluster_child_mort, df_pca_cluster_exports, df_pca_cluster_health, df_pca_cluster_imports, df_pca_cluster_income, df_pca_cluster_inflation, df_pca_cluster_life_expec, df_pca_cluster_total_fer,  df_pca_cluster_gdpp], axis=1)\n",
    "df_kmeans.columns = [\"ClusterID\", \"PC1_mean\", \"PC2_mean\", \"PC3_mean\", \"PC4_mean\", \"child_mort_mean\", \"exports_mean\", \"health_mean\", \"imports_mean\", \"income_mean\", \"inflation_mean\", \"life_expec_mean\", \"total_fer_mean\", \"gdpp_mean\"]\n",
    "df_kmeans.head()"
   ]
  },
  {
   "cell_type": "code",
   "execution_count": 85,
   "metadata": {},
   "outputs": [
    {
     "data": {
      "text/plain": [
       "<matplotlib.axes._subplots.AxesSubplot at 0x2572b8f2390>"
      ]
     },
     "execution_count": 85,
     "metadata": {},
     "output_type": "execute_result"
    },
    {
     "data": {
      "image/png": "[encoded data removed]",
      "text/plain": [
       "<Figure size 432x288 with 1 Axes>"
      ]
     },
     "metadata": {
      "needs_background": "light"
     },
     "output_type": "display_data"
    }
   ],
   "source": [
    "#Plotting barplot between Cluster ID and Child mortality rate\n",
    "sns.barplot(x=df_kmeans.ClusterID, y=df_kmeans.child_mort_mean)"
   ]
  },
  {
   "cell_type": "code",
   "execution_count": 86,
   "metadata": {},
   "outputs": [
    {
     "data": {
      "text/plain": [
       "<matplotlib.axes._subplots.AxesSubplot at 0x2572b8fbba8>"
      ]
     },
     "execution_count": 86,
     "metadata": {},
     "output_type": "execute_result"
    },
    {
     "data": {
      "image/png": "[encoded data removed]",
      "text/plain": [
       "<Figure size 432x288 with 1 Axes>"
      ]
     },
     "metadata": {
      "needs_background": "light"
     },
     "output_type": "display_data"
    }
   ],
   "source": [
    "#Plotting barplot between Cluster ID and Exports\n",
    "sns.barplot(x=df_kmeans.ClusterID, y=df_kmeans.exports_mean)"
   ]
  },
  {
   "cell_type": "code",
   "execution_count": 87,
   "metadata": {},
   "outputs": [
    {
     "data": {
      "text/plain": [
       "<matplotlib.axes._subplots.AxesSubplot at 0x2572b90d208>"
      ]
     },
     "execution_count": 87,
     "metadata": {},
     "output_type": "execute_result"
    },
    {
     "data": {
      "image/png": "[encoded data removed]",
      "text/plain": [
       "<Figure size 432x288 with 1 Axes>"
      ]
     },
     "metadata": {
      "needs_background": "light"
     },
     "output_type": "display_data"
    }
   ],
   "source": [
    "#Plotting barplot between Cluster ID and Health\n",
    "sns.barplot(x=df_kmeans.ClusterID, y=df_kmeans.health_mean)"
   ]
  },
  {
   "cell_type": "code",
   "execution_count": 88,
   "metadata": {},
   "outputs": [
    {
     "data": {
      "text/plain": [
       "<matplotlib.axes._subplots.AxesSubplot at 0x2572afcc9e8>"
      ]
     },
     "execution_count": 88,
     "metadata": {},
     "output_type": "execute_result"
    },
    {
     "data": {
      "image/png": "[encoded data removed]",
      "text/plain": [
       "<Figure size 432x288 with 1 Axes>"
      ]
     },
     "metadata": {
      "needs_background": "light"
     },
     "output_type": "display_data"
    }
   ],
   "source": [
    "#Plotting barplot between Cluster ID and Imports\n",
    "sns.barplot(x=df_kmeans.ClusterID, y=df_kmeans.imports_mean)"
   ]
  },
  {
   "cell_type": "code",
   "execution_count": 89,
   "metadata": {},
   "outputs": [
    {
     "data": {
      "text/plain": [
       "<matplotlib.axes._subplots.AxesSubplot at 0x2572afe32b0>"
      ]
     },
     "execution_count": 89,
     "metadata": {},
     "output_type": "execute_result"
    },
    {
     "data": {
      "image/png": "[encoded data removed]",
      "text/plain": [
       "<Figure size 432x288 with 1 Axes>"
      ]
     },
     "metadata": {
      "needs_background": "light"
     },
     "output_type": "display_data"
    }
   ],
   "source": [
    "#Plotting barplot between Cluster ID and Income\n",
    "sns.barplot(x=df_kmeans.ClusterID, y=df_kmeans.income_mean)"
   ]
  },
  {
   "cell_type": "code",
   "execution_count": 90,
   "metadata": {},
   "outputs": [
    {
     "data": {
      "text/plain": [
       "<matplotlib.axes._subplots.AxesSubplot at 0x2572af926a0>"
      ]
     },
     "execution_count": 90,
     "metadata": {},
     "output_type": "execute_result"
    },
    {
     "data": {
      "image/png": "[encoded data removed]",
      "text/plain": [
       "<Figure size 432x288 with 1 Axes>"
      ]
     },
     "metadata": {
      "needs_background": "light"
     },
     "output_type": "display_data"
    }
   ],
   "source": [
    "#Plotting barplot between Cluster ID and Inflation rate\n",
    "sns.barplot(x=df_kmeans.ClusterID, y=df_kmeans.inflation_mean)"
   ]
  },
  {
   "cell_type": "code",
   "execution_count": 91,
   "metadata": {},
   "outputs": [
    {
     "data": {
      "text/plain": [
       "<matplotlib.axes._subplots.AxesSubplot at 0x2572b011828>"
      ]
     },
     "execution_count": 91,
     "metadata": {},
     "output_type": "execute_result"
    },
    {
     "data": {
      "image/png": "[encoded data removed]",
      "text/plain": [
       "<Figure size 432x288 with 1 Axes>"
      ]
     },
     "metadata": {
      "needs_background": "light"
     },
     "output_type": "display_data"
    }
   ],
   "source": [
    "#Plotting barplot between Cluster ID and Life expecting rate\n",
    "sns.barplot(x=df_kmeans.ClusterID, y=df_kmeans.life_expec_mean)"
   ]
  },
  {
   "cell_type": "code",
   "execution_count": 92,
   "metadata": {},
   "outputs": [
    {
     "data": {
      "text/plain": [
       "<matplotlib.axes._subplots.AxesSubplot at 0x2572ba29da0>"
      ]
     },
     "execution_count": 92,
     "metadata": {},
     "output_type": "execute_result"
    },
    {
     "data": {
      "image/png": "[encoded data removed]",
      "text/plain": [
       "<Figure size 432x288 with 1 Axes>"
      ]
     },
     "metadata": {
      "needs_background": "light"
     },
     "output_type": "display_data"
    }
   ],
   "source": [
    "#Plotting barplot between Cluster ID and Total fer\n",
    "sns.barplot(x=df_kmeans.ClusterID, y=df_kmeans.total_fer_mean)"
   ]
  },
  {
   "cell_type": "code",
   "execution_count": 93,
   "metadata": {},
   "outputs": [
    {
     "data": {
      "text/plain": [
       "<matplotlib.axes._subplots.AxesSubplot at 0x2572d0fd7f0>"
      ]
     },
     "execution_count": 93,
     "metadata": {},
     "output_type": "execute_result"
    },
    {
     "data": {
      "image/png": "[encoded data removed]",
      "text/plain": [
       "<Figure size 432x288 with 1 Axes>"
      ]
     },
     "metadata": {
      "needs_background": "light"
     },
     "output_type": "display_data"
    }
   ],
   "source": [
    "#Plotting barplot between Cluster ID and GDPP\n",
    "sns.barplot(x=df_kmeans.ClusterID, y=df_kmeans.gdpp_mean)"
   ]
  },
  {
   "cell_type": "code",
   "execution_count": 94,
   "metadata": {},
   "outputs": [
    {
     "data": {
      "text/plain": [
       "<matplotlib.axes._subplots.AxesSubplot at 0x2572d15fb00>"
      ]
     },
     "execution_count": 94,
     "metadata": {},
     "output_type": "execute_result"
    },
    {
     "data": {
      "image/png": "[encoded data removed]",
      "text/plain": [
       "<Figure size 432x288 with 1 Axes>"
      ]
     },
     "metadata": {
      "needs_background": "light"
     },
     "output_type": "display_data"
    }
   ],
   "source": [
    "#Plotting barplot between Cluster ID and PC1\n",
    "sns.barplot(x=df_kmeans.ClusterID, y=df_kmeans.PC1_mean)"
   ]
  },
  {
   "cell_type": "code",
   "execution_count": 95,
   "metadata": {},
   "outputs": [
    {
     "data": {
      "text/plain": [
       "<matplotlib.axes._subplots.AxesSubplot at 0x2572d1c9438>"
      ]
     },
     "execution_count": 95,
     "metadata": {},
     "output_type": "execute_result"
    },
    {
     "data": {
      "image/png": "[encoded data removed]",
      "text/plain": [
       "<Figure size 432x288 with 1 Axes>"
      ]
     },
     "metadata": {
      "needs_background": "light"
     },
     "output_type": "display_data"
    }
   ],
   "source": [
    "#Plotting barplot between Cluster ID and PC2\n",
    "sns.barplot(x=df_kmeans.ClusterID, y=df_kmeans.PC2_mean)"
   ]
  },
  {
   "cell_type": "code",
   "execution_count": 96,
   "metadata": {},
   "outputs": [
    {
     "data": {
      "text/plain": [
       "<matplotlib.axes._subplots.AxesSubplot at 0x2572d22ca20>"
      ]
     },
     "execution_count": 96,
     "metadata": {},
     "output_type": "execute_result"
    },
    {
     "data": {
      "image/png": "[encoded data removed]",
      "text/plain": [
       "<Figure size 432x288 with 1 Axes>"
      ]
     },
     "metadata": {
      "needs_background": "light"
     },
     "output_type": "display_data"
    }
   ],
   "source": [
    "#Plotting barplot between Cluster ID and PC3\n",
    "sns.barplot(x=df_kmeans.ClusterID, y=df_kmeans.PC3_mean)"
   ]
  },
  {
   "cell_type": "code",
   "execution_count": 97,
   "metadata": {},
   "outputs": [
    {
     "data": {
      "text/plain": [
       "<matplotlib.axes._subplots.AxesSubplot at 0x2572d2a0630>"
      ]
     },
     "execution_count": 97,
     "metadata": {},
     "output_type": "execute_result"
    },
    {
     "data": {
      "image/png": "[encoded data removed]",
      "text/plain": [
       "<Figure size 432x288 with 1 Axes>"
      ]
     },
     "metadata": {
      "needs_background": "light"
     },
     "output_type": "display_data"
    }
   ],
   "source": [
    "#Plotting barplot between Cluster ID and PC4\n",
    "sns.barplot(x=df_kmeans.ClusterID, y=df_kmeans.PC4_mean)"
   ]
  },
  {
   "cell_type": "code",
   "execution_count": 98,
   "metadata": {},
   "outputs": [
    {
     "data": {
      "text/html": [
       "<div>\n",
       "<style scoped>\n",
       "    .dataframe tbody tr th:only-of-type {\n",
       "        vertical-align: middle;\n",
       "    }\n",
       "\n",
       "    .dataframe tbody tr th {\n",
       "        vertical-align: top;\n",
       "    }\n",
       "\n",
       "    .dataframe thead th {\n",
       "        text-align: right;\n",
       "    }\n",
       "</style>\n",
       "<table border=\"1\" class=\"dataframe\">\n",
       "  <thead>\n",
       "    <tr style=\"text-align: right;\">\n",
       "      <th></th>\n",
       "      <th>country</th>\n",
       "      <th>PC1</th>\n",
       "      <th>PC2</th>\n",
       "      <th>PC3</th>\n",
       "      <th>PC4</th>\n",
       "      <th>ClusterID</th>\n",
       "      <th>child_mort</th>\n",
       "      <th>exports</th>\n",
       "      <th>health</th>\n",
       "      <th>imports</th>\n",
       "      <th>income</th>\n",
       "      <th>inflation</th>\n",
       "      <th>life_expec</th>\n",
       "      <th>total_fer</th>\n",
       "      <th>gdpp</th>\n",
       "    </tr>\n",
       "  </thead>\n",
       "  <tbody>\n",
       "    <tr>\n",
       "      <th>4</th>\n",
       "      <td>Antigua and Barbuda</td>\n",
       "      <td>1.028893</td>\n",
       "      <td>0.130097</td>\n",
       "      <td>0.192344</td>\n",
       "      <td>-0.842275</td>\n",
       "      <td>3.0</td>\n",
       "      <td>-0.693548</td>\n",
       "      <td>0.160186</td>\n",
       "      <td>-0.286034</td>\n",
       "      <td>0.496076</td>\n",
       "      <td>0.101427</td>\n",
       "      <td>-0.599944</td>\n",
       "      <td>0.702147</td>\n",
       "      <td>-0.540321</td>\n",
       "      <td>-0.041692</td>\n",
       "    </tr>\n",
       "    <tr>\n",
       "      <th>10</th>\n",
       "      <td>Bahamas</td>\n",
       "      <td>1.262278</td>\n",
       "      <td>-0.663093</td>\n",
       "      <td>0.452173</td>\n",
       "      <td>0.059300</td>\n",
       "      <td>3.0</td>\n",
       "      <td>-0.606762</td>\n",
       "      <td>-0.222858</td>\n",
       "      <td>0.391108</td>\n",
       "      <td>-0.131775</td>\n",
       "      <td>0.298542</td>\n",
       "      <td>-0.773348</td>\n",
       "      <td>0.364809</td>\n",
       "      <td>-0.718675</td>\n",
       "      <td>0.820344</td>\n",
       "    </tr>\n",
       "    <tr>\n",
       "      <th>11</th>\n",
       "      <td>Bahrain</td>\n",
       "      <td>1.665727</td>\n",
       "      <td>0.558714</td>\n",
       "      <td>-1.017109</td>\n",
       "      <td>-0.177980</td>\n",
       "      <td>3.0</td>\n",
       "      <td>-0.735702</td>\n",
       "      <td>1.035715</td>\n",
       "      <td>-0.671932</td>\n",
       "      <td>0.165628</td>\n",
       "      <td>1.242620</td>\n",
       "      <td>-0.032338</td>\n",
       "      <td>0.612190</td>\n",
       "      <td>-0.520504</td>\n",
       "      <td>0.422062</td>\n",
       "    </tr>\n",
       "    <tr>\n",
       "      <th>13</th>\n",
       "      <td>Barbados</td>\n",
       "      <td>1.076855</td>\n",
       "      <td>-0.485220</td>\n",
       "      <td>0.647580</td>\n",
       "      <td>-0.531959</td>\n",
       "      <td>3.0</td>\n",
       "      <td>-0.596843</td>\n",
       "      <td>-0.058696</td>\n",
       "      <td>0.420233</td>\n",
       "      <td>0.074755</td>\n",
       "      <td>-0.095688</td>\n",
       "      <td>-0.705803</td>\n",
       "      <td>0.690902</td>\n",
       "      <td>-0.771520</td>\n",
       "      <td>0.165633</td>\n",
       "    </tr>\n",
       "    <tr>\n",
       "      <th>14</th>\n",
       "      <td>Belarus</td>\n",
       "      <td>0.581791</td>\n",
       "      <td>0.551733</td>\n",
       "      <td>-0.429355</td>\n",
       "      <td>-1.050560</td>\n",
       "      <td>3.0</td>\n",
       "      <td>-0.812570</td>\n",
       "      <td>0.375420</td>\n",
       "      <td>-0.438937</td>\n",
       "      <td>0.727389</td>\n",
       "      <td>-0.049003</td>\n",
       "      <td>0.692307</td>\n",
       "      <td>-0.017507</td>\n",
       "      <td>-0.963085</td>\n",
       "      <td>-0.378322</td>\n",
       "    </tr>\n",
       "    <tr>\n",
       "      <th>16</th>\n",
       "      <td>Belize</td>\n",
       "      <td>0.208717</td>\n",
       "      <td>0.688145</td>\n",
       "      <td>0.229818</td>\n",
       "      <td>-1.087832</td>\n",
       "      <td>3.0</td>\n",
       "      <td>-0.482781</td>\n",
       "      <td>0.623487</td>\n",
       "      <td>-0.588200</td>\n",
       "      <td>0.438247</td>\n",
       "      <td>-0.480582</td>\n",
       "      <td>-0.628325</td>\n",
       "      <td>0.094939</td>\n",
       "      <td>-0.157192</td>\n",
       "      <td>-0.470527</td>\n",
       "    </tr>\n",
       "    <tr>\n",
       "      <th>18</th>\n",
       "      <td>Bhutan</td>\n",
       "      <td>-0.157122</td>\n",
       "      <td>0.774914</td>\n",
       "      <td>0.268925</td>\n",
       "      <td>-1.043274</td>\n",
       "      <td>3.0</td>\n",
       "      <td>0.109845</td>\n",
       "      <td>0.050745</td>\n",
       "      <td>-0.588200</td>\n",
       "      <td>0.983486</td>\n",
       "      <td>-0.556316</td>\n",
       "      <td>-0.169509</td>\n",
       "      <td>0.173651</td>\n",
       "      <td>-0.375179</td>\n",
       "      <td>-0.588375</td>\n",
       "    </tr>\n",
       "    <tr>\n",
       "      <th>20</th>\n",
       "      <td>Bosnia and Herzegovina</td>\n",
       "      <td>0.994795</td>\n",
       "      <td>-0.963264</td>\n",
       "      <td>1.580119</td>\n",
       "      <td>-0.675520</td>\n",
       "      <td>3.0</td>\n",
       "      <td>-0.777855</td>\n",
       "      <td>-0.416204</td>\n",
       "      <td>1.559725</td>\n",
       "      <td>0.182150</td>\n",
       "      <td>-0.385137</td>\n",
       "      <td>-0.603728</td>\n",
       "      <td>0.702147</td>\n",
       "      <td>-1.081987</td>\n",
       "      <td>-0.455796</td>\n",
       "    </tr>\n",
       "    <tr>\n",
       "      <th>25</th>\n",
       "      <td>Burundi</td>\n",
       "      <td>-0.582492</td>\n",
       "      <td>0.885921</td>\n",
       "      <td>0.471175</td>\n",
       "      <td>-0.806824</td>\n",
       "      <td>3.0</td>\n",
       "      <td>1.371966</td>\n",
       "      <td>-1.174265</td>\n",
       "      <td>1.741753</td>\n",
       "      <td>-0.317652</td>\n",
       "      <td>-0.849706</td>\n",
       "      <td>0.427424</td>\n",
       "      <td>-1.445568</td>\n",
       "      <td>2.187827</td>\n",
       "      <td>-0.694711</td>\n",
       "    </tr>\n",
       "    <tr>\n",
       "      <th>28</th>\n",
       "      <td>Canada</td>\n",
       "      <td>-0.159072</td>\n",
       "      <td>0.337665</td>\n",
       "      <td>0.220015</td>\n",
       "      <td>-1.326860</td>\n",
       "      <td>3.0</td>\n",
       "      <td>-0.810090</td>\n",
       "      <td>-0.438092</td>\n",
       "      <td>1.632536</td>\n",
       "      <td>-0.656360</td>\n",
       "      <td>1.221871</td>\n",
       "      <td>-0.464665</td>\n",
       "      <td>1.208153</td>\n",
       "      <td>-0.870606</td>\n",
       "      <td>1.878793</td>\n",
       "    </tr>\n",
       "    <tr>\n",
       "      <th>37</th>\n",
       "      <td>Congo, Rep.</td>\n",
       "      <td>0.938768</td>\n",
       "      <td>-1.336653</td>\n",
       "      <td>0.885279</td>\n",
       "      <td>-0.304223</td>\n",
       "      <td>3.0</td>\n",
       "      <td>0.635522</td>\n",
       "      <td>1.604808</td>\n",
       "      <td>-1.585710</td>\n",
       "      <td>0.322591</td>\n",
       "      <td>-0.620119</td>\n",
       "      <td>1.222073</td>\n",
       "      <td>-1.141965</td>\n",
       "      <td>1.322482</td>\n",
       "      <td>-0.557822</td>\n",
       "    </tr>\n",
       "    <tr>\n",
       "      <th>39</th>\n",
       "      <td>Cote d'Ivoire</td>\n",
       "      <td>1.144175</td>\n",
       "      <td>-0.846931</td>\n",
       "      <td>0.382266</td>\n",
       "      <td>-0.624528</td>\n",
       "      <td>3.0</td>\n",
       "      <td>1.803418</td>\n",
       "      <td>0.346236</td>\n",
       "      <td>-0.551794</td>\n",
       "      <td>-0.148297</td>\n",
       "      <td>-0.749800</td>\n",
       "      <td>-0.226270</td>\n",
       "      <td>-1.602993</td>\n",
       "      <td>1.533864</td>\n",
       "      <td>-0.640752</td>\n",
       "    </tr>\n",
       "    <tr>\n",
       "      <th>40</th>\n",
       "      <td>Croatia</td>\n",
       "      <td>2.165763</td>\n",
       "      <td>-0.009492</td>\n",
       "      <td>-0.294368</td>\n",
       "      <td>-0.293065</td>\n",
       "      <td>3.0</td>\n",
       "      <td>-0.812570</td>\n",
       "      <td>-0.128009</td>\n",
       "      <td>0.343781</td>\n",
       "      <td>-0.363088</td>\n",
       "      <td>0.153299</td>\n",
       "      <td>-0.658502</td>\n",
       "      <td>0.645924</td>\n",
       "      <td>-0.923451</td>\n",
       "      <td>0.029235</td>\n",
       "    </tr>\n",
       "    <tr>\n",
       "      <th>41</th>\n",
       "      <td>Cyprus</td>\n",
       "      <td>2.045979</td>\n",
       "      <td>0.416910</td>\n",
       "      <td>0.530729</td>\n",
       "      <td>-0.419271</td>\n",
       "      <td>3.0</td>\n",
       "      <td>-0.859682</td>\n",
       "      <td>0.331644</td>\n",
       "      <td>-0.307877</td>\n",
       "      <td>0.438247</td>\n",
       "      <td>0.869139</td>\n",
       "      <td>-0.546022</td>\n",
       "      <td>1.050729</td>\n",
       "      <td>-1.009325</td>\n",
       "      <td>0.973110</td>\n",
       "    </tr>\n",
       "    <tr>\n",
       "      <th>49</th>\n",
       "      <td>Eritrea</td>\n",
       "      <td>1.653467</td>\n",
       "      <td>1.016008</td>\n",
       "      <td>0.097009</td>\n",
       "      <td>-0.862414</td>\n",
       "      <td>3.0</td>\n",
       "      <td>0.419796</td>\n",
       "      <td>-1.324929</td>\n",
       "      <td>-1.512899</td>\n",
       "      <td>-0.974416</td>\n",
       "      <td>-0.815678</td>\n",
       "      <td>0.361203</td>\n",
       "      <td>-0.995785</td>\n",
       "      <td>1.097889</td>\n",
       "      <td>-0.681017</td>\n",
       "    </tr>\n",
       "    <tr>\n",
       "      <th>50</th>\n",
       "      <td>Estonia</td>\n",
       "      <td>-0.189723</td>\n",
       "      <td>1.064069</td>\n",
       "      <td>0.161888</td>\n",
       "      <td>-0.975755</td>\n",
       "      <td>3.0</td>\n",
       "      <td>-0.837366</td>\n",
       "      <td>1.240005</td>\n",
       "      <td>-0.286034</td>\n",
       "      <td>0.900874</td>\n",
       "      <td>0.288167</td>\n",
       "      <td>-0.571564</td>\n",
       "      <td>0.612190</td>\n",
       "      <td>-0.811154</td>\n",
       "      <td>0.089250</td>\n",
       "    </tr>\n",
       "    <tr>\n",
       "      <th>55</th>\n",
       "      <td>Gambia</td>\n",
       "      <td>0.324826</td>\n",
       "      <td>-0.503290</td>\n",
       "      <td>1.053856</td>\n",
       "      <td>-0.520176</td>\n",
       "      <td>3.0</td>\n",
       "      <td>1.042178</td>\n",
       "      <td>-0.631438</td>\n",
       "      <td>-0.409813</td>\n",
       "      <td>-0.173081</td>\n",
       "      <td>-0.803228</td>\n",
       "      <td>-0.329385</td>\n",
       "      <td>-0.568491</td>\n",
       "      <td>1.824514</td>\n",
       "      <td>-0.676652</td>\n",
       "    </tr>\n",
       "    <tr>\n",
       "      <th>63</th>\n",
       "      <td>Guinea-Bissau</td>\n",
       "      <td>-0.322657</td>\n",
       "      <td>1.357187</td>\n",
       "      <td>0.471693</td>\n",
       "      <td>-0.861773</td>\n",
       "      <td>3.0</td>\n",
       "      <td>1.877807</td>\n",
       "      <td>-0.956113</td>\n",
       "      <td>0.613182</td>\n",
       "      <td>-0.482875</td>\n",
       "      <td>-0.817234</td>\n",
       "      <td>-0.455205</td>\n",
       "      <td>-1.681705</td>\n",
       "      <td>1.388539</td>\n",
       "      <td>-0.677470</td>\n",
       "    </tr>\n",
       "    <tr>\n",
       "      <th>65</th>\n",
       "      <td>Haiti</td>\n",
       "      <td>1.834256</td>\n",
       "      <td>1.272509</td>\n",
       "      <td>0.485182</td>\n",
       "      <td>-0.798781</td>\n",
       "      <td>3.0</td>\n",
       "      <td>4.208640</td>\n",
       "      <td>-0.941521</td>\n",
       "      <td>0.034335</td>\n",
       "      <td>0.735650</td>\n",
       "      <td>-0.811528</td>\n",
       "      <td>-0.220594</td>\n",
       "      <td>-4.324181</td>\n",
       "      <td>0.252361</td>\n",
       "      <td>-0.671196</td>\n",
       "    </tr>\n",
       "    <tr>\n",
       "      <th>76</th>\n",
       "      <td>Japan</td>\n",
       "      <td>0.163133</td>\n",
       "      <td>0.545527</td>\n",
       "      <td>0.614105</td>\n",
       "      <td>-0.411462</td>\n",
       "      <td>3.0</td>\n",
       "      <td>-0.869601</td>\n",
       "      <td>-0.952465</td>\n",
       "      <td>0.973597</td>\n",
       "      <td>-1.375084</td>\n",
       "      <td>0.967696</td>\n",
       "      <td>-0.915912</td>\n",
       "      <td>1.376822</td>\n",
       "      <td>-1.029142</td>\n",
       "      <td>1.720571</td>\n",
       "    </tr>\n",
       "    <tr>\n",
       "      <th>79</th>\n",
       "      <td>Kenya</td>\n",
       "      <td>-0.336698</td>\n",
       "      <td>1.302391</td>\n",
       "      <td>0.476003</td>\n",
       "      <td>-0.846219</td>\n",
       "      <td>3.0</td>\n",
       "      <td>0.593369</td>\n",
       "      <td>-0.744527</td>\n",
       "      <td>-0.752024</td>\n",
       "      <td>-0.548965</td>\n",
       "      <td>-0.760693</td>\n",
       "      <td>-0.538453</td>\n",
       "      <td>-0.872095</td>\n",
       "      <td>0.939352</td>\n",
       "      <td>-0.654556</td>\n",
       "    </tr>\n",
       "    <tr>\n",
       "      <th>80</th>\n",
       "      <td>Kyrgyz Republic</td>\n",
       "      <td>1.167149</td>\n",
       "      <td>-0.259738</td>\n",
       "      <td>0.598295</td>\n",
       "      <td>-1.063084</td>\n",
       "      <td>3.0</td>\n",
       "      <td>-0.214984</td>\n",
       "      <td>0.382716</td>\n",
       "      <td>-0.231426</td>\n",
       "      <td>1.437851</td>\n",
       "      <td>-0.744612</td>\n",
       "      <td>0.209841</td>\n",
       "      <td>-0.231154</td>\n",
       "      <td>0.100430</td>\n",
       "      <td>-0.659302</td>\n",
       "    </tr>\n",
       "    <tr>\n",
       "      <th>81</th>\n",
       "      <td>Lao</td>\n",
       "      <td>0.818227</td>\n",
       "      <td>0.395900</td>\n",
       "      <td>-1.495570</td>\n",
       "      <td>-0.589675</td>\n",
       "      <td>3.0</td>\n",
       "      <td>1.007464</td>\n",
       "      <td>-0.208266</td>\n",
       "      <td>-0.853960</td>\n",
       "      <td>0.099538</td>\n",
       "      <td>-0.682884</td>\n",
       "      <td>0.134160</td>\n",
       "      <td>-0.759649</td>\n",
       "      <td>0.133459</td>\n",
       "      <td>-0.645117</td>\n",
       "    </tr>\n",
       "    <tr>\n",
       "      <th>82</th>\n",
       "      <td>Latvia</td>\n",
       "      <td>1.405422</td>\n",
       "      <td>0.728228</td>\n",
       "      <td>0.411955</td>\n",
       "      <td>-0.776786</td>\n",
       "      <td>3.0</td>\n",
       "      <td>-0.755538</td>\n",
       "      <td>0.459325</td>\n",
       "      <td>-0.049398</td>\n",
       "      <td>0.339113</td>\n",
       "      <td>0.059929</td>\n",
       "      <td>-0.812986</td>\n",
       "      <td>0.286097</td>\n",
       "      <td>-1.048959</td>\n",
       "      <td>-0.090795</td>\n",
       "    </tr>\n",
       "    <tr>\n",
       "      <th>83</th>\n",
       "      <td>Lebanon</td>\n",
       "      <td>0.730325</td>\n",
       "      <td>-0.095216</td>\n",
       "      <td>0.649726</td>\n",
       "      <td>-1.153233</td>\n",
       "      <td>3.0</td>\n",
       "      <td>-0.693548</td>\n",
       "      <td>-0.193673</td>\n",
       "      <td>0.078021</td>\n",
       "      <td>0.549773</td>\n",
       "      <td>-0.043816</td>\n",
       "      <td>-0.713655</td>\n",
       "      <td>1.039484</td>\n",
       "      <td>-0.883817</td>\n",
       "      <td>-0.223920</td>\n",
       "    </tr>\n",
       "    <tr>\n",
       "      <th>84</th>\n",
       "      <td>Libya</td>\n",
       "      <td>1.228007</td>\n",
       "      <td>1.599832</td>\n",
       "      <td>-0.540775</td>\n",
       "      <td>-1.077554</td>\n",
       "      <td>3.0</td>\n",
       "      <td>-0.537333</td>\n",
       "      <td>0.893441</td>\n",
       "      <td>-1.068752</td>\n",
       "      <td>-0.197864</td>\n",
       "      <td>0.646087</td>\n",
       "      <td>0.607166</td>\n",
       "      <td>0.623435</td>\n",
       "      <td>-0.355362</td>\n",
       "      <td>-0.047148</td>\n",
       "    </tr>\n",
       "    <tr>\n",
       "      <th>85</th>\n",
       "      <td>Lithuania</td>\n",
       "      <td>1.105888</td>\n",
       "      <td>1.005541</td>\n",
       "      <td>0.271042</td>\n",
       "      <td>-1.098332</td>\n",
       "      <td>3.0</td>\n",
       "      <td>-0.797692</td>\n",
       "      <td>0.882497</td>\n",
       "      <td>0.081662</td>\n",
       "      <td>0.838915</td>\n",
       "      <td>0.205172</td>\n",
       "      <td>-0.511019</td>\n",
       "      <td>0.297342</td>\n",
       "      <td>-0.956479</td>\n",
       "      <td>-0.052604</td>\n",
       "    </tr>\n",
       "    <tr>\n",
       "      <th>87</th>\n",
       "      <td>Madagascar</td>\n",
       "      <td>0.895214</td>\n",
       "      <td>0.410870</td>\n",
       "      <td>0.352413</td>\n",
       "      <td>-1.072236</td>\n",
       "      <td>3.0</td>\n",
       "      <td>0.593369</td>\n",
       "      <td>-0.587661</td>\n",
       "      <td>-1.108798</td>\n",
       "      <td>-0.160689</td>\n",
       "      <td>-0.817234</td>\n",
       "      <td>0.095374</td>\n",
       "      <td>-1.096986</td>\n",
       "      <td>1.091283</td>\n",
       "      <td>-0.684781</td>\n",
       "    </tr>\n",
       "    <tr>\n",
       "      <th>88</th>\n",
       "      <td>Malawi</td>\n",
       "      <td>0.514199</td>\n",
       "      <td>0.186584</td>\n",
       "      <td>1.717685</td>\n",
       "      <td>-0.509158</td>\n",
       "      <td>3.0</td>\n",
       "      <td>1.295099</td>\n",
       "      <td>-0.667918</td>\n",
       "      <td>-0.082163</td>\n",
       "      <td>-0.495267</td>\n",
       "      <td>-0.835908</td>\n",
       "      <td>0.408503</td>\n",
       "      <td>-1.962819</td>\n",
       "      <td>1.560287</td>\n",
       "      <td>-0.682272</td>\n",
       "    </tr>\n",
       "    <tr>\n",
       "      <th>90</th>\n",
       "      <td>Maldives</td>\n",
       "      <td>1.024476</td>\n",
       "      <td>-0.254951</td>\n",
       "      <td>1.130969</td>\n",
       "      <td>-0.751977</td>\n",
       "      <td>3.0</td>\n",
       "      <td>-0.621640</td>\n",
       "      <td>1.331206</td>\n",
       "      <td>-0.176817</td>\n",
       "      <td>0.764564</td>\n",
       "      <td>-0.344676</td>\n",
       "      <td>-0.463719</td>\n",
       "      <td>0.825837</td>\n",
       "      <td>-0.474264</td>\n",
       "      <td>-0.319944</td>\n",
       "    </tr>\n",
       "    <tr>\n",
       "      <th>99</th>\n",
       "      <td>Myanmar</td>\n",
       "      <td>1.161833</td>\n",
       "      <td>1.113232</td>\n",
       "      <td>0.825282</td>\n",
       "      <td>-0.575902</td>\n",
       "      <td>3.0</td>\n",
       "      <td>0.647920</td>\n",
       "      <td>-1.495694</td>\n",
       "      <td>-1.764097</td>\n",
       "      <td>-1.934123</td>\n",
       "      <td>-0.696371</td>\n",
       "      <td>-0.070178</td>\n",
       "      <td>-0.422311</td>\n",
       "      <td>-0.355362</td>\n",
       "      <td>-0.653410</td>\n",
       "    </tr>\n",
       "    <tr>\n",
       "      <th>100</th>\n",
       "      <td>Namibia</td>\n",
       "      <td>0.117908</td>\n",
       "      <td>0.359391</td>\n",
       "      <td>0.038561</td>\n",
       "      <td>-0.948395</td>\n",
       "      <td>3.0</td>\n",
       "      <td>0.439633</td>\n",
       "      <td>0.244091</td>\n",
       "      <td>-0.012993</td>\n",
       "      <td>0.570426</td>\n",
       "      <td>-0.450496</td>\n",
       "      <td>-0.399390</td>\n",
       "      <td>-1.344367</td>\n",
       "      <td>0.430714</td>\n",
       "      <td>-0.424152</td>\n",
       "    </tr>\n",
       "    <tr>\n",
       "      <th>103</th>\n",
       "      <td>New Zealand</td>\n",
       "      <td>1.213115</td>\n",
       "      <td>-0.660209</td>\n",
       "      <td>0.288122</td>\n",
       "      <td>-0.696393</td>\n",
       "      <td>3.0</td>\n",
       "      <td>-0.795212</td>\n",
       "      <td>-0.394315</td>\n",
       "      <td>1.195670</td>\n",
       "      <td>-0.780278</td>\n",
       "      <td>0.786143</td>\n",
       "      <td>-0.383308</td>\n",
       "      <td>1.163175</td>\n",
       "      <td>-0.513899</td>\n",
       "      <td>1.131332</td>\n",
       "    </tr>\n",
       "    <tr>\n",
       "      <th>108</th>\n",
       "      <td>Paraguay</td>\n",
       "      <td>0.832868</td>\n",
       "      <td>-0.856133</td>\n",
       "      <td>1.081136</td>\n",
       "      <td>-0.551375</td>\n",
       "      <td>3.0</td>\n",
       "      <td>-0.351362</td>\n",
       "      <td>0.510398</td>\n",
       "      <td>-0.344283</td>\n",
       "      <td>0.190412</td>\n",
       "      <td>-0.511187</td>\n",
       "      <td>-0.159103</td>\n",
       "      <td>0.398543</td>\n",
       "      <td>-0.143980</td>\n",
       "      <td>-0.531088</td>\n",
       "    </tr>\n",
       "    <tr>\n",
       "      <th>110</th>\n",
       "      <td>Philippines</td>\n",
       "      <td>2.024352</td>\n",
       "      <td>1.049379</td>\n",
       "      <td>0.888399</td>\n",
       "      <td>-0.401836</td>\n",
       "      <td>3.0</td>\n",
       "      <td>-0.157953</td>\n",
       "      <td>-0.230154</td>\n",
       "      <td>-1.167047</td>\n",
       "      <td>-0.425047</td>\n",
       "      <td>-0.598851</td>\n",
       "      <td>-0.336953</td>\n",
       "      <td>-0.174931</td>\n",
       "      <td>0.140064</td>\n",
       "      <td>-0.591103</td>\n",
       "    </tr>\n",
       "    <tr>\n",
       "      <th>111</th>\n",
       "      <td>Poland</td>\n",
       "      <td>2.272783</td>\n",
       "      <td>0.192886</td>\n",
       "      <td>0.817655</td>\n",
       "      <td>-0.089971</td>\n",
       "      <td>3.0</td>\n",
       "      <td>-0.800171</td>\n",
       "      <td>-0.036808</td>\n",
       "      <td>0.234565</td>\n",
       "      <td>-0.197864</td>\n",
       "      <td>0.241482</td>\n",
       "      <td>-0.579132</td>\n",
       "      <td>0.645924</td>\n",
       "      <td>-1.015931</td>\n",
       "      <td>-0.019868</td>\n",
       "    </tr>\n",
       "    <tr>\n",
       "      <th>112</th>\n",
       "      <td>Portugal</td>\n",
       "      <td>-0.801178</td>\n",
       "      <td>1.303061</td>\n",
       "      <td>1.291916</td>\n",
       "      <td>-0.091468</td>\n",
       "      <td>3.0</td>\n",
       "      <td>-0.852243</td>\n",
       "      <td>-0.408907</td>\n",
       "      <td>1.523320</td>\n",
       "      <td>-0.392002</td>\n",
       "      <td>0.521593</td>\n",
       "      <td>-0.675341</td>\n",
       "      <td>1.039484</td>\n",
       "      <td>-1.029142</td>\n",
       "      <td>0.520268</td>\n",
       "    </tr>\n",
       "    <tr>\n",
       "      <th>113</th>\n",
       "      <td>Romania</td>\n",
       "      <td>1.911474</td>\n",
       "      <td>-0.427380</td>\n",
       "      <td>-0.160578</td>\n",
       "      <td>-0.463930</td>\n",
       "      <td>3.0</td>\n",
       "      <td>-0.663793</td>\n",
       "      <td>-0.310411</td>\n",
       "      <td>-0.449859</td>\n",
       "      <td>-0.334174</td>\n",
       "      <td>0.033993</td>\n",
       "      <td>-0.402228</td>\n",
       "      <td>0.353565</td>\n",
       "      <td>-0.897028</td>\n",
       "      <td>-0.258292</td>\n",
       "    </tr>\n",
       "    <tr>\n",
       "      <th>123</th>\n",
       "      <td>South Africa</td>\n",
       "      <td>0.600272</td>\n",
       "      <td>0.171561</td>\n",
       "      <td>0.230755</td>\n",
       "      <td>-1.122463</td>\n",
       "      <td>3.0</td>\n",
       "      <td>0.382602</td>\n",
       "      <td>-0.456332</td>\n",
       "      <td>0.773366</td>\n",
       "      <td>-0.805062</td>\n",
       "      <td>-0.266867</td>\n",
       "      <td>-0.135453</td>\n",
       "      <td>-1.827884</td>\n",
       "      <td>-0.236460</td>\n",
       "      <td>-0.310123</td>\n",
       "    </tr>\n",
       "    <tr>\n",
       "      <th>125</th>\n",
       "      <td>Spain</td>\n",
       "      <td>-0.467430</td>\n",
       "      <td>1.272510</td>\n",
       "      <td>-0.701382</td>\n",
       "      <td>-0.890072</td>\n",
       "      <td>3.0</td>\n",
       "      <td>-0.854723</td>\n",
       "      <td>-0.569421</td>\n",
       "      <td>0.991799</td>\n",
       "      <td>-0.829845</td>\n",
       "      <td>0.796517</td>\n",
       "      <td>-0.721034</td>\n",
       "      <td>1.275620</td>\n",
       "      <td>-1.042353</td>\n",
       "      <td>0.967654</td>\n",
       "    </tr>\n",
       "    <tr>\n",
       "      <th>126</th>\n",
       "      <td>St. Vincent and the Grenadines</td>\n",
       "      <td>0.305516</td>\n",
       "      <td>-0.078904</td>\n",
       "      <td>0.163147</td>\n",
       "      <td>-0.912769</td>\n",
       "      <td>3.0</td>\n",
       "      <td>-0.435669</td>\n",
       "      <td>-0.518349</td>\n",
       "      <td>-0.853960</td>\n",
       "      <td>0.421725</td>\n",
       "      <td>-0.374762</td>\n",
       "      <td>-0.316141</td>\n",
       "      <td>0.117428</td>\n",
       "      <td>-0.579955</td>\n",
       "      <td>-0.367410</td>\n",
       "    </tr>\n",
       "    <tr>\n",
       "      <th>131</th>\n",
       "      <td>Tajikistan</td>\n",
       "      <td>0.501259</td>\n",
       "      <td>1.403790</td>\n",
       "      <td>0.321252</td>\n",
       "      <td>-1.112667</td>\n",
       "      <td>3.0</td>\n",
       "      <td>0.350367</td>\n",
       "      <td>-0.956113</td>\n",
       "      <td>-0.304237</td>\n",
       "      <td>0.483684</td>\n",
       "      <td>-0.779886</td>\n",
       "      <td>0.446344</td>\n",
       "      <td>-0.107463</td>\n",
       "      <td>0.371263</td>\n",
       "      <td>-0.667050</td>\n",
       "    </tr>\n",
       "  </tbody>\n",
       "</table>\n",
       "</div>"
      ],
      "text/plain": [
       "                            country       PC1       PC2       PC3       PC4  \\\n",
       "4               Antigua and Barbuda  1.028893  0.130097  0.192344 -0.842275   \n",
       "10                          Bahamas  1.262278 -0.663093  0.452173  0.059300   \n",
       "11                          Bahrain  1.665727  0.558714 -1.017109 -0.177980   \n",
       "13                         Barbados  1.076855 -0.485220  0.647580 -0.531959   \n",
       "14                          Belarus  0.581791  0.551733 -0.429355 -1.050560   \n",
       "16                           Belize  0.208717  0.688145  0.229818 -1.087832   \n",
       "18                           Bhutan -0.157122  0.774914  0.268925 -1.043274   \n",
       "20           Bosnia and Herzegovina  0.994795 -0.963264  1.580119 -0.675520   \n",
       "25                          Burundi -0.582492  0.885921  0.471175 -0.806824   \n",
       "28                           Canada -0.159072  0.337665  0.220015 -1.326860   \n",
       "37                      Congo, Rep.  0.938768 -1.336653  0.885279 -0.304223   \n",
       "39                    Cote d'Ivoire  1.144175 -0.846931  0.382266 -0.624528   \n",
       "40                          Croatia  2.165763 -0.009492 -0.294368 -0.293065   \n",
       "41                           Cyprus  2.045979  0.416910  0.530729 -0.419271   \n",
       "49                          Eritrea  1.653467  1.016008  0.097009 -0.862414   \n",
       "50                          Estonia -0.189723  1.064069  0.161888 -0.975755   \n",
       "55                           Gambia  0.324826 -0.503290  1.053856 -0.520176   \n",
       "63                    Guinea-Bissau -0.322657  1.357187  0.471693 -0.861773   \n",
       "65                            Haiti  1.834256  1.272509  0.485182 -0.798781   \n",
       "76                            Japan  0.163133  0.545527  0.614105 -0.411462   \n",
       "79                            Kenya -0.336698  1.302391  0.476003 -0.846219   \n",
       "80                  Kyrgyz Republic  1.167149 -0.259738  0.598295 -1.063084   \n",
       "81                              Lao  0.818227  0.395900 -1.495570 -0.589675   \n",
       "82                           Latvia  1.405422  0.728228  0.411955 -0.776786   \n",
       "83                          Lebanon  0.730325 -0.095216  0.649726 -1.153233   \n",
       "84                            Libya  1.228007  1.599832 -0.540775 -1.077554   \n",
       "85                        Lithuania  1.105888  1.005541  0.271042 -1.098332   \n",
       "87                       Madagascar  0.895214  0.410870  0.352413 -1.072236   \n",
       "88                           Malawi  0.514199  0.186584  1.717685 -0.509158   \n",
       "90                         Maldives  1.024476 -0.254951  1.130969 -0.751977   \n",
       "99                          Myanmar  1.161833  1.113232  0.825282 -0.575902   \n",
       "100                         Namibia  0.117908  0.359391  0.038561 -0.948395   \n",
       "103                     New Zealand  1.213115 -0.660209  0.288122 -0.696393   \n",
       "108                        Paraguay  0.832868 -0.856133  1.081136 -0.551375   \n",
       "110                     Philippines  2.024352  1.049379  0.888399 -0.401836   \n",
       "111                          Poland  2.272783  0.192886  0.817655 -0.089971   \n",
       "112                        Portugal -0.801178  1.303061  1.291916 -0.091468   \n",
       "113                         Romania  1.911474 -0.427380 -0.160578 -0.463930   \n",
       "123                    South Africa  0.600272  0.171561  0.230755 -1.122463   \n",
       "125                           Spain -0.467430  1.272510 -0.701382 -0.890072   \n",
       "126  St. Vincent and the Grenadines  0.305516 -0.078904  0.163147 -0.912769   \n",
       "131                      Tajikistan  0.501259  1.403790  0.321252 -1.112667   \n",
       "\n",
       "     ClusterID  child_mort   exports    health   imports    income  inflation  \\\n",
       "4          3.0   -0.693548  0.160186 -0.286034  0.496076  0.101427  -0.599944   \n",
       "10         3.0   -0.606762 -0.222858  0.391108 -0.131775  0.298542  -0.773348   \n",
       "11         3.0   -0.735702  1.035715 -0.671932  0.165628  1.242620  -0.032338   \n",
       "13         3.0   -0.596843 -0.058696  0.420233  0.074755 -0.095688  -0.705803   \n",
       "14         3.0   -0.812570  0.375420 -0.438937  0.727389 -0.049003   0.692307   \n",
       "16         3.0   -0.482781  0.623487 -0.588200  0.438247 -0.480582  -0.628325   \n",
       "18         3.0    0.109845  0.050745 -0.588200  0.983486 -0.556316  -0.169509   \n",
       "20         3.0   -0.777855 -0.416204  1.559725  0.182150 -0.385137  -0.603728   \n",
       "25         3.0    1.371966 -1.174265  1.741753 -0.317652 -0.849706   0.427424   \n",
       "28         3.0   -0.810090 -0.438092  1.632536 -0.656360  1.221871  -0.464665   \n",
       "37         3.0    0.635522  1.604808 -1.585710  0.322591 -0.620119   1.222073   \n",
       "39         3.0    1.803418  0.346236 -0.551794 -0.148297 -0.749800  -0.226270   \n",
       "40         3.0   -0.812570 -0.128009  0.343781 -0.363088  0.153299  -0.658502   \n",
       "41         3.0   -0.859682  0.331644 -0.307877  0.438247  0.869139  -0.546022   \n",
       "49         3.0    0.419796 -1.324929 -1.512899 -0.974416 -0.815678   0.361203   \n",
       "50         3.0   -0.837366  1.240005 -0.286034  0.900874  0.288167  -0.571564   \n",
       "55         3.0    1.042178 -0.631438 -0.409813 -0.173081 -0.803228  -0.329385   \n",
       "63         3.0    1.877807 -0.956113  0.613182 -0.482875 -0.817234  -0.455205   \n",
       "65         3.0    4.208640 -0.941521  0.034335  0.735650 -0.811528  -0.220594   \n",
       "76         3.0   -0.869601 -0.952465  0.973597 -1.375084  0.967696  -0.915912   \n",
       "79         3.0    0.593369 -0.744527 -0.752024 -0.548965 -0.760693  -0.538453   \n",
       "80         3.0   -0.214984  0.382716 -0.231426  1.437851 -0.744612   0.209841   \n",
       "81         3.0    1.007464 -0.208266 -0.853960  0.099538 -0.682884   0.134160   \n",
       "82         3.0   -0.755538  0.459325 -0.049398  0.339113  0.059929  -0.812986   \n",
       "83         3.0   -0.693548 -0.193673  0.078021  0.549773 -0.043816  -0.713655   \n",
       "84         3.0   -0.537333  0.893441 -1.068752 -0.197864  0.646087   0.607166   \n",
       "85         3.0   -0.797692  0.882497  0.081662  0.838915  0.205172  -0.511019   \n",
       "87         3.0    0.593369 -0.587661 -1.108798 -0.160689 -0.817234   0.095374   \n",
       "88         3.0    1.295099 -0.667918 -0.082163 -0.495267 -0.835908   0.408503   \n",
       "90         3.0   -0.621640  1.331206 -0.176817  0.764564 -0.344676  -0.463719   \n",
       "99         3.0    0.647920 -1.495694 -1.764097 -1.934123 -0.696371  -0.070178   \n",
       "100        3.0    0.439633  0.244091 -0.012993  0.570426 -0.450496  -0.399390   \n",
       "103        3.0   -0.795212 -0.394315  1.195670 -0.780278  0.786143  -0.383308   \n",
       "108        3.0   -0.351362  0.510398 -0.344283  0.190412 -0.511187  -0.159103   \n",
       "110        3.0   -0.157953 -0.230154 -1.167047 -0.425047 -0.598851  -0.336953   \n",
       "111        3.0   -0.800171 -0.036808  0.234565 -0.197864  0.241482  -0.579132   \n",
       "112        3.0   -0.852243 -0.408907  1.523320 -0.392002  0.521593  -0.675341   \n",
       "113        3.0   -0.663793 -0.310411 -0.449859 -0.334174  0.033993  -0.402228   \n",
       "123        3.0    0.382602 -0.456332  0.773366 -0.805062 -0.266867  -0.135453   \n",
       "125        3.0   -0.854723 -0.569421  0.991799 -0.829845  0.796517  -0.721034   \n",
       "126        3.0   -0.435669 -0.518349 -0.853960  0.421725 -0.374762  -0.316141   \n",
       "131        3.0    0.350367 -0.956113 -0.304237  0.483684 -0.779886   0.446344   \n",
       "\n",
       "     life_expec  total_fer      gdpp  \n",
       "4      0.702147  -0.540321 -0.041692  \n",
       "10     0.364809  -0.718675  0.820344  \n",
       "11     0.612190  -0.520504  0.422062  \n",
       "13     0.690902  -0.771520  0.165633  \n",
       "14    -0.017507  -0.963085 -0.378322  \n",
       "16     0.094939  -0.157192 -0.470527  \n",
       "18     0.173651  -0.375179 -0.588375  \n",
       "20     0.702147  -1.081987 -0.455796  \n",
       "25    -1.445568   2.187827 -0.694711  \n",
       "28     1.208153  -0.870606  1.878793  \n",
       "37    -1.141965   1.322482 -0.557822  \n",
       "39    -1.602993   1.533864 -0.640752  \n",
       "40     0.645924  -0.923451  0.029235  \n",
       "41     1.050729  -1.009325  0.973110  \n",
       "49    -0.995785   1.097889 -0.681017  \n",
       "50     0.612190  -0.811154  0.089250  \n",
       "55    -0.568491   1.824514 -0.676652  \n",
       "63    -1.681705   1.388539 -0.677470  \n",
       "65    -4.324181   0.252361 -0.671196  \n",
       "76     1.376822  -1.029142  1.720571  \n",
       "79    -0.872095   0.939352 -0.654556  \n",
       "80    -0.231154   0.100430 -0.659302  \n",
       "81    -0.759649   0.133459 -0.645117  \n",
       "82     0.286097  -1.048959 -0.090795  \n",
       "83     1.039484  -0.883817 -0.223920  \n",
       "84     0.623435  -0.355362 -0.047148  \n",
       "85     0.297342  -0.956479 -0.052604  \n",
       "87    -1.096986   1.091283 -0.684781  \n",
       "88    -1.962819   1.560287 -0.682272  \n",
       "90     0.825837  -0.474264 -0.319944  \n",
       "99    -0.422311  -0.355362 -0.653410  \n",
       "100   -1.344367   0.430714 -0.424152  \n",
       "103    1.163175  -0.513899  1.131332  \n",
       "108    0.398543  -0.143980 -0.531088  \n",
       "110   -0.174931   0.140064 -0.591103  \n",
       "111    0.645924  -1.015931 -0.019868  \n",
       "112    1.039484  -1.029142  0.520268  \n",
       "113    0.353565  -0.897028 -0.258292  \n",
       "123   -1.827884  -0.236460 -0.310123  \n",
       "125    1.275620  -1.042353  0.967654  \n",
       "126    0.117428  -0.579955 -0.367410  \n",
       "131   -0.107463   0.371263 -0.667050  "
      ]
     },
     "execution_count": 98,
     "metadata": {},
     "output_type": "execute_result"
    }
   ],
   "source": [
    "#Finding country with cluster ID=3\n",
    "df_pca_cluster.loc[df_pca_cluster['ClusterID'] == 3]"
   ]
  },
  {
   "cell_type": "code",
   "execution_count": 99,
   "metadata": {},
   "outputs": [
    {
     "data": {
      "text/plain": [
       "42"
      ]
     },
     "execution_count": 99,
     "metadata": {},
     "output_type": "execute_result"
    }
   ],
   "source": [
    "len(df_pca_cluster.loc[df_pca_cluster['ClusterID'] == 3])"
   ]
  },
  {
   "cell_type": "markdown",
   "metadata": {},
   "source": [
    "We have 18 countries for cluster id 3 which need the aid most.\n",
    "\n",
    "Impt. Note: Results will vary every time this model will be run. Results published here at the time of code run."
   ]
  },
  {
   "cell_type": "markdown",
   "metadata": {},
   "source": [
    "## Heirarchical Clustering"
   ]
  },
  {
   "cell_type": "code",
   "execution_count": 100,
   "metadata": {},
   "outputs": [],
   "source": [
    "# To perform Hierarchical clustering\n",
    "from scipy.cluster.hierarchy import linkage\n",
    "from scipy.cluster.hierarchy import dendrogram\n",
    "from scipy.cluster.hierarchy import cut_tree"
   ]
  },
  {
   "cell_type": "code",
   "execution_count": 101,
   "metadata": {},
   "outputs": [
    {
     "data": {
      "image/png": "[encoded data removed]",
      "text/plain": [
       "<Figure size 432x288 with 1 Axes>"
      ]
     },
     "metadata": {
      "needs_background": "light"
     },
     "output_type": "display_data"
    }
   ],
   "source": [
    "# heirarchical clustering\n",
    "mergings = linkage(df_pca, method = \"single\", metric='euclidean')\n",
    "dendrogram(mergings)\n",
    "plt.show()"
   ]
  },
  {
   "cell_type": "code",
   "execution_count": 102,
   "metadata": {},
   "outputs": [
    {
     "data": {
      "image/png": "[encoded data removed]",
      "text/plain": [
       "<Figure size 432x288 with 1 Axes>"
      ]
     },
     "metadata": {
      "needs_background": "light"
     },
     "output_type": "display_data"
    }
   ],
   "source": [
    "mergings = linkage(df_pca, method = \"complete\", metric='euclidean')\n",
    "dendrogram(mergings)\n",
    "plt.show()"
   ]
  },
  {
   "cell_type": "code",
   "execution_count": 103,
   "metadata": {},
   "outputs": [],
   "source": [
    "#Analyze cluster frames\n",
    "clusterCut = pd.Series(cut_tree(mergings, n_clusters = 5).reshape(-1,))\n",
    "df_pca_cluster_hc = pd.concat([df_pca_cluster, clusterCut], axis=1)"
   ]
  },
  {
   "cell_type": "code",
   "execution_count": 104,
   "metadata": {},
   "outputs": [],
   "source": [
    "#summarise\n",
    "\n",
    "df_pca_cluster_hc_PC1 = \tpd.DataFrame(df_pca_cluster_hc.groupby([\"ClusterID\"]).PC1.mean())\n",
    "df_pca_cluster_hc_PC2 = \tpd.DataFrame(df_pca_cluster_hc.groupby([\"ClusterID\"]).PC2.mean())\n",
    "df_pca_cluster_hc_PC3 = \tpd.DataFrame(df_pca_cluster_hc.groupby([\"ClusterID\"]).PC3.mean())\n",
    "df_pca_cluster_hc_PC4 = \tpd.DataFrame(df_pca_cluster_hc.groupby([\"ClusterID\"]).PC4.mean())\n",
    "df_pca_cluster_hc_child_mort = \tpd.DataFrame(df_pca_cluster_hc.groupby([\"ClusterID\"]).child_mort.mean())\n",
    "df_pca_cluster_hc_exports = \tpd.DataFrame(df_pca_cluster_hc.groupby([\"ClusterID\"]).exports.mean())\n",
    "df_pca_cluster_hc_health = \tpd.DataFrame(df_pca_cluster_hc.groupby([\"ClusterID\"]).health.mean())\n",
    "df_pca_cluster_hc_imports = \tpd.DataFrame(df_pca_cluster_hc.groupby([\"ClusterID\"]).imports.mean())\n",
    "df_pca_cluster_hc_income = \tpd.DataFrame(df_pca_cluster_hc.groupby([\"ClusterID\"]).income.mean())\n",
    "df_pca_cluster_hc_inflation = \tpd.DataFrame(df_pca_cluster_hc.groupby([\"ClusterID\"]).inflation.mean())\n",
    "df_pca_cluster_hc_life_expec = \tpd.DataFrame(df_pca_cluster_hc.groupby([\"ClusterID\"]).life_expec.mean())\n",
    "df_pca_cluster_hc_total_fer = \tpd.DataFrame(df_pca_cluster_hc.groupby([\"ClusterID\"]).total_fer.mean())\n",
    "df_pca_cluster_hc_gdpp = \tpd.DataFrame(df_pca_cluster_hc.groupby([\"ClusterID\"]).gdpp.mean())"
   ]
  },
  {
   "cell_type": "code",
   "execution_count": 105,
   "metadata": {},
   "outputs": [
    {
     "data": {
      "text/html": [
       "<div>\n",
       "<style scoped>\n",
       "    .dataframe tbody tr th:only-of-type {\n",
       "        vertical-align: middle;\n",
       "    }\n",
       "\n",
       "    .dataframe tbody tr th {\n",
       "        vertical-align: top;\n",
       "    }\n",
       "\n",
       "    .dataframe thead th {\n",
       "        text-align: right;\n",
       "    }\n",
       "</style>\n",
       "<table border=\"1\" class=\"dataframe\">\n",
       "  <thead>\n",
       "    <tr style=\"text-align: right;\">\n",
       "      <th></th>\n",
       "      <th>ClusterID</th>\n",
       "      <th>PC1_mean</th>\n",
       "      <th>PC2_mean</th>\n",
       "      <th>PC3_mean</th>\n",
       "      <th>PC4_mean</th>\n",
       "      <th>child_mort_mean</th>\n",
       "      <th>exports_mean</th>\n",
       "      <th>health_mean</th>\n",
       "      <th>imports_mean</th>\n",
       "      <th>income_mean</th>\n",
       "      <th>inflation_mean</th>\n",
       "      <th>life_expec_mean</th>\n",
       "      <th>total_fer_mean</th>\n",
       "      <th>gdpp_mean</th>\n",
       "    </tr>\n",
       "  </thead>\n",
       "  <tbody>\n",
       "    <tr>\n",
       "      <th>0</th>\n",
       "      <td>0</td>\n",
       "      <td>-2.492805</td>\n",
       "      <td>0.451339</td>\n",
       "      <td>-0.007579</td>\n",
       "      <td>0.667306</td>\n",
       "      <td>0.369110</td>\n",
       "      <td>-0.067602</td>\n",
       "      <td>-0.027234</td>\n",
       "      <td>-0.007250</td>\n",
       "      <td>-0.300821</td>\n",
       "      <td>-0.081792</td>\n",
       "      <td>-0.302920</td>\n",
       "      <td>0.338235</td>\n",
       "      <td>-0.309515</td>\n",
       "    </tr>\n",
       "    <tr>\n",
       "      <th>1</th>\n",
       "      <td>1</td>\n",
       "      <td>-0.317680</td>\n",
       "      <td>-0.701623</td>\n",
       "      <td>-0.330729</td>\n",
       "      <td>-0.738490</td>\n",
       "      <td>-0.141215</td>\n",
       "      <td>-0.218622</td>\n",
       "      <td>0.011379</td>\n",
       "      <td>-0.380414</td>\n",
       "      <td>0.022537</td>\n",
       "      <td>-0.011189</td>\n",
       "      <td>0.307337</td>\n",
       "      <td>-0.186000</td>\n",
       "      <td>0.152324</td>\n",
       "    </tr>\n",
       "    <tr>\n",
       "      <th>2</th>\n",
       "      <td>2</td>\n",
       "      <td>2.581300</td>\n",
       "      <td>-1.082748</td>\n",
       "      <td>0.313695</td>\n",
       "      <td>1.055989</td>\n",
       "      <td>-0.189286</td>\n",
       "      <td>0.049418</td>\n",
       "      <td>0.247472</td>\n",
       "      <td>0.065930</td>\n",
       "      <td>0.035228</td>\n",
       "      <td>-0.062051</td>\n",
       "      <td>0.132762</td>\n",
       "      <td>-0.069816</td>\n",
       "      <td>0.150897</td>\n",
       "    </tr>\n",
       "    <tr>\n",
       "      <th>3</th>\n",
       "      <td>3</td>\n",
       "      <td>0.807222</td>\n",
       "      <td>0.348907</td>\n",
       "      <td>0.372841</td>\n",
       "      <td>-0.722636</td>\n",
       "      <td>-0.015434</td>\n",
       "      <td>-0.108362</td>\n",
       "      <td>-0.091871</td>\n",
       "      <td>-0.013398</td>\n",
       "      <td>-0.154966</td>\n",
       "      <td>-0.250353</td>\n",
       "      <td>-0.101841</td>\n",
       "      <td>-0.117400</td>\n",
       "      <td>-0.135691</td>\n",
       "    </tr>\n",
       "    <tr>\n",
       "      <th>4</th>\n",
       "      <td>4</td>\n",
       "      <td>NaN</td>\n",
       "      <td>NaN</td>\n",
       "      <td>NaN</td>\n",
       "      <td>NaN</td>\n",
       "      <td>NaN</td>\n",
       "      <td>NaN</td>\n",
       "      <td>NaN</td>\n",
       "      <td>NaN</td>\n",
       "      <td>NaN</td>\n",
       "      <td>NaN</td>\n",
       "      <td>NaN</td>\n",
       "      <td>NaN</td>\n",
       "      <td>NaN</td>\n",
       "    </tr>\n",
       "  </tbody>\n",
       "</table>\n",
       "</div>"
      ],
      "text/plain": [
       "   ClusterID  PC1_mean  PC2_mean  PC3_mean  PC4_mean  child_mort_mean  \\\n",
       "0          0 -2.492805  0.451339 -0.007579  0.667306         0.369110   \n",
       "1          1 -0.317680 -0.701623 -0.330729 -0.738490        -0.141215   \n",
       "2          2  2.581300 -1.082748  0.313695  1.055989        -0.189286   \n",
       "3          3  0.807222  0.348907  0.372841 -0.722636        -0.015434   \n",
       "4          4       NaN       NaN       NaN       NaN              NaN   \n",
       "\n",
       "   exports_mean  health_mean  imports_mean  income_mean  inflation_mean  \\\n",
       "0     -0.067602    -0.027234     -0.007250    -0.300821       -0.081792   \n",
       "1     -0.218622     0.011379     -0.380414     0.022537       -0.011189   \n",
       "2      0.049418     0.247472      0.065930     0.035228       -0.062051   \n",
       "3     -0.108362    -0.091871     -0.013398    -0.154966       -0.250353   \n",
       "4           NaN          NaN           NaN          NaN             NaN   \n",
       "\n",
       "   life_expec_mean  total_fer_mean  gdpp_mean  \n",
       "0        -0.302920        0.338235  -0.309515  \n",
       "1         0.307337       -0.186000   0.152324  \n",
       "2         0.132762       -0.069816   0.150897  \n",
       "3        -0.101841       -0.117400  -0.135691  \n",
       "4              NaN             NaN        NaN  "
      ]
     },
     "execution_count": 105,
     "metadata": {},
     "output_type": "execute_result"
    }
   ],
   "source": [
    "df_hierarchical = pd.concat([pd.Series([0,1,2,3,4]), df_pca_cluster_hc_PC1, df_pca_cluster_hc_PC2, df_pca_cluster_hc_PC3, df_pca_cluster_hc_PC4, df_pca_cluster_hc_child_mort, df_pca_cluster_hc_exports, df_pca_cluster_hc_health, df_pca_cluster_hc_imports, df_pca_cluster_hc_income, df_pca_cluster_hc_inflation, df_pca_cluster_hc_life_expec, df_pca_cluster_hc_total_fer, df_pca_cluster_hc_gdpp], axis=1)\n",
    "df_hierarchical.columns = [\"ClusterID\", \"PC1_mean\", \"PC2_mean\", \"PC3_mean\", \"PC4_mean\", \"child_mort_mean\", \"exports_mean\", \"health_mean\", \"imports_mean\", \"income_mean\", \"inflation_mean\", \"life_expec_mean\", \"total_fer_mean\", \"gdpp_mean\"]\n",
    "df_hierarchical.head()"
   ]
  },
  {
   "cell_type": "code",
   "execution_count": 107,
   "metadata": {},
   "outputs": [
    {
     "data": {
      "text/plain": [
       "<matplotlib.axes._subplots.AxesSubplot at 0x2572d52b8d0>"
      ]
     },
     "execution_count": 107,
     "metadata": {},
     "output_type": "execute_result"
    },
    {
     "data": {
      "image/png": "[encoded data removed]",
      "text/plain": [
       "<Figure size 432x288 with 1 Axes>"
      ]
     },
     "metadata": {
      "needs_background": "light"
     },
     "output_type": "display_data"
    }
   ],
   "source": [
    "#Plotting barplot between Cluster ID and Child mortality rate\n",
    "sns.barplot(x=df_hierarchical.ClusterID, y=df_hierarchical.child_mort_mean)"
   ]
  },
  {
   "cell_type": "code",
   "execution_count": 108,
   "metadata": {},
   "outputs": [
    {
     "data": {
      "text/plain": [
       "<matplotlib.axes._subplots.AxesSubplot at 0x2572d590b38>"
      ]
     },
     "execution_count": 108,
     "metadata": {},
     "output_type": "execute_result"
    },
    {
     "data": {
      "image/png": "[encoded data removed]",
      "text/plain": [
       "<Figure size 432x288 with 1 Axes>"
      ]
     },
     "metadata": {
      "needs_background": "light"
     },
     "output_type": "display_data"
    }
   ],
   "source": [
    "#Plotting barplot between Cluster ID and Exports\n",
    "sns.barplot(x=df_hierarchical.ClusterID, y=df_hierarchical.exports_mean)"
   ]
  },
  {
   "cell_type": "code",
   "execution_count": 109,
   "metadata": {},
   "outputs": [
    {
     "data": {
      "text/plain": [
       "<matplotlib.axes._subplots.AxesSubplot at 0x2572d5f75f8>"
      ]
     },
     "execution_count": 109,
     "metadata": {},
     "output_type": "execute_result"
    },
    {
     "data": {
      "image/png": "[encoded data removed]",
      "text/plain": [
       "<Figure size 432x288 with 1 Axes>"
      ]
     },
     "metadata": {
      "needs_background": "light"
     },
     "output_type": "display_data"
    }
   ],
   "source": [
    "#Plotting barplot between Cluster ID and Health\n",
    "sns.barplot(x=df_hierarchical.ClusterID, y=df_hierarchical.health_mean)"
   ]
  },
  {
   "cell_type": "code",
   "execution_count": 110,
   "metadata": {},
   "outputs": [
    {
     "data": {
      "text/plain": [
       "<matplotlib.axes._subplots.AxesSubplot at 0x2572d66e5c0>"
      ]
     },
     "execution_count": 110,
     "metadata": {},
     "output_type": "execute_result"
    },
    {
     "data": {
      "image/png": "[encoded data removed]",
      "text/plain": [
       "<Figure size 432x288 with 1 Axes>"
      ]
     },
     "metadata": {
      "needs_background": "light"
     },
     "output_type": "display_data"
    }
   ],
   "source": [
    "#Plotting barplot between Cluster ID and Imports\n",
    "sns.barplot(x=df_hierarchical.ClusterID, y=df_hierarchical.imports_mean)"
   ]
  },
  {
   "cell_type": "code",
   "execution_count": 111,
   "metadata": {},
   "outputs": [
    {
     "data": {
      "text/plain": [
       "<matplotlib.axes._subplots.AxesSubplot at 0x2572d6469b0>"
      ]
     },
     "execution_count": 111,
     "metadata": {},
     "output_type": "execute_result"
    },
    {
     "data": {
      "image/png": "[encoded data removed]",
      "text/plain": [
       "<Figure size 432x288 with 1 Axes>"
      ]
     },
     "metadata": {
      "needs_background": "light"
     },
     "output_type": "display_data"
    }
   ],
   "source": [
    "#Plotting barplot between Cluster ID and Income\n",
    "sns.barplot(x=df_hierarchical.ClusterID, y=df_hierarchical.income_mean)"
   ]
  },
  {
   "cell_type": "code",
   "execution_count": 112,
   "metadata": {},
   "outputs": [
    {
     "data": {
      "text/plain": [
       "<matplotlib.axes._subplots.AxesSubplot at 0x2572d73aa58>"
      ]
     },
     "execution_count": 112,
     "metadata": {},
     "output_type": "execute_result"
    },
    {
     "data": {
      "image/png": "[encoded data removed]",
      "text/plain": [
       "<Figure size 432x288 with 1 Axes>"
      ]
     },
     "metadata": {
      "needs_background": "light"
     },
     "output_type": "display_data"
    }
   ],
   "source": [
    "#Plotting barplot between Cluster ID and Inflation rate\n",
    "sns.barplot(x=df_hierarchical.ClusterID, y=df_hierarchical.inflation_mean)"
   ]
  },
  {
   "cell_type": "code",
   "execution_count": 113,
   "metadata": {},
   "outputs": [
    {
     "data": {
      "text/plain": [
       "<matplotlib.axes._subplots.AxesSubplot at 0x2572d7a1390>"
      ]
     },
     "execution_count": 113,
     "metadata": {},
     "output_type": "execute_result"
    },
    {
     "data": {
      "image/png": "[encoded data removed]",
      "text/plain": [
       "<Figure size 432x288 with 1 Axes>"
      ]
     },
     "metadata": {
      "needs_background": "light"
     },
     "output_type": "display_data"
    }
   ],
   "source": [
    "#Plotting barplot between Cluster ID and Life expecting rate\n",
    "sns.barplot(x=df_hierarchical.ClusterID, y=df_hierarchical.life_expec_mean)"
   ]
  },
  {
   "cell_type": "code",
   "execution_count": 114,
   "metadata": {},
   "outputs": [
    {
     "data": {
      "text/plain": [
       "<matplotlib.axes._subplots.AxesSubplot at 0x2572d80d320>"
      ]
     },
     "execution_count": 114,
     "metadata": {},
     "output_type": "execute_result"
    },
    {
     "data": {
      "image/png": "[encoded data removed]",
      "text/plain": [
       "<Figure size 432x288 with 1 Axes>"
      ]
     },
     "metadata": {
      "needs_background": "light"
     },
     "output_type": "display_data"
    }
   ],
   "source": [
    "#Plotting barplot between Cluster ID and Total fer\n",
    "sns.barplot(x=df_hierarchical.ClusterID, y=df_hierarchical.total_fer_mean)"
   ]
  },
  {
   "cell_type": "code",
   "execution_count": 115,
   "metadata": {},
   "outputs": [
    {
     "data": {
      "text/plain": [
       "<matplotlib.axes._subplots.AxesSubplot at 0x2572d877518>"
      ]
     },
     "execution_count": 115,
     "metadata": {},
     "output_type": "execute_result"
    },
    {
     "data": {
      "image/png": "[encoded data removed]",
      "text/plain": [
       "<Figure size 432x288 with 1 Axes>"
      ]
     },
     "metadata": {
      "needs_background": "light"
     },
     "output_type": "display_data"
    }
   ],
   "source": [
    "#Plotting barplot between Cluster ID and GDPP\n",
    "sns.barplot(x=df_hierarchical.ClusterID, y=df_hierarchical.gdpp_mean)"
   ]
  },
  {
   "cell_type": "code",
   "execution_count": 116,
   "metadata": {},
   "outputs": [
    {
     "data": {
      "text/plain": [
       "<matplotlib.axes._subplots.AxesSubplot at 0x2572d8d5e48>"
      ]
     },
     "execution_count": 116,
     "metadata": {},
     "output_type": "execute_result"
    },
    {
     "data": {
      "image/png": "[encoded data removed]",
      "text/plain": [
       "<Figure size 432x288 with 1 Axes>"
      ]
     },
     "metadata": {
      "needs_background": "light"
     },
     "output_type": "display_data"
    }
   ],
   "source": [
    "#Plotting barplot between Cluster ID and PC1\n",
    "sns.barplot(x=df_hierarchical.ClusterID, y=df_hierarchical.PC1_mean)"
   ]
  },
  {
   "cell_type": "code",
   "execution_count": 117,
   "metadata": {},
   "outputs": [
    {
     "data": {
      "text/plain": [
       "<matplotlib.axes._subplots.AxesSubplot at 0x2572d942d68>"
      ]
     },
     "execution_count": 117,
     "metadata": {},
     "output_type": "execute_result"
    },
    {
     "data": {
      "image/png": "[encoded data removed]",
      "text/plain": [
       "<Figure size 432x288 with 1 Axes>"
      ]
     },
     "metadata": {
      "needs_background": "light"
     },
     "output_type": "display_data"
    }
   ],
   "source": [
    "#Plotting barplot between Cluster ID and PC2\n",
    "sns.barplot(x=df_hierarchical.ClusterID, y=df_hierarchical.PC2_mean)"
   ]
  },
  {
   "cell_type": "code",
   "execution_count": 118,
   "metadata": {},
   "outputs": [
    {
     "data": {
      "text/plain": [
       "<matplotlib.axes._subplots.AxesSubplot at 0x2572e97da20>"
      ]
     },
     "execution_count": 118,
     "metadata": {},
     "output_type": "execute_result"
    },
    {
     "data": {
      "image/png": "[encoded data removed]",
      "text/plain": [
       "<Figure size 432x288 with 1 Axes>"
      ]
     },
     "metadata": {
      "needs_background": "light"
     },
     "output_type": "display_data"
    }
   ],
   "source": [
    "#Plotting barplot between Cluster ID and PC3\n",
    "sns.barplot(x=df_hierarchical.ClusterID, y=df_hierarchical.PC3_mean)"
   ]
  },
  {
   "cell_type": "code",
   "execution_count": 119,
   "metadata": {},
   "outputs": [
    {
     "data": {
      "text/plain": [
       "<matplotlib.axes._subplots.AxesSubplot at 0x2572e9f3f28>"
      ]
     },
     "execution_count": 119,
     "metadata": {},
     "output_type": "execute_result"
    },
    {
     "data": {
      "image/png": "[encoded data removed]",
      "text/plain": [
       "<Figure size 432x288 with 1 Axes>"
      ]
     },
     "metadata": {
      "needs_background": "light"
     },
     "output_type": "display_data"
    }
   ],
   "source": [
    "#Plotting barplot between Cluster ID and PC4\n",
    "sns.barplot(x=df_hierarchical.ClusterID, y=df_hierarchical.PC4_mean)"
   ]
  },
  {
   "cell_type": "code",
   "execution_count": 120,
   "metadata": {},
   "outputs": [
    {
     "data": {
      "text/plain": [
       "42"
      ]
     },
     "execution_count": 120,
     "metadata": {},
     "output_type": "execute_result"
    }
   ],
   "source": [
    "#Finding country with cluster ID=3\n",
    "len(df_pca_cluster.loc[df_pca_cluster['ClusterID'] == 3])"
   ]
  },
  {
   "cell_type": "code",
   "execution_count": 121,
   "metadata": {},
   "outputs": [
    {
     "data": {
      "text/html": [
       "<div>\n",
       "<style scoped>\n",
       "    .dataframe tbody tr th:only-of-type {\n",
       "        vertical-align: middle;\n",
       "    }\n",
       "\n",
       "    .dataframe tbody tr th {\n",
       "        vertical-align: top;\n",
       "    }\n",
       "\n",
       "    .dataframe thead th {\n",
       "        text-align: right;\n",
       "    }\n",
       "</style>\n",
       "<table border=\"1\" class=\"dataframe\">\n",
       "  <thead>\n",
       "    <tr style=\"text-align: right;\">\n",
       "      <th></th>\n",
       "      <th>country</th>\n",
       "      <th>PC1</th>\n",
       "      <th>PC2</th>\n",
       "      <th>PC3</th>\n",
       "      <th>PC4</th>\n",
       "      <th>ClusterID</th>\n",
       "      <th>child_mort</th>\n",
       "      <th>exports</th>\n",
       "      <th>health</th>\n",
       "      <th>imports</th>\n",
       "      <th>income</th>\n",
       "      <th>inflation</th>\n",
       "      <th>life_expec</th>\n",
       "      <th>total_fer</th>\n",
       "      <th>gdpp</th>\n",
       "    </tr>\n",
       "  </thead>\n",
       "  <tbody>\n",
       "    <tr>\n",
       "      <th>4</th>\n",
       "      <td>Antigua and Barbuda</td>\n",
       "      <td>1.028893</td>\n",
       "      <td>0.130097</td>\n",
       "      <td>0.192344</td>\n",
       "      <td>-0.842275</td>\n",
       "      <td>3.0</td>\n",
       "      <td>-0.693548</td>\n",
       "      <td>0.160186</td>\n",
       "      <td>-0.286034</td>\n",
       "      <td>0.496076</td>\n",
       "      <td>0.101427</td>\n",
       "      <td>-0.599944</td>\n",
       "      <td>0.702147</td>\n",
       "      <td>-0.540321</td>\n",
       "      <td>-0.041692</td>\n",
       "    </tr>\n",
       "    <tr>\n",
       "      <th>10</th>\n",
       "      <td>Bahamas</td>\n",
       "      <td>1.262278</td>\n",
       "      <td>-0.663093</td>\n",
       "      <td>0.452173</td>\n",
       "      <td>0.059300</td>\n",
       "      <td>3.0</td>\n",
       "      <td>-0.606762</td>\n",
       "      <td>-0.222858</td>\n",
       "      <td>0.391108</td>\n",
       "      <td>-0.131775</td>\n",
       "      <td>0.298542</td>\n",
       "      <td>-0.773348</td>\n",
       "      <td>0.364809</td>\n",
       "      <td>-0.718675</td>\n",
       "      <td>0.820344</td>\n",
       "    </tr>\n",
       "    <tr>\n",
       "      <th>11</th>\n",
       "      <td>Bahrain</td>\n",
       "      <td>1.665727</td>\n",
       "      <td>0.558714</td>\n",
       "      <td>-1.017109</td>\n",
       "      <td>-0.177980</td>\n",
       "      <td>3.0</td>\n",
       "      <td>-0.735702</td>\n",
       "      <td>1.035715</td>\n",
       "      <td>-0.671932</td>\n",
       "      <td>0.165628</td>\n",
       "      <td>1.242620</td>\n",
       "      <td>-0.032338</td>\n",
       "      <td>0.612190</td>\n",
       "      <td>-0.520504</td>\n",
       "      <td>0.422062</td>\n",
       "    </tr>\n",
       "    <tr>\n",
       "      <th>13</th>\n",
       "      <td>Barbados</td>\n",
       "      <td>1.076855</td>\n",
       "      <td>-0.485220</td>\n",
       "      <td>0.647580</td>\n",
       "      <td>-0.531959</td>\n",
       "      <td>3.0</td>\n",
       "      <td>-0.596843</td>\n",
       "      <td>-0.058696</td>\n",
       "      <td>0.420233</td>\n",
       "      <td>0.074755</td>\n",
       "      <td>-0.095688</td>\n",
       "      <td>-0.705803</td>\n",
       "      <td>0.690902</td>\n",
       "      <td>-0.771520</td>\n",
       "      <td>0.165633</td>\n",
       "    </tr>\n",
       "    <tr>\n",
       "      <th>14</th>\n",
       "      <td>Belarus</td>\n",
       "      <td>0.581791</td>\n",
       "      <td>0.551733</td>\n",
       "      <td>-0.429355</td>\n",
       "      <td>-1.050560</td>\n",
       "      <td>3.0</td>\n",
       "      <td>-0.812570</td>\n",
       "      <td>0.375420</td>\n",
       "      <td>-0.438937</td>\n",
       "      <td>0.727389</td>\n",
       "      <td>-0.049003</td>\n",
       "      <td>0.692307</td>\n",
       "      <td>-0.017507</td>\n",
       "      <td>-0.963085</td>\n",
       "      <td>-0.378322</td>\n",
       "    </tr>\n",
       "    <tr>\n",
       "      <th>16</th>\n",
       "      <td>Belize</td>\n",
       "      <td>0.208717</td>\n",
       "      <td>0.688145</td>\n",
       "      <td>0.229818</td>\n",
       "      <td>-1.087832</td>\n",
       "      <td>3.0</td>\n",
       "      <td>-0.482781</td>\n",
       "      <td>0.623487</td>\n",
       "      <td>-0.588200</td>\n",
       "      <td>0.438247</td>\n",
       "      <td>-0.480582</td>\n",
       "      <td>-0.628325</td>\n",
       "      <td>0.094939</td>\n",
       "      <td>-0.157192</td>\n",
       "      <td>-0.470527</td>\n",
       "    </tr>\n",
       "    <tr>\n",
       "      <th>18</th>\n",
       "      <td>Bhutan</td>\n",
       "      <td>-0.157122</td>\n",
       "      <td>0.774914</td>\n",
       "      <td>0.268925</td>\n",
       "      <td>-1.043274</td>\n",
       "      <td>3.0</td>\n",
       "      <td>0.109845</td>\n",
       "      <td>0.050745</td>\n",
       "      <td>-0.588200</td>\n",
       "      <td>0.983486</td>\n",
       "      <td>-0.556316</td>\n",
       "      <td>-0.169509</td>\n",
       "      <td>0.173651</td>\n",
       "      <td>-0.375179</td>\n",
       "      <td>-0.588375</td>\n",
       "    </tr>\n",
       "    <tr>\n",
       "      <th>20</th>\n",
       "      <td>Bosnia and Herzegovina</td>\n",
       "      <td>0.994795</td>\n",
       "      <td>-0.963264</td>\n",
       "      <td>1.580119</td>\n",
       "      <td>-0.675520</td>\n",
       "      <td>3.0</td>\n",
       "      <td>-0.777855</td>\n",
       "      <td>-0.416204</td>\n",
       "      <td>1.559725</td>\n",
       "      <td>0.182150</td>\n",
       "      <td>-0.385137</td>\n",
       "      <td>-0.603728</td>\n",
       "      <td>0.702147</td>\n",
       "      <td>-1.081987</td>\n",
       "      <td>-0.455796</td>\n",
       "    </tr>\n",
       "    <tr>\n",
       "      <th>25</th>\n",
       "      <td>Burundi</td>\n",
       "      <td>-0.582492</td>\n",
       "      <td>0.885921</td>\n",
       "      <td>0.471175</td>\n",
       "      <td>-0.806824</td>\n",
       "      <td>3.0</td>\n",
       "      <td>1.371966</td>\n",
       "      <td>-1.174265</td>\n",
       "      <td>1.741753</td>\n",
       "      <td>-0.317652</td>\n",
       "      <td>-0.849706</td>\n",
       "      <td>0.427424</td>\n",
       "      <td>-1.445568</td>\n",
       "      <td>2.187827</td>\n",
       "      <td>-0.694711</td>\n",
       "    </tr>\n",
       "    <tr>\n",
       "      <th>28</th>\n",
       "      <td>Canada</td>\n",
       "      <td>-0.159072</td>\n",
       "      <td>0.337665</td>\n",
       "      <td>0.220015</td>\n",
       "      <td>-1.326860</td>\n",
       "      <td>3.0</td>\n",
       "      <td>-0.810090</td>\n",
       "      <td>-0.438092</td>\n",
       "      <td>1.632536</td>\n",
       "      <td>-0.656360</td>\n",
       "      <td>1.221871</td>\n",
       "      <td>-0.464665</td>\n",
       "      <td>1.208153</td>\n",
       "      <td>-0.870606</td>\n",
       "      <td>1.878793</td>\n",
       "    </tr>\n",
       "    <tr>\n",
       "      <th>37</th>\n",
       "      <td>Congo, Rep.</td>\n",
       "      <td>0.938768</td>\n",
       "      <td>-1.336653</td>\n",
       "      <td>0.885279</td>\n",
       "      <td>-0.304223</td>\n",
       "      <td>3.0</td>\n",
       "      <td>0.635522</td>\n",
       "      <td>1.604808</td>\n",
       "      <td>-1.585710</td>\n",
       "      <td>0.322591</td>\n",
       "      <td>-0.620119</td>\n",
       "      <td>1.222073</td>\n",
       "      <td>-1.141965</td>\n",
       "      <td>1.322482</td>\n",
       "      <td>-0.557822</td>\n",
       "    </tr>\n",
       "    <tr>\n",
       "      <th>39</th>\n",
       "      <td>Cote d'Ivoire</td>\n",
       "      <td>1.144175</td>\n",
       "      <td>-0.846931</td>\n",
       "      <td>0.382266</td>\n",
       "      <td>-0.624528</td>\n",
       "      <td>3.0</td>\n",
       "      <td>1.803418</td>\n",
       "      <td>0.346236</td>\n",
       "      <td>-0.551794</td>\n",
       "      <td>-0.148297</td>\n",
       "      <td>-0.749800</td>\n",
       "      <td>-0.226270</td>\n",
       "      <td>-1.602993</td>\n",
       "      <td>1.533864</td>\n",
       "      <td>-0.640752</td>\n",
       "    </tr>\n",
       "    <tr>\n",
       "      <th>40</th>\n",
       "      <td>Croatia</td>\n",
       "      <td>2.165763</td>\n",
       "      <td>-0.009492</td>\n",
       "      <td>-0.294368</td>\n",
       "      <td>-0.293065</td>\n",
       "      <td>3.0</td>\n",
       "      <td>-0.812570</td>\n",
       "      <td>-0.128009</td>\n",
       "      <td>0.343781</td>\n",
       "      <td>-0.363088</td>\n",
       "      <td>0.153299</td>\n",
       "      <td>-0.658502</td>\n",
       "      <td>0.645924</td>\n",
       "      <td>-0.923451</td>\n",
       "      <td>0.029235</td>\n",
       "    </tr>\n",
       "    <tr>\n",
       "      <th>41</th>\n",
       "      <td>Cyprus</td>\n",
       "      <td>2.045979</td>\n",
       "      <td>0.416910</td>\n",
       "      <td>0.530729</td>\n",
       "      <td>-0.419271</td>\n",
       "      <td>3.0</td>\n",
       "      <td>-0.859682</td>\n",
       "      <td>0.331644</td>\n",
       "      <td>-0.307877</td>\n",
       "      <td>0.438247</td>\n",
       "      <td>0.869139</td>\n",
       "      <td>-0.546022</td>\n",
       "      <td>1.050729</td>\n",
       "      <td>-1.009325</td>\n",
       "      <td>0.973110</td>\n",
       "    </tr>\n",
       "    <tr>\n",
       "      <th>49</th>\n",
       "      <td>Eritrea</td>\n",
       "      <td>1.653467</td>\n",
       "      <td>1.016008</td>\n",
       "      <td>0.097009</td>\n",
       "      <td>-0.862414</td>\n",
       "      <td>3.0</td>\n",
       "      <td>0.419796</td>\n",
       "      <td>-1.324929</td>\n",
       "      <td>-1.512899</td>\n",
       "      <td>-0.974416</td>\n",
       "      <td>-0.815678</td>\n",
       "      <td>0.361203</td>\n",
       "      <td>-0.995785</td>\n",
       "      <td>1.097889</td>\n",
       "      <td>-0.681017</td>\n",
       "    </tr>\n",
       "    <tr>\n",
       "      <th>50</th>\n",
       "      <td>Estonia</td>\n",
       "      <td>-0.189723</td>\n",
       "      <td>1.064069</td>\n",
       "      <td>0.161888</td>\n",
       "      <td>-0.975755</td>\n",
       "      <td>3.0</td>\n",
       "      <td>-0.837366</td>\n",
       "      <td>1.240005</td>\n",
       "      <td>-0.286034</td>\n",
       "      <td>0.900874</td>\n",
       "      <td>0.288167</td>\n",
       "      <td>-0.571564</td>\n",
       "      <td>0.612190</td>\n",
       "      <td>-0.811154</td>\n",
       "      <td>0.089250</td>\n",
       "    </tr>\n",
       "    <tr>\n",
       "      <th>55</th>\n",
       "      <td>Gambia</td>\n",
       "      <td>0.324826</td>\n",
       "      <td>-0.503290</td>\n",
       "      <td>1.053856</td>\n",
       "      <td>-0.520176</td>\n",
       "      <td>3.0</td>\n",
       "      <td>1.042178</td>\n",
       "      <td>-0.631438</td>\n",
       "      <td>-0.409813</td>\n",
       "      <td>-0.173081</td>\n",
       "      <td>-0.803228</td>\n",
       "      <td>-0.329385</td>\n",
       "      <td>-0.568491</td>\n",
       "      <td>1.824514</td>\n",
       "      <td>-0.676652</td>\n",
       "    </tr>\n",
       "    <tr>\n",
       "      <th>63</th>\n",
       "      <td>Guinea-Bissau</td>\n",
       "      <td>-0.322657</td>\n",
       "      <td>1.357187</td>\n",
       "      <td>0.471693</td>\n",
       "      <td>-0.861773</td>\n",
       "      <td>3.0</td>\n",
       "      <td>1.877807</td>\n",
       "      <td>-0.956113</td>\n",
       "      <td>0.613182</td>\n",
       "      <td>-0.482875</td>\n",
       "      <td>-0.817234</td>\n",
       "      <td>-0.455205</td>\n",
       "      <td>-1.681705</td>\n",
       "      <td>1.388539</td>\n",
       "      <td>-0.677470</td>\n",
       "    </tr>\n",
       "    <tr>\n",
       "      <th>65</th>\n",
       "      <td>Haiti</td>\n",
       "      <td>1.834256</td>\n",
       "      <td>1.272509</td>\n",
       "      <td>0.485182</td>\n",
       "      <td>-0.798781</td>\n",
       "      <td>3.0</td>\n",
       "      <td>4.208640</td>\n",
       "      <td>-0.941521</td>\n",
       "      <td>0.034335</td>\n",
       "      <td>0.735650</td>\n",
       "      <td>-0.811528</td>\n",
       "      <td>-0.220594</td>\n",
       "      <td>-4.324181</td>\n",
       "      <td>0.252361</td>\n",
       "      <td>-0.671196</td>\n",
       "    </tr>\n",
       "    <tr>\n",
       "      <th>76</th>\n",
       "      <td>Japan</td>\n",
       "      <td>0.163133</td>\n",
       "      <td>0.545527</td>\n",
       "      <td>0.614105</td>\n",
       "      <td>-0.411462</td>\n",
       "      <td>3.0</td>\n",
       "      <td>-0.869601</td>\n",
       "      <td>-0.952465</td>\n",
       "      <td>0.973597</td>\n",
       "      <td>-1.375084</td>\n",
       "      <td>0.967696</td>\n",
       "      <td>-0.915912</td>\n",
       "      <td>1.376822</td>\n",
       "      <td>-1.029142</td>\n",
       "      <td>1.720571</td>\n",
       "    </tr>\n",
       "    <tr>\n",
       "      <th>79</th>\n",
       "      <td>Kenya</td>\n",
       "      <td>-0.336698</td>\n",
       "      <td>1.302391</td>\n",
       "      <td>0.476003</td>\n",
       "      <td>-0.846219</td>\n",
       "      <td>3.0</td>\n",
       "      <td>0.593369</td>\n",
       "      <td>-0.744527</td>\n",
       "      <td>-0.752024</td>\n",
       "      <td>-0.548965</td>\n",
       "      <td>-0.760693</td>\n",
       "      <td>-0.538453</td>\n",
       "      <td>-0.872095</td>\n",
       "      <td>0.939352</td>\n",
       "      <td>-0.654556</td>\n",
       "    </tr>\n",
       "    <tr>\n",
       "      <th>80</th>\n",
       "      <td>Kyrgyz Republic</td>\n",
       "      <td>1.167149</td>\n",
       "      <td>-0.259738</td>\n",
       "      <td>0.598295</td>\n",
       "      <td>-1.063084</td>\n",
       "      <td>3.0</td>\n",
       "      <td>-0.214984</td>\n",
       "      <td>0.382716</td>\n",
       "      <td>-0.231426</td>\n",
       "      <td>1.437851</td>\n",
       "      <td>-0.744612</td>\n",
       "      <td>0.209841</td>\n",
       "      <td>-0.231154</td>\n",
       "      <td>0.100430</td>\n",
       "      <td>-0.659302</td>\n",
       "    </tr>\n",
       "    <tr>\n",
       "      <th>81</th>\n",
       "      <td>Lao</td>\n",
       "      <td>0.818227</td>\n",
       "      <td>0.395900</td>\n",
       "      <td>-1.495570</td>\n",
       "      <td>-0.589675</td>\n",
       "      <td>3.0</td>\n",
       "      <td>1.007464</td>\n",
       "      <td>-0.208266</td>\n",
       "      <td>-0.853960</td>\n",
       "      <td>0.099538</td>\n",
       "      <td>-0.682884</td>\n",
       "      <td>0.134160</td>\n",
       "      <td>-0.759649</td>\n",
       "      <td>0.133459</td>\n",
       "      <td>-0.645117</td>\n",
       "    </tr>\n",
       "    <tr>\n",
       "      <th>82</th>\n",
       "      <td>Latvia</td>\n",
       "      <td>1.405422</td>\n",
       "      <td>0.728228</td>\n",
       "      <td>0.411955</td>\n",
       "      <td>-0.776786</td>\n",
       "      <td>3.0</td>\n",
       "      <td>-0.755538</td>\n",
       "      <td>0.459325</td>\n",
       "      <td>-0.049398</td>\n",
       "      <td>0.339113</td>\n",
       "      <td>0.059929</td>\n",
       "      <td>-0.812986</td>\n",
       "      <td>0.286097</td>\n",
       "      <td>-1.048959</td>\n",
       "      <td>-0.090795</td>\n",
       "    </tr>\n",
       "    <tr>\n",
       "      <th>83</th>\n",
       "      <td>Lebanon</td>\n",
       "      <td>0.730325</td>\n",
       "      <td>-0.095216</td>\n",
       "      <td>0.649726</td>\n",
       "      <td>-1.153233</td>\n",
       "      <td>3.0</td>\n",
       "      <td>-0.693548</td>\n",
       "      <td>-0.193673</td>\n",
       "      <td>0.078021</td>\n",
       "      <td>0.549773</td>\n",
       "      <td>-0.043816</td>\n",
       "      <td>-0.713655</td>\n",
       "      <td>1.039484</td>\n",
       "      <td>-0.883817</td>\n",
       "      <td>-0.223920</td>\n",
       "    </tr>\n",
       "    <tr>\n",
       "      <th>84</th>\n",
       "      <td>Libya</td>\n",
       "      <td>1.228007</td>\n",
       "      <td>1.599832</td>\n",
       "      <td>-0.540775</td>\n",
       "      <td>-1.077554</td>\n",
       "      <td>3.0</td>\n",
       "      <td>-0.537333</td>\n",
       "      <td>0.893441</td>\n",
       "      <td>-1.068752</td>\n",
       "      <td>-0.197864</td>\n",
       "      <td>0.646087</td>\n",
       "      <td>0.607166</td>\n",
       "      <td>0.623435</td>\n",
       "      <td>-0.355362</td>\n",
       "      <td>-0.047148</td>\n",
       "    </tr>\n",
       "    <tr>\n",
       "      <th>85</th>\n",
       "      <td>Lithuania</td>\n",
       "      <td>1.105888</td>\n",
       "      <td>1.005541</td>\n",
       "      <td>0.271042</td>\n",
       "      <td>-1.098332</td>\n",
       "      <td>3.0</td>\n",
       "      <td>-0.797692</td>\n",
       "      <td>0.882497</td>\n",
       "      <td>0.081662</td>\n",
       "      <td>0.838915</td>\n",
       "      <td>0.205172</td>\n",
       "      <td>-0.511019</td>\n",
       "      <td>0.297342</td>\n",
       "      <td>-0.956479</td>\n",
       "      <td>-0.052604</td>\n",
       "    </tr>\n",
       "    <tr>\n",
       "      <th>87</th>\n",
       "      <td>Madagascar</td>\n",
       "      <td>0.895214</td>\n",
       "      <td>0.410870</td>\n",
       "      <td>0.352413</td>\n",
       "      <td>-1.072236</td>\n",
       "      <td>3.0</td>\n",
       "      <td>0.593369</td>\n",
       "      <td>-0.587661</td>\n",
       "      <td>-1.108798</td>\n",
       "      <td>-0.160689</td>\n",
       "      <td>-0.817234</td>\n",
       "      <td>0.095374</td>\n",
       "      <td>-1.096986</td>\n",
       "      <td>1.091283</td>\n",
       "      <td>-0.684781</td>\n",
       "    </tr>\n",
       "    <tr>\n",
       "      <th>88</th>\n",
       "      <td>Malawi</td>\n",
       "      <td>0.514199</td>\n",
       "      <td>0.186584</td>\n",
       "      <td>1.717685</td>\n",
       "      <td>-0.509158</td>\n",
       "      <td>3.0</td>\n",
       "      <td>1.295099</td>\n",
       "      <td>-0.667918</td>\n",
       "      <td>-0.082163</td>\n",
       "      <td>-0.495267</td>\n",
       "      <td>-0.835908</td>\n",
       "      <td>0.408503</td>\n",
       "      <td>-1.962819</td>\n",
       "      <td>1.560287</td>\n",
       "      <td>-0.682272</td>\n",
       "    </tr>\n",
       "    <tr>\n",
       "      <th>90</th>\n",
       "      <td>Maldives</td>\n",
       "      <td>1.024476</td>\n",
       "      <td>-0.254951</td>\n",
       "      <td>1.130969</td>\n",
       "      <td>-0.751977</td>\n",
       "      <td>3.0</td>\n",
       "      <td>-0.621640</td>\n",
       "      <td>1.331206</td>\n",
       "      <td>-0.176817</td>\n",
       "      <td>0.764564</td>\n",
       "      <td>-0.344676</td>\n",
       "      <td>-0.463719</td>\n",
       "      <td>0.825837</td>\n",
       "      <td>-0.474264</td>\n",
       "      <td>-0.319944</td>\n",
       "    </tr>\n",
       "    <tr>\n",
       "      <th>99</th>\n",
       "      <td>Myanmar</td>\n",
       "      <td>1.161833</td>\n",
       "      <td>1.113232</td>\n",
       "      <td>0.825282</td>\n",
       "      <td>-0.575902</td>\n",
       "      <td>3.0</td>\n",
       "      <td>0.647920</td>\n",
       "      <td>-1.495694</td>\n",
       "      <td>-1.764097</td>\n",
       "      <td>-1.934123</td>\n",
       "      <td>-0.696371</td>\n",
       "      <td>-0.070178</td>\n",
       "      <td>-0.422311</td>\n",
       "      <td>-0.355362</td>\n",
       "      <td>-0.653410</td>\n",
       "    </tr>\n",
       "    <tr>\n",
       "      <th>100</th>\n",
       "      <td>Namibia</td>\n",
       "      <td>0.117908</td>\n",
       "      <td>0.359391</td>\n",
       "      <td>0.038561</td>\n",
       "      <td>-0.948395</td>\n",
       "      <td>3.0</td>\n",
       "      <td>0.439633</td>\n",
       "      <td>0.244091</td>\n",
       "      <td>-0.012993</td>\n",
       "      <td>0.570426</td>\n",
       "      <td>-0.450496</td>\n",
       "      <td>-0.399390</td>\n",
       "      <td>-1.344367</td>\n",
       "      <td>0.430714</td>\n",
       "      <td>-0.424152</td>\n",
       "    </tr>\n",
       "    <tr>\n",
       "      <th>103</th>\n",
       "      <td>New Zealand</td>\n",
       "      <td>1.213115</td>\n",
       "      <td>-0.660209</td>\n",
       "      <td>0.288122</td>\n",
       "      <td>-0.696393</td>\n",
       "      <td>3.0</td>\n",
       "      <td>-0.795212</td>\n",
       "      <td>-0.394315</td>\n",
       "      <td>1.195670</td>\n",
       "      <td>-0.780278</td>\n",
       "      <td>0.786143</td>\n",
       "      <td>-0.383308</td>\n",
       "      <td>1.163175</td>\n",
       "      <td>-0.513899</td>\n",
       "      <td>1.131332</td>\n",
       "    </tr>\n",
       "    <tr>\n",
       "      <th>108</th>\n",
       "      <td>Paraguay</td>\n",
       "      <td>0.832868</td>\n",
       "      <td>-0.856133</td>\n",
       "      <td>1.081136</td>\n",
       "      <td>-0.551375</td>\n",
       "      <td>3.0</td>\n",
       "      <td>-0.351362</td>\n",
       "      <td>0.510398</td>\n",
       "      <td>-0.344283</td>\n",
       "      <td>0.190412</td>\n",
       "      <td>-0.511187</td>\n",
       "      <td>-0.159103</td>\n",
       "      <td>0.398543</td>\n",
       "      <td>-0.143980</td>\n",
       "      <td>-0.531088</td>\n",
       "    </tr>\n",
       "    <tr>\n",
       "      <th>110</th>\n",
       "      <td>Philippines</td>\n",
       "      <td>2.024352</td>\n",
       "      <td>1.049379</td>\n",
       "      <td>0.888399</td>\n",
       "      <td>-0.401836</td>\n",
       "      <td>3.0</td>\n",
       "      <td>-0.157953</td>\n",
       "      <td>-0.230154</td>\n",
       "      <td>-1.167047</td>\n",
       "      <td>-0.425047</td>\n",
       "      <td>-0.598851</td>\n",
       "      <td>-0.336953</td>\n",
       "      <td>-0.174931</td>\n",
       "      <td>0.140064</td>\n",
       "      <td>-0.591103</td>\n",
       "    </tr>\n",
       "    <tr>\n",
       "      <th>111</th>\n",
       "      <td>Poland</td>\n",
       "      <td>2.272783</td>\n",
       "      <td>0.192886</td>\n",
       "      <td>0.817655</td>\n",
       "      <td>-0.089971</td>\n",
       "      <td>3.0</td>\n",
       "      <td>-0.800171</td>\n",
       "      <td>-0.036808</td>\n",
       "      <td>0.234565</td>\n",
       "      <td>-0.197864</td>\n",
       "      <td>0.241482</td>\n",
       "      <td>-0.579132</td>\n",
       "      <td>0.645924</td>\n",
       "      <td>-1.015931</td>\n",
       "      <td>-0.019868</td>\n",
       "    </tr>\n",
       "    <tr>\n",
       "      <th>112</th>\n",
       "      <td>Portugal</td>\n",
       "      <td>-0.801178</td>\n",
       "      <td>1.303061</td>\n",
       "      <td>1.291916</td>\n",
       "      <td>-0.091468</td>\n",
       "      <td>3.0</td>\n",
       "      <td>-0.852243</td>\n",
       "      <td>-0.408907</td>\n",
       "      <td>1.523320</td>\n",
       "      <td>-0.392002</td>\n",
       "      <td>0.521593</td>\n",
       "      <td>-0.675341</td>\n",
       "      <td>1.039484</td>\n",
       "      <td>-1.029142</td>\n",
       "      <td>0.520268</td>\n",
       "    </tr>\n",
       "    <tr>\n",
       "      <th>113</th>\n",
       "      <td>Romania</td>\n",
       "      <td>1.911474</td>\n",
       "      <td>-0.427380</td>\n",
       "      <td>-0.160578</td>\n",
       "      <td>-0.463930</td>\n",
       "      <td>3.0</td>\n",
       "      <td>-0.663793</td>\n",
       "      <td>-0.310411</td>\n",
       "      <td>-0.449859</td>\n",
       "      <td>-0.334174</td>\n",
       "      <td>0.033993</td>\n",
       "      <td>-0.402228</td>\n",
       "      <td>0.353565</td>\n",
       "      <td>-0.897028</td>\n",
       "      <td>-0.258292</td>\n",
       "    </tr>\n",
       "    <tr>\n",
       "      <th>123</th>\n",
       "      <td>South Africa</td>\n",
       "      <td>0.600272</td>\n",
       "      <td>0.171561</td>\n",
       "      <td>0.230755</td>\n",
       "      <td>-1.122463</td>\n",
       "      <td>3.0</td>\n",
       "      <td>0.382602</td>\n",
       "      <td>-0.456332</td>\n",
       "      <td>0.773366</td>\n",
       "      <td>-0.805062</td>\n",
       "      <td>-0.266867</td>\n",
       "      <td>-0.135453</td>\n",
       "      <td>-1.827884</td>\n",
       "      <td>-0.236460</td>\n",
       "      <td>-0.310123</td>\n",
       "    </tr>\n",
       "    <tr>\n",
       "      <th>125</th>\n",
       "      <td>Spain</td>\n",
       "      <td>-0.467430</td>\n",
       "      <td>1.272510</td>\n",
       "      <td>-0.701382</td>\n",
       "      <td>-0.890072</td>\n",
       "      <td>3.0</td>\n",
       "      <td>-0.854723</td>\n",
       "      <td>-0.569421</td>\n",
       "      <td>0.991799</td>\n",
       "      <td>-0.829845</td>\n",
       "      <td>0.796517</td>\n",
       "      <td>-0.721034</td>\n",
       "      <td>1.275620</td>\n",
       "      <td>-1.042353</td>\n",
       "      <td>0.967654</td>\n",
       "    </tr>\n",
       "    <tr>\n",
       "      <th>126</th>\n",
       "      <td>St. Vincent and the Grenadines</td>\n",
       "      <td>0.305516</td>\n",
       "      <td>-0.078904</td>\n",
       "      <td>0.163147</td>\n",
       "      <td>-0.912769</td>\n",
       "      <td>3.0</td>\n",
       "      <td>-0.435669</td>\n",
       "      <td>-0.518349</td>\n",
       "      <td>-0.853960</td>\n",
       "      <td>0.421725</td>\n",
       "      <td>-0.374762</td>\n",
       "      <td>-0.316141</td>\n",
       "      <td>0.117428</td>\n",
       "      <td>-0.579955</td>\n",
       "      <td>-0.367410</td>\n",
       "    </tr>\n",
       "    <tr>\n",
       "      <th>131</th>\n",
       "      <td>Tajikistan</td>\n",
       "      <td>0.501259</td>\n",
       "      <td>1.403790</td>\n",
       "      <td>0.321252</td>\n",
       "      <td>-1.112667</td>\n",
       "      <td>3.0</td>\n",
       "      <td>0.350367</td>\n",
       "      <td>-0.956113</td>\n",
       "      <td>-0.304237</td>\n",
       "      <td>0.483684</td>\n",
       "      <td>-0.779886</td>\n",
       "      <td>0.446344</td>\n",
       "      <td>-0.107463</td>\n",
       "      <td>0.371263</td>\n",
       "      <td>-0.667050</td>\n",
       "    </tr>\n",
       "  </tbody>\n",
       "</table>\n",
       "</div>"
      ],
      "text/plain": [
       "                            country       PC1       PC2       PC3       PC4  \\\n",
       "4               Antigua and Barbuda  1.028893  0.130097  0.192344 -0.842275   \n",
       "10                          Bahamas  1.262278 -0.663093  0.452173  0.059300   \n",
       "11                          Bahrain  1.665727  0.558714 -1.017109 -0.177980   \n",
       "13                         Barbados  1.076855 -0.485220  0.647580 -0.531959   \n",
       "14                          Belarus  0.581791  0.551733 -0.429355 -1.050560   \n",
       "16                           Belize  0.208717  0.688145  0.229818 -1.087832   \n",
       "18                           Bhutan -0.157122  0.774914  0.268925 -1.043274   \n",
       "20           Bosnia and Herzegovina  0.994795 -0.963264  1.580119 -0.675520   \n",
       "25                          Burundi -0.582492  0.885921  0.471175 -0.806824   \n",
       "28                           Canada -0.159072  0.337665  0.220015 -1.326860   \n",
       "37                      Congo, Rep.  0.938768 -1.336653  0.885279 -0.304223   \n",
       "39                    Cote d'Ivoire  1.144175 -0.846931  0.382266 -0.624528   \n",
       "40                          Croatia  2.165763 -0.009492 -0.294368 -0.293065   \n",
       "41                           Cyprus  2.045979  0.416910  0.530729 -0.419271   \n",
       "49                          Eritrea  1.653467  1.016008  0.097009 -0.862414   \n",
       "50                          Estonia -0.189723  1.064069  0.161888 -0.975755   \n",
       "55                           Gambia  0.324826 -0.503290  1.053856 -0.520176   \n",
       "63                    Guinea-Bissau -0.322657  1.357187  0.471693 -0.861773   \n",
       "65                            Haiti  1.834256  1.272509  0.485182 -0.798781   \n",
       "76                            Japan  0.163133  0.545527  0.614105 -0.411462   \n",
       "79                            Kenya -0.336698  1.302391  0.476003 -0.846219   \n",
       "80                  Kyrgyz Republic  1.167149 -0.259738  0.598295 -1.063084   \n",
       "81                              Lao  0.818227  0.395900 -1.495570 -0.589675   \n",
       "82                           Latvia  1.405422  0.728228  0.411955 -0.776786   \n",
       "83                          Lebanon  0.730325 -0.095216  0.649726 -1.153233   \n",
       "84                            Libya  1.228007  1.599832 -0.540775 -1.077554   \n",
       "85                        Lithuania  1.105888  1.005541  0.271042 -1.098332   \n",
       "87                       Madagascar  0.895214  0.410870  0.352413 -1.072236   \n",
       "88                           Malawi  0.514199  0.186584  1.717685 -0.509158   \n",
       "90                         Maldives  1.024476 -0.254951  1.130969 -0.751977   \n",
       "99                          Myanmar  1.161833  1.113232  0.825282 -0.575902   \n",
       "100                         Namibia  0.117908  0.359391  0.038561 -0.948395   \n",
       "103                     New Zealand  1.213115 -0.660209  0.288122 -0.696393   \n",
       "108                        Paraguay  0.832868 -0.856133  1.081136 -0.551375   \n",
       "110                     Philippines  2.024352  1.049379  0.888399 -0.401836   \n",
       "111                          Poland  2.272783  0.192886  0.817655 -0.089971   \n",
       "112                        Portugal -0.801178  1.303061  1.291916 -0.091468   \n",
       "113                         Romania  1.911474 -0.427380 -0.160578 -0.463930   \n",
       "123                    South Africa  0.600272  0.171561  0.230755 -1.122463   \n",
       "125                           Spain -0.467430  1.272510 -0.701382 -0.890072   \n",
       "126  St. Vincent and the Grenadines  0.305516 -0.078904  0.163147 -0.912769   \n",
       "131                      Tajikistan  0.501259  1.403790  0.321252 -1.112667   \n",
       "\n",
       "     ClusterID  child_mort   exports    health   imports    income  inflation  \\\n",
       "4          3.0   -0.693548  0.160186 -0.286034  0.496076  0.101427  -0.599944   \n",
       "10         3.0   -0.606762 -0.222858  0.391108 -0.131775  0.298542  -0.773348   \n",
       "11         3.0   -0.735702  1.035715 -0.671932  0.165628  1.242620  -0.032338   \n",
       "13         3.0   -0.596843 -0.058696  0.420233  0.074755 -0.095688  -0.705803   \n",
       "14         3.0   -0.812570  0.375420 -0.438937  0.727389 -0.049003   0.692307   \n",
       "16         3.0   -0.482781  0.623487 -0.588200  0.438247 -0.480582  -0.628325   \n",
       "18         3.0    0.109845  0.050745 -0.588200  0.983486 -0.556316  -0.169509   \n",
       "20         3.0   -0.777855 -0.416204  1.559725  0.182150 -0.385137  -0.603728   \n",
       "25         3.0    1.371966 -1.174265  1.741753 -0.317652 -0.849706   0.427424   \n",
       "28         3.0   -0.810090 -0.438092  1.632536 -0.656360  1.221871  -0.464665   \n",
       "37         3.0    0.635522  1.604808 -1.585710  0.322591 -0.620119   1.222073   \n",
       "39         3.0    1.803418  0.346236 -0.551794 -0.148297 -0.749800  -0.226270   \n",
       "40         3.0   -0.812570 -0.128009  0.343781 -0.363088  0.153299  -0.658502   \n",
       "41         3.0   -0.859682  0.331644 -0.307877  0.438247  0.869139  -0.546022   \n",
       "49         3.0    0.419796 -1.324929 -1.512899 -0.974416 -0.815678   0.361203   \n",
       "50         3.0   -0.837366  1.240005 -0.286034  0.900874  0.288167  -0.571564   \n",
       "55         3.0    1.042178 -0.631438 -0.409813 -0.173081 -0.803228  -0.329385   \n",
       "63         3.0    1.877807 -0.956113  0.613182 -0.482875 -0.817234  -0.455205   \n",
       "65         3.0    4.208640 -0.941521  0.034335  0.735650 -0.811528  -0.220594   \n",
       "76         3.0   -0.869601 -0.952465  0.973597 -1.375084  0.967696  -0.915912   \n",
       "79         3.0    0.593369 -0.744527 -0.752024 -0.548965 -0.760693  -0.538453   \n",
       "80         3.0   -0.214984  0.382716 -0.231426  1.437851 -0.744612   0.209841   \n",
       "81         3.0    1.007464 -0.208266 -0.853960  0.099538 -0.682884   0.134160   \n",
       "82         3.0   -0.755538  0.459325 -0.049398  0.339113  0.059929  -0.812986   \n",
       "83         3.0   -0.693548 -0.193673  0.078021  0.549773 -0.043816  -0.713655   \n",
       "84         3.0   -0.537333  0.893441 -1.068752 -0.197864  0.646087   0.607166   \n",
       "85         3.0   -0.797692  0.882497  0.081662  0.838915  0.205172  -0.511019   \n",
       "87         3.0    0.593369 -0.587661 -1.108798 -0.160689 -0.817234   0.095374   \n",
       "88         3.0    1.295099 -0.667918 -0.082163 -0.495267 -0.835908   0.408503   \n",
       "90         3.0   -0.621640  1.331206 -0.176817  0.764564 -0.344676  -0.463719   \n",
       "99         3.0    0.647920 -1.495694 -1.764097 -1.934123 -0.696371  -0.070178   \n",
       "100        3.0    0.439633  0.244091 -0.012993  0.570426 -0.450496  -0.399390   \n",
       "103        3.0   -0.795212 -0.394315  1.195670 -0.780278  0.786143  -0.383308   \n",
       "108        3.0   -0.351362  0.510398 -0.344283  0.190412 -0.511187  -0.159103   \n",
       "110        3.0   -0.157953 -0.230154 -1.167047 -0.425047 -0.598851  -0.336953   \n",
       "111        3.0   -0.800171 -0.036808  0.234565 -0.197864  0.241482  -0.579132   \n",
       "112        3.0   -0.852243 -0.408907  1.523320 -0.392002  0.521593  -0.675341   \n",
       "113        3.0   -0.663793 -0.310411 -0.449859 -0.334174  0.033993  -0.402228   \n",
       "123        3.0    0.382602 -0.456332  0.773366 -0.805062 -0.266867  -0.135453   \n",
       "125        3.0   -0.854723 -0.569421  0.991799 -0.829845  0.796517  -0.721034   \n",
       "126        3.0   -0.435669 -0.518349 -0.853960  0.421725 -0.374762  -0.316141   \n",
       "131        3.0    0.350367 -0.956113 -0.304237  0.483684 -0.779886   0.446344   \n",
       "\n",
       "     life_expec  total_fer      gdpp  \n",
       "4      0.702147  -0.540321 -0.041692  \n",
       "10     0.364809  -0.718675  0.820344  \n",
       "11     0.612190  -0.520504  0.422062  \n",
       "13     0.690902  -0.771520  0.165633  \n",
       "14    -0.017507  -0.963085 -0.378322  \n",
       "16     0.094939  -0.157192 -0.470527  \n",
       "18     0.173651  -0.375179 -0.588375  \n",
       "20     0.702147  -1.081987 -0.455796  \n",
       "25    -1.445568   2.187827 -0.694711  \n",
       "28     1.208153  -0.870606  1.878793  \n",
       "37    -1.141965   1.322482 -0.557822  \n",
       "39    -1.602993   1.533864 -0.640752  \n",
       "40     0.645924  -0.923451  0.029235  \n",
       "41     1.050729  -1.009325  0.973110  \n",
       "49    -0.995785   1.097889 -0.681017  \n",
       "50     0.612190  -0.811154  0.089250  \n",
       "55    -0.568491   1.824514 -0.676652  \n",
       "63    -1.681705   1.388539 -0.677470  \n",
       "65    -4.324181   0.252361 -0.671196  \n",
       "76     1.376822  -1.029142  1.720571  \n",
       "79    -0.872095   0.939352 -0.654556  \n",
       "80    -0.231154   0.100430 -0.659302  \n",
       "81    -0.759649   0.133459 -0.645117  \n",
       "82     0.286097  -1.048959 -0.090795  \n",
       "83     1.039484  -0.883817 -0.223920  \n",
       "84     0.623435  -0.355362 -0.047148  \n",
       "85     0.297342  -0.956479 -0.052604  \n",
       "87    -1.096986   1.091283 -0.684781  \n",
       "88    -1.962819   1.560287 -0.682272  \n",
       "90     0.825837  -0.474264 -0.319944  \n",
       "99    -0.422311  -0.355362 -0.653410  \n",
       "100   -1.344367   0.430714 -0.424152  \n",
       "103    1.163175  -0.513899  1.131332  \n",
       "108    0.398543  -0.143980 -0.531088  \n",
       "110   -0.174931   0.140064 -0.591103  \n",
       "111    0.645924  -1.015931 -0.019868  \n",
       "112    1.039484  -1.029142  0.520268  \n",
       "113    0.353565  -0.897028 -0.258292  \n",
       "123   -1.827884  -0.236460 -0.310123  \n",
       "125    1.275620  -1.042353  0.967654  \n",
       "126    0.117428  -0.579955 -0.367410  \n",
       "131   -0.107463   0.371263 -0.667050  "
      ]
     },
     "execution_count": 121,
     "metadata": {},
     "output_type": "execute_result"
    }
   ],
   "source": [
    "df_pca_cluster.loc[df_pca_cluster['ClusterID'] == 3]"
   ]
  },
  {
   "cell_type": "markdown",
   "metadata": {},
   "source": [
    "We have 18 countries for cluster id 3 which need the aid most "
   ]
  },
  {
   "cell_type": "markdown",
   "metadata": {},
   "source": [
    "Impt. Note: Results will vary every time this model will be run. Results published here at the time of code run."
   ]
  }
 ],
 "metadata": {
  "kernelspec": {
   "display_name": "Python 3",
   "language": "python",
   "name": "python3"
  },
  "language_info": {
   "codemirror_mode": {
    "name": "ipython",
    "version": 3
   },
   "file_extension": ".py",
   "mimetype": "text/x-python",
   "name": "python",
   "nbconvert_exporter": "python",
   "pygments_lexer": "ipython3",
   "version": "3.7.0"
  }
 },
 "nbformat": 4,
 "nbformat_minor": 2
}
